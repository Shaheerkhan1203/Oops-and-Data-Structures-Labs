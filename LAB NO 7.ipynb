{
 "cells": [
  {
   "cell_type": "markdown",
   "id": "b3e25640",
   "metadata": {},
   "source": [
    "### 1. Make different objects of different classes and call different method and observe the output. "
   ]
  },
  {
   "cell_type": "code",
   "execution_count": 49,
   "id": "6cf7a6bb",
   "metadata": {},
   "outputs": [],
   "source": [
    "class Employee:#STILL LECTURE 23 MULTI LEVEL INHERITANCE\n",
    "    raise_amount=1.1\n",
    "    total_emp=0\n",
    "    def __init__(self,fname,lname,pay):\n",
    "        self.fname=fname\n",
    "        self.lname=lname\n",
    "        self.pay=pay\n",
    "        self.email=f\"{self.fname.lower()}.{self.lname.lower()}@uet.edu.pk\"\n",
    "        Employee.total_emp+=1\n",
    "    def raise_pay(self):\n",
    "        self.pay*=self.raise_amount\n",
    "    def __repr__(self):\n",
    "        return f'{self.fname}{self.lname}'\n"
   ]
  },
  {
   "cell_type": "code",
   "execution_count": 50,
   "id": "f5280d34",
   "metadata": {},
   "outputs": [],
   "source": [
    "class Instructor(Employee):\n",
    "    def __init__(self,fname,lname,pay,design):\n",
    "        super().__init__(fname,lname,pay)\n",
    "        self.design=design\n",
    "        self.courses=[]\n",
    "    def assignCourse(self,*Subj):\n",
    "        self.courses=list(set(self.courses+list(Subj)))"
   ]
  },
  {
   "cell_type": "code",
   "execution_count": 51,
   "id": "ac26beec",
   "metadata": {},
   "outputs": [],
   "source": [
    "class LabDirector(Instructor):\n",
    "    def __init__(self,fname,lname,pay,design,lab,*labEmp):\n",
    "        super().__init__(fname,lname,pay,design)\n",
    "        self.lab=lab\n",
    "        self.labEmp=(labEmp)\n",
    "    def assignCourse(self,*subj):\n",
    "        super().assignCourse(*subj)\n",
    "        for ins in self.labEmp:\n",
    "            ins.assignCourse(*subj)\n",
    "    def addlabEmployee(self,ins):\n",
    "         self.labEmp.append(ins)\n",
    "    def droplabEmployee(self,ins):\n",
    "        self.labEmp.remove(ins)"
   ]
  },
  {
   "cell_type": "code",
   "execution_count": 52,
   "id": "305d642e",
   "metadata": {},
   "outputs": [],
   "source": [
    "class AdminStaff(Employee):#Inherit From Parent Class'''\n",
    "    raise_amount=1.5\n",
    "    allAdminStaff=[]\n",
    "    def __init__(self,fname,lname,pay,team=None):\n",
    "        super().__init__(fname,lname,pay)\n",
    "        self.team=team\n",
    "        self.task=[]\n",
    "        AdminStaff.allAdminStaff.append(self)\n",
    "    def assignTask(self,*Task):\n",
    "        self.task=list(set(self.task+list(Task)))\n"
   ]
  },
  {
   "cell_type": "code",
   "execution_count": 53,
   "id": "04ffa0b4",
   "metadata": {},
   "outputs": [],
   "source": [
    "class AdminOfficer(AdminStaff):\n",
    "    def __init__(self,fname,lname,pay,team):\n",
    "        super().__init__(fname,lname,pay,team)\n",
    "    @property\n",
    "    def teamMem(self):\n",
    "        return list(filter(lambda s:s.team==self.team,AdminStaff.allAdminStaff))"
   ]
  },
  {
   "cell_type": "code",
   "execution_count": 81,
   "id": "b2834f29",
   "metadata": {},
   "outputs": [],
   "source": [
    "a=Employee(\"Adil\",\"Durrani\",260000)"
   ]
  },
  {
   "cell_type": "code",
   "execution_count": 82,
   "id": "74fbc5bf",
   "metadata": {},
   "outputs": [
    {
     "data": {
      "text/plain": [
       "AdilDurrani"
      ]
     },
     "execution_count": 82,
     "metadata": {},
     "output_type": "execute_result"
    }
   ],
   "source": [
    "a"
   ]
  },
  {
   "cell_type": "code",
   "execution_count": 83,
   "id": "8a741fac",
   "metadata": {},
   "outputs": [
    {
     "name": "stdout",
     "output_type": "stream",
     "text": [
      "286000.0\n"
     ]
    }
   ],
   "source": [
    "a.raise_pay()\n",
    "print(a.pay)"
   ]
  },
  {
   "cell_type": "code",
   "execution_count": 84,
   "id": "76c89615",
   "metadata": {},
   "outputs": [
    {
     "name": "stdout",
     "output_type": "stream",
     "text": [
      "adil.durrani@uet.edu.pk\n"
     ]
    }
   ],
   "source": [
    "print(a.email)"
   ]
  },
  {
   "cell_type": "code",
   "execution_count": 85,
   "id": "8e32163a",
   "metadata": {},
   "outputs": [],
   "source": [
    "b=Instructor(\"Abubakar\",\"Durrani\",260000,\"RLC circuit\")"
   ]
  },
  {
   "cell_type": "code",
   "execution_count": 86,
   "id": "ea5345c9",
   "metadata": {},
   "outputs": [
    {
     "data": {
      "text/plain": [
       "AbubakarDurrani"
      ]
     },
     "execution_count": 86,
     "metadata": {},
     "output_type": "execute_result"
    }
   ],
   "source": [
    "b"
   ]
  },
  {
   "cell_type": "code",
   "execution_count": 87,
   "id": "2e4dfc26",
   "metadata": {},
   "outputs": [
    {
     "name": "stdout",
     "output_type": "stream",
     "text": [
      "286000.0\n"
     ]
    }
   ],
   "source": [
    "b.raise_pay()\n",
    "print(b.pay)"
   ]
  },
  {
   "cell_type": "code",
   "execution_count": 88,
   "id": "45c1890c",
   "metadata": {},
   "outputs": [],
   "source": [
    "c=LabDirector(\"Shayan\",\"Khan\",260000,\"Flipflop\",\"DLD\")"
   ]
  },
  {
   "cell_type": "code",
   "execution_count": 89,
   "id": "63fea695",
   "metadata": {},
   "outputs": [
    {
     "data": {
      "text/plain": [
       "ShayanKhan"
      ]
     },
     "execution_count": 89,
     "metadata": {},
     "output_type": "execute_result"
    }
   ],
   "source": [
    "c"
   ]
  },
  {
   "cell_type": "code",
   "execution_count": null,
   "id": "20f10189",
   "metadata": {},
   "outputs": [],
   "source": []
  },
  {
   "cell_type": "code",
   "execution_count": null,
   "id": "a0597460",
   "metadata": {},
   "outputs": [],
   "source": []
  },
  {
   "cell_type": "code",
   "execution_count": null,
   "id": "99530363",
   "metadata": {},
   "outputs": [],
   "source": []
  }
 ],
 "metadata": {
  "kernelspec": {
   "display_name": "Python 3 (ipykernel)",
   "language": "python",
   "name": "python3"
  },
  "language_info": {
   "codemirror_mode": {
    "name": "ipython",
    "version": 3
   },
   "file_extension": ".py",
   "mimetype": "text/x-python",
   "name": "python",
   "nbconvert_exporter": "python",
   "pygments_lexer": "ipython3",
   "version": "3.11.5"
  }
 },
 "nbformat": 4,
 "nbformat_minor": 5
}
