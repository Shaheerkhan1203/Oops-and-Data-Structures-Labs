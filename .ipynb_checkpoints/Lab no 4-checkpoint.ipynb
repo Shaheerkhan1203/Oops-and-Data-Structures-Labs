{
 "cells": [
  {
   "cell_type": "markdown",
   "id": "c0ba9c6e",
   "metadata": {},
   "source": [
    "# Consider the point class below."
   ]
  },
  {
   "cell_type": "code",
   "execution_count": 2,
   "id": "c505b723",
   "metadata": {},
   "outputs": [],
   "source": [
    "import math\n",
    "class Point:\n",
    "    def __init__(self, x, y):\n",
    "        self.x = x\n",
    "        self.y = y\n",
    "    def distance(self, p2):\n",
    "        return math.sqrt((self.x-p2.x)**2 + (self.y-p2.y)**2)"
   ]
  },
  {
   "cell_type": "markdown",
   "id": "275b7d2f",
   "metadata": {},
   "source": [
    "## a. Define point1 and pass two number. "
   ]
  },
  {
   "cell_type": "code",
   "execution_count": 3,
   "id": "7f4c0948",
   "metadata": {},
   "outputs": [],
   "source": [
    "point1 = Point(1, 2)"
   ]
  },
  {
   "cell_type": "markdown",
   "id": "c8bbfd7c",
   "metadata": {},
   "source": [
    "## b. Make another instance of the point class, say its name is p2."
   ]
  },
  {
   "cell_type": "code",
   "execution_count": 4,
   "id": "dcb37123",
   "metadata": {},
   "outputs": [],
   "source": [
    "p2 = Point(4,7)"
   ]
  },
  {
   "cell_type": "markdown",
   "id": "a3983f5d",
   "metadata": {},
   "source": [
    "## c. Print p1 and p2, for this use print command and pass the point as input"
   ]
  },
  {
   "cell_type": "code",
   "execution_count": 5,
   "id": "7684c083",
   "metadata": {},
   "outputs": [
    {
     "name": "stdout",
     "output_type": "stream",
     "text": [
      "<__main__.Point object at 0x000001AB9E85E550>\n"
     ]
    }
   ],
   "source": [
    "print(point1)"
   ]
  },
  {
   "cell_type": "code",
   "execution_count": 7,
   "id": "5bf76f5d",
   "metadata": {},
   "outputs": [
    {
     "name": "stdout",
     "output_type": "stream",
     "text": [
      "<__main__.Point object at 0x000001AB9EC40210>\n"
     ]
    }
   ],
   "source": [
    "print(p2)"
   ]
  },
  {
   "cell_type": "markdown",
   "id": "5c1b6f7f",
   "metadata": {},
   "source": [
    "## d. Print the coordinate by using object and dot operator."
   ]
  },
  {
   "cell_type": "code",
   "execution_count": 8,
   "id": "5ba70440",
   "metadata": {},
   "outputs": [
    {
     "name": "stdout",
     "output_type": "stream",
     "text": [
      "Coordinates of point1 are (1, 2)\n"
     ]
    }
   ],
   "source": [
    "print('Coordinates of point1 are',(point1.x,point1.y))"
   ]
  },
  {
   "cell_type": "code",
   "execution_count": 9,
   "id": "0d454c3c",
   "metadata": {},
   "outputs": [
    {
     "name": "stdout",
     "output_type": "stream",
     "text": [
      "Coordinates of p2 are (4, 7)\n"
     ]
    }
   ],
   "source": [
    "print('Coordinates of p2 are',(p2.x,p2.y))"
   ]
  },
  {
   "cell_type": "markdown",
   "id": "9e81b038",
   "metadata": {},
   "source": [
    "## e. Add a new method to the point class that can print the points in effective way. Print both the point using that function. "
   ]
  },
  {
   "cell_type": "code",
   "execution_count": 12,
   "id": "6affaa26",
   "metadata": {},
   "outputs": [
    {
     "name": "stdout",
     "output_type": "stream",
     "text": [
      "Coordinates are x = 1 and y = 2\n"
     ]
    }
   ],
   "source": [
    "def print_effective(self):\n",
    "    print(f\"Coordinates are x = {self.x} and y = {self.y}\")\n",
    "\n",
    "print_effective(point1)"
   ]
  },
  {
   "cell_type": "code",
   "execution_count": 13,
   "id": "ce31d92e",
   "metadata": {},
   "outputs": [
    {
     "name": "stdout",
     "output_type": "stream",
     "text": [
      "Coordinates are x = 4 and y = 7\n"
     ]
    }
   ],
   "source": [
    "print_effective(p2)"
   ]
  },
  {
   "cell_type": "markdown",
   "id": "2d9b96c8",
   "metadata": {},
   "source": [
    "## f. Calculate the distance between these two pints. "
   ]
  },
  {
   "cell_type": "code",
   "execution_count": 15,
   "id": "37178e45",
   "metadata": {},
   "outputs": [
    {
     "name": "stdout",
     "output_type": "stream",
     "text": [
      "Distance between point1 and p2 are  5.830951894845301\n"
     ]
    }
   ],
   "source": [
    "distance = point1.distance(p2)\n",
    "print(f\"Distance between point1 and p2 are  {distance}\")"
   ]
  },
  {
   "cell_type": "code",
   "execution_count": 16,
   "id": "a3757741",
   "metadata": {},
   "outputs": [
    {
     "name": "stdout",
     "output_type": "stream",
     "text": [
      "Distance between point1 and p2 are  5.830951894845301\n"
     ]
    }
   ],
   "source": [
    "distance = p2.distance(point1)\n",
    "print(f\"Distance between point1 and p2 are  {distance}\")"
   ]
  },
  {
   "cell_type": "code",
   "execution_count": null,
   "id": "dda50109",
   "metadata": {},
   "outputs": [],
   "source": []
  }
 ],
 "metadata": {
  "kernelspec": {
   "display_name": "Python 3 (ipykernel)",
   "language": "python",
   "name": "python3"
  },
  "language_info": {
   "codemirror_mode": {
    "name": "ipython",
    "version": 3
   },
   "file_extension": ".py",
   "mimetype": "text/x-python",
   "name": "python",
   "nbconvert_exporter": "python",
   "pygments_lexer": "ipython3",
   "version": "3.11.5"
  }
 },
 "nbformat": 4,
 "nbformat_minor": 5
}
