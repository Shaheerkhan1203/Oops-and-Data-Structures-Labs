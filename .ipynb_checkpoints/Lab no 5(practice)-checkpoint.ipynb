{
 "cells": [
  {
   "cell_type": "markdown",
   "id": "b62fa022",
   "metadata": {},
   "source": [
    "### 2. Consider the following class. When a class defines an __init__() method, class instantiation automatically invokes __init__() for the newly created class instance. "
   ]
  },
  {
   "cell_type": "code",
   "execution_count": 21,
   "id": "fb30aca1",
   "metadata": {},
   "outputs": [],
   "source": [
    "class MyClass:\n",
    "    \"\"\"A simple example class\"\"\"\n",
    "    i = 12345\n",
    "    def __init__(self):\n",
    "        self.data = 11\n",
    "    def f(self):\n",
    "        return 'hello world'"
   ]
  },
  {
   "cell_type": "markdown",
   "id": "b5494b8c",
   "metadata": {},
   "source": [
    "### a. Let's define an instance of the class and print the data attribute of it. "
   ]
  },
  {
   "cell_type": "code",
   "execution_count": 22,
   "id": "f841d176",
   "metadata": {},
   "outputs": [
    {
     "name": "stdout",
     "output_type": "stream",
     "text": [
      "11\n"
     ]
    }
   ],
   "source": [
    "obj = MyClass()\n",
    "print(obj.data)"
   ]
  },
  {
   "cell_type": "markdown",
   "id": "f552e6f7",
   "metadata": {},
   "source": [
    "### b. Let pass a value in the object instantiation step like obj = MyClass(10)."
   ]
  },
  {
   "cell_type": "code",
   "execution_count": 23,
   "id": "6758ce80",
   "metadata": {},
   "outputs": [
    {
     "ename": "TypeError",
     "evalue": "MyClass.__init__() takes 1 positional argument but 2 were given",
     "output_type": "error",
     "traceback": [
      "\u001b[1;31m---------------------------------------------------------------------------\u001b[0m",
      "\u001b[1;31mTypeError\u001b[0m                                 Traceback (most recent call last)",
      "Cell \u001b[1;32mIn[23], line 1\u001b[0m\n\u001b[1;32m----> 1\u001b[0m obj \u001b[38;5;241m=\u001b[39m MyClass(\u001b[38;5;241m10\u001b[39m)\n",
      "\u001b[1;31mTypeError\u001b[0m: MyClass.__init__() takes 1 positional argument but 2 were given"
     ]
    }
   ],
   "source": [
    "obj = MyClass(10)"
   ]
  },
  {
   "cell_type": "markdown",
   "id": "7e8014ec",
   "metadata": {},
   "source": [
    "### c. Modify the __init__ method as: "
   ]
  },
  {
   "cell_type": "code",
   "execution_count": 24,
   "id": "7af55699",
   "metadata": {},
   "outputs": [],
   "source": [
    "class MyClass:\n",
    "    i = 92303\n",
    "    def __init__(self,dt):\n",
    "        self.dt=dt\n",
    "    def f(self):\n",
    "        return 'hello world'"
   ]
  },
  {
   "cell_type": "markdown",
   "id": "9e35fec8",
   "metadata": {},
   "source": [
    "### Now run the obj = MyClass(10)."
   ]
  },
  {
   "cell_type": "code",
   "execution_count": 25,
   "id": "70b5f537",
   "metadata": {},
   "outputs": [],
   "source": [
    "obj = MyClass(10)"
   ]
  },
  {
   "cell_type": "markdown",
   "id": "4aeb13fc",
   "metadata": {},
   "source": [
    "### 3. Dog class"
   ]
  },
  {
   "cell_type": "code",
   "execution_count": 60,
   "id": "f75e74c8",
   "metadata": {
    "scrolled": true
   },
   "outputs": [],
   "source": [
    "class Dog:\n",
    "    def __init__(self,name,age):\n",
    "        self.name=name\n",
    "        self.age=age"
   ]
  },
  {
   "cell_type": "markdown",
   "id": "717f0658",
   "metadata": {},
   "source": [
    "### a. To instantiate an object, type the name of the class, in the original CamelCase, followed by parentheses containing any values that must be passed to the class’s .__init__() method.Run the following code. \n",
    "### miles = Dog(\"Miles\", 4)"
   ]
  },
  {
   "cell_type": "code",
   "execution_count": 61,
   "id": "ad10713c",
   "metadata": {},
   "outputs": [],
   "source": [
    "miles=Dog(\"Miles\",4)"
   ]
  },
  {
   "cell_type": "markdown",
   "id": "8a0a20a0",
   "metadata": {},
   "source": [
    "### b. Make another object of the class Dog. The object's name is buddy while the dog's name is Buddy and age 9."
   ]
  },
  {
   "cell_type": "code",
   "execution_count": 62,
   "id": "9d4e95b5",
   "metadata": {},
   "outputs": [],
   "source": [
    "buddy = Dog(\"Buddy\",9)"
   ]
  },
  {
   "cell_type": "markdown",
   "id": "8a5ff15c",
   "metadata": {},
   "source": [
    "### c. Print(miles.name)"
   ]
  },
  {
   "cell_type": "code",
   "execution_count": 63,
   "id": "b20218a3",
   "metadata": {},
   "outputs": [
    {
     "name": "stdout",
     "output_type": "stream",
     "text": [
      "Miles\n"
     ]
    }
   ],
   "source": [
    "print(miles.name)"
   ]
  },
  {
   "cell_type": "markdown",
   "id": "ddfddcaf",
   "metadata": {},
   "source": [
    "### d. Print(miles.age)"
   ]
  },
  {
   "cell_type": "code",
   "execution_count": 64,
   "id": "3105d873",
   "metadata": {},
   "outputs": [
    {
     "name": "stdout",
     "output_type": "stream",
     "text": [
      "4\n"
     ]
    }
   ],
   "source": [
    "print(miles.age)"
   ]
  },
  {
   "cell_type": "markdown",
   "id": "8563cb4a",
   "metadata": {},
   "source": [
    "### e. Let if you enter the age of miles wrong and you are interested in amending it with 7, which is the correct age. You can modify it. Please modify it. After modification printthe age of miles and buddy. "
   ]
  },
  {
   "cell_type": "code",
   "execution_count": 65,
   "id": "a7e21d7a",
   "metadata": {},
   "outputs": [
    {
     "name": "stdout",
     "output_type": "stream",
     "text": [
      "7\n"
     ]
    }
   ],
   "source": [
    "miles.age=7\n",
    "print(miles.age)"
   ]
  },
  {
   "cell_type": "markdown",
   "id": "9fcd8502",
   "metadata": {},
   "source": [
    "### f. Print all the class and instance attributes of both objects and observe. "
   ]
  },
  {
   "cell_type": "code",
   "execution_count": null,
   "id": "34ce7232",
   "metadata": {},
   "outputs": [],
   "source": []
  },
  {
   "cell_type": "markdown",
   "id": "db22e012",
   "metadata": {},
   "source": [
    "### g. Make a new instance and print its attributes. "
   ]
  },
  {
   "cell_type": "code",
   "execution_count": 66,
   "id": "eba5b689",
   "metadata": {},
   "outputs": [
    {
     "name": "stdout",
     "output_type": "stream",
     "text": [
      "a , 9\n"
     ]
    }
   ],
   "source": [
    "a=Dog('a',9)\n",
    "print(a.name,',' ,a.age)"
   ]
  },
  {
   "cell_type": "markdown",
   "id": "08fd9d17",
   "metadata": {},
   "source": [
    "### h. Run: miles = Dog(\"Miles\")"
   ]
  },
  {
   "cell_type": "code",
   "execution_count": 67,
   "id": "87002af4",
   "metadata": {},
   "outputs": [
    {
     "ename": "TypeError",
     "evalue": "Dog.__init__() missing 1 required positional argument: 'age'",
     "output_type": "error",
     "traceback": [
      "\u001b[1;31m---------------------------------------------------------------------------\u001b[0m",
      "\u001b[1;31mTypeError\u001b[0m                                 Traceback (most recent call last)",
      "Cell \u001b[1;32mIn[67], line 1\u001b[0m\n\u001b[1;32m----> 1\u001b[0m miles \u001b[38;5;241m=\u001b[39m Dog(\u001b[38;5;124m\"\u001b[39m\u001b[38;5;124mMiles\u001b[39m\u001b[38;5;124m\"\u001b[39m)\n",
      "\u001b[1;31mTypeError\u001b[0m: Dog.__init__() missing 1 required positional argument: 'age'"
     ]
    }
   ],
   "source": [
    "miles = Dog(\"Miles\")"
   ]
  },
  {
   "cell_type": "markdown",
   "id": "1c01b26c",
   "metadata": {},
   "source": [
    "### i. Run: miles = Dog(4)"
   ]
  },
  {
   "cell_type": "code",
   "execution_count": 68,
   "id": "13efb5f0",
   "metadata": {},
   "outputs": [
    {
     "ename": "TypeError",
     "evalue": "Dog.__init__() missing 1 required positional argument: 'age'",
     "output_type": "error",
     "traceback": [
      "\u001b[1;31m---------------------------------------------------------------------------\u001b[0m",
      "\u001b[1;31mTypeError\u001b[0m                                 Traceback (most recent call last)",
      "Cell \u001b[1;32mIn[68], line 1\u001b[0m\n\u001b[1;32m----> 1\u001b[0m miles \u001b[38;5;241m=\u001b[39m Dog(\u001b[38;5;241m4\u001b[39m)\n",
      "\u001b[1;31mTypeError\u001b[0m: Dog.__init__() missing 1 required positional argument: 'age'"
     ]
    }
   ],
   "source": [
    "miles = Dog(4)"
   ]
  },
  {
   "cell_type": "markdown",
   "id": "485d76f3",
   "metadata": {},
   "source": [
    "### j. Run: Dog(\"Miles\", 4)"
   ]
  },
  {
   "cell_type": "code",
   "execution_count": 69,
   "id": "5e31a9db",
   "metadata": {},
   "outputs": [
    {
     "data": {
      "text/plain": [
       "<__main__.Dog at 0x1e063e7c490>"
      ]
     },
     "execution_count": 69,
     "metadata": {},
     "output_type": "execute_result"
    }
   ],
   "source": [
    "Dog(\"Miles\", 4)"
   ]
  },
  {
   "cell_type": "markdown",
   "id": "3ab11623",
   "metadata": {},
   "source": [
    "### 4. Dog "
   ]
  },
  {
   "cell_type": "code",
   "execution_count": 74,
   "id": "260f0e5a",
   "metadata": {},
   "outputs": [],
   "source": [
    "class Dog:\n",
    "    species = \"Canis familiaris\"\n",
    "    def __init__(self, name, age): \n",
    "        self.name = name\n",
    "        self.age = age"
   ]
  },
  {
   "cell_type": "markdown",
   "id": "46fa83a3",
   "metadata": {},
   "source": [
    "### a. Make two objects of the Dog class. "
   ]
  },
  {
   "cell_type": "code",
   "execution_count": 75,
   "id": "d1d07a25",
   "metadata": {},
   "outputs": [],
   "source": [
    "a=Dog(\"miles\",21)\n",
    "b=Dog(\"buddy\",34)"
   ]
  },
  {
   "cell_type": "markdown",
   "id": "d64387fc",
   "metadata": {},
   "source": [
    "### b. Print the class attribute of both objects. "
   ]
  },
  {
   "cell_type": "code",
   "execution_count": 76,
   "id": "c9b15362",
   "metadata": {},
   "outputs": [
    {
     "name": "stdout",
     "output_type": "stream",
     "text": [
      "name is  miles and age is  21\n",
      "name is  buddy and age is  34\n"
     ]
    }
   ],
   "source": [
    "print(\"name is \",a.name,\"and age is \",a.age)\n",
    "print(\"name is \",b.name,\"and age is \",b.age)\n"
   ]
  },
  {
   "cell_type": "markdown",
   "id": "f6d36c0f",
   "metadata": {},
   "source": [
    "### c. Run this code: buddy.species == miles.species"
   ]
  },
  {
   "cell_type": "code",
   "execution_count": 77,
   "id": "d5b3e82f",
   "metadata": {},
   "outputs": [
    {
     "data": {
      "text/plain": [
       "True"
      ]
     },
     "execution_count": 77,
     "metadata": {},
     "output_type": "execute_result"
    }
   ],
   "source": [
    "a.species == b.species"
   ]
  },
  {
   "cell_type": "markdown",
   "id": "ba095fcf",
   "metadata": {},
   "source": [
    "### d. Modify the class attribute by Felis silvestris. Now print it for both instances. "
   ]
  },
  {
   "cell_type": "code",
   "execution_count": 78,
   "id": "88449c07",
   "metadata": {},
   "outputs": [
    {
     "name": "stdout",
     "output_type": "stream",
     "text": [
      "Felis silvestris   , Felis silvestris\n"
     ]
    }
   ],
   "source": [
    "Dog.species=\"Felis silvestris\"\n",
    "print(a.species,'  ,',b.species)"
   ]
  },
  {
   "cell_type": "markdown",
   "id": "ecba2f7f",
   "metadata": {},
   "source": [
    "### e. Again Run this code: buddy.species == miles.species"
   ]
  },
  {
   "cell_type": "code",
   "execution_count": 79,
   "id": "8a282a3c",
   "metadata": {},
   "outputs": [
    {
     "data": {
      "text/plain": [
       "True"
      ]
     },
     "execution_count": 79,
     "metadata": {},
     "output_type": "execute_result"
    }
   ],
   "source": [
    "a.species == b.species"
   ]
  },
  {
   "cell_type": "markdown",
   "id": "7af67470",
   "metadata": {},
   "source": [
    "### 5. Consider the complex number class. "
   ]
  },
  {
   "cell_type": "code",
   "execution_count": 80,
   "id": "4f51fa64",
   "metadata": {},
   "outputs": [],
   "source": [
    "class Complex:\n",
    "    def __init__(self, realpart, imagpart):\n",
    "        self.r = realpart\n",
    "        self.i = imagpart"
   ]
  },
  {
   "cell_type": "markdown",
   "id": "6bf9ced4",
   "metadata": {},
   "source": [
    "### f. Define an object x = Complex"
   ]
  },
  {
   "cell_type": "code",
   "execution_count": 81,
   "id": "a999c20e",
   "metadata": {},
   "outputs": [],
   "source": [
    "x = Complex"
   ]
  },
  {
   "cell_type": "markdown",
   "id": "37ef75f0",
   "metadata": {},
   "source": [
    "### g. Define an object x = Complex(3.0)"
   ]
  },
  {
   "cell_type": "code",
   "execution_count": 82,
   "id": "190e8a21",
   "metadata": {},
   "outputs": [
    {
     "ename": "TypeError",
     "evalue": "Complex.__init__() missing 1 required positional argument: 'imagpart'",
     "output_type": "error",
     "traceback": [
      "\u001b[1;31m---------------------------------------------------------------------------\u001b[0m",
      "\u001b[1;31mTypeError\u001b[0m                                 Traceback (most recent call last)",
      "Cell \u001b[1;32mIn[82], line 1\u001b[0m\n\u001b[1;32m----> 1\u001b[0m x \u001b[38;5;241m=\u001b[39m Complex(\u001b[38;5;241m3.0\u001b[39m)\n",
      "\u001b[1;31mTypeError\u001b[0m: Complex.__init__() missing 1 required positional argument: 'imagpart'"
     ]
    }
   ],
   "source": [
    "x = Complex(3.0)"
   ]
  },
  {
   "cell_type": "markdown",
   "id": "234ae2a0",
   "metadata": {},
   "source": [
    "### h. Define an object x = Complex(3.0, -4.5)"
   ]
  },
  {
   "cell_type": "code",
   "execution_count": 83,
   "id": "0737682b",
   "metadata": {},
   "outputs": [],
   "source": [
    "x = Complex(3.0, -4.5)"
   ]
  },
  {
   "cell_type": "markdown",
   "id": "5869c1f9",
   "metadata": {},
   "source": [
    "### i. Print (x.r, x.i)"
   ]
  },
  {
   "cell_type": "code",
   "execution_count": 87,
   "id": "0a1ed127",
   "metadata": {},
   "outputs": [
    {
     "name": "stdout",
     "output_type": "stream",
     "text": [
      "3.0    ,  -4.5\n"
     ]
    }
   ],
   "source": [
    "print (x.r,'   , ', x.i)"
   ]
  },
  {
   "cell_type": "markdown",
   "id": "4123a11b",
   "metadata": {},
   "source": [
    "### j. Define an appropriate print method that can effectively print the complex number. Use it to print x."
   ]
  },
  {
   "cell_type": "code",
   "execution_count": 92,
   "id": "21bf1a1f",
   "metadata": {},
   "outputs": [
    {
     "name": "stdout",
     "output_type": "stream",
     "text": [
      "real part: 3.0 , imagnary part : -4.5 \n"
     ]
    }
   ],
   "source": [
    "def printdetails(self):\n",
    "        print(f\"real part: {self.r} , imagnary part : {self.i} \")\n",
    "printdetails(x)"
   ]
  },
  {
   "cell_type": "markdown",
   "id": "d517c6b4",
   "metadata": {},
   "source": [
    "### 6. Consider the following class example. "
   ]
  },
  {
   "cell_type": "code",
   "execution_count": 100,
   "id": "4e3b2bbc",
   "metadata": {},
   "outputs": [],
   "source": [
    "class Totyota:\n",
    "    def __init__(self,name,color,model):\n",
    "        self.name=name\n",
    "        self.color=color\n",
    "        self.model=model\n",
    "    def printdetails(self):\n",
    "        print(f\"Car Company is: {self.name} , Car Color is :{self.color} , Car model is {self.model} \")"
   ]
  },
  {
   "cell_type": "markdown",
   "id": "6754f03f",
   "metadata": {},
   "source": [
    "### a. Make an object of the class company =Totyota('Corolla')"
   ]
  },
  {
   "cell_type": "code",
   "execution_count": 101,
   "id": "f0acfada",
   "metadata": {},
   "outputs": [
    {
     "ename": "TypeError",
     "evalue": "Totyota.__init__() missing 2 required positional arguments: 'color' and 'model'",
     "output_type": "error",
     "traceback": [
      "\u001b[1;31m---------------------------------------------------------------------------\u001b[0m",
      "\u001b[1;31mTypeError\u001b[0m                                 Traceback (most recent call last)",
      "Cell \u001b[1;32mIn[101], line 1\u001b[0m\n\u001b[1;32m----> 1\u001b[0m company \u001b[38;5;241m=\u001b[39mTotyota(\u001b[38;5;124m'\u001b[39m\u001b[38;5;124mCorolla\u001b[39m\u001b[38;5;124m'\u001b[39m)\n",
      "\u001b[1;31mTypeError\u001b[0m: Totyota.__init__() missing 2 required positional arguments: 'color' and 'model'"
     ]
    }
   ],
   "source": [
    "company =Totyota('Corolla') "
   ]
  },
  {
   "cell_type": "markdown",
   "id": "f4cdc6b5",
   "metadata": {},
   "source": [
    "### b. Make an object of the class company =Totyota('Corolla','Red')"
   ]
  },
  {
   "cell_type": "code",
   "execution_count": 102,
   "id": "ab76e815",
   "metadata": {},
   "outputs": [
    {
     "ename": "TypeError",
     "evalue": "Totyota.__init__() missing 1 required positional argument: 'model'",
     "output_type": "error",
     "traceback": [
      "\u001b[1;31m---------------------------------------------------------------------------\u001b[0m",
      "\u001b[1;31mTypeError\u001b[0m                                 Traceback (most recent call last)",
      "Cell \u001b[1;32mIn[102], line 1\u001b[0m\n\u001b[1;32m----> 1\u001b[0m company \u001b[38;5;241m=\u001b[39mTotyota(\u001b[38;5;124m'\u001b[39m\u001b[38;5;124mCorolla\u001b[39m\u001b[38;5;124m'\u001b[39m,\u001b[38;5;124m'\u001b[39m\u001b[38;5;124mRed\u001b[39m\u001b[38;5;124m'\u001b[39m)\n",
      "\u001b[1;31mTypeError\u001b[0m: Totyota.__init__() missing 1 required positional argument: 'model'"
     ]
    }
   ],
   "source": [
    "company =Totyota('Corolla','Red')"
   ]
  },
  {
   "cell_type": "markdown",
   "id": "dc8e04ab",
   "metadata": {},
   "source": [
    "### c. Make an object of the class company =Totyota('Corolla','Red',2014)"
   ]
  },
  {
   "cell_type": "code",
   "execution_count": 103,
   "id": "24d1a78e",
   "metadata": {},
   "outputs": [],
   "source": [
    "company =Totyota('Corolla','Red',2014)"
   ]
  },
  {
   "cell_type": "markdown",
   "id": "58454e04",
   "metadata": {},
   "source": [
    "### d. Print the details using the function printdetails."
   ]
  },
  {
   "cell_type": "code",
   "execution_count": 104,
   "id": "0fd9017a",
   "metadata": {},
   "outputs": [
    {
     "name": "stdout",
     "output_type": "stream",
     "text": [
      "Car Company is: Corolla , Car Color is :Red , Car model is 2014 \n"
     ]
    }
   ],
   "source": [
    "company.printdetails()"
   ]
  },
  {
   "cell_type": "markdown",
   "id": "6a5a85ba",
   "metadata": {},
   "source": [
    "### 7. Consider the following class example."
   ]
  },
  {
   "cell_type": "code",
   "execution_count": 112,
   "id": "f8be854b",
   "metadata": {},
   "outputs": [],
   "source": [
    "class Employee:\n",
    "    def __init__(self,name,role,salary):\n",
    "        self.name=name\n",
    "        self.role=role\n",
    "        self.salary=salary\n",
    "    def printdetails(self):\n",
    "        print( f\"Employee name: {self.name} , Employee role is :{self.role} ,  Employee salary is {self.salary} \" )      "
   ]
  },
  {
   "cell_type": "markdown",
   "id": "6fa9a4ba",
   "metadata": {},
   "source": [
    "### a. Make an object of the class Employee = Employee (‘Ali’)"
   ]
  },
  {
   "cell_type": "code",
   "execution_count": 113,
   "id": "295fe751",
   "metadata": {},
   "outputs": [
    {
     "ename": "TypeError",
     "evalue": "Employee.__init__() missing 2 required positional arguments: 'role' and 'salary'",
     "output_type": "error",
     "traceback": [
      "\u001b[1;31m---------------------------------------------------------------------------\u001b[0m",
      "\u001b[1;31mTypeError\u001b[0m                                 Traceback (most recent call last)",
      "Cell \u001b[1;32mIn[113], line 1\u001b[0m\n\u001b[1;32m----> 1\u001b[0m Employee \u001b[38;5;241m=\u001b[39m Employee (\u001b[38;5;124m'\u001b[39m\u001b[38;5;124mAli\u001b[39m\u001b[38;5;124m'\u001b[39m)\n",
      "\u001b[1;31mTypeError\u001b[0m: Employee.__init__() missing 2 required positional arguments: 'role' and 'salary'"
     ]
    }
   ],
   "source": [
    " Employee = Employee ('Ali')"
   ]
  },
  {
   "cell_type": "markdown",
   "id": "acec38d4",
   "metadata": {},
   "source": [
    "### b. Make an object of the class Employee = Employee (\"Ali\",\"Instructor)"
   ]
  },
  {
   "cell_type": "code",
   "execution_count": 114,
   "id": "4eec98c5",
   "metadata": {},
   "outputs": [
    {
     "ename": "TypeError",
     "evalue": "Employee.__init__() missing 1 required positional argument: 'salary'",
     "output_type": "error",
     "traceback": [
      "\u001b[1;31m---------------------------------------------------------------------------\u001b[0m",
      "\u001b[1;31mTypeError\u001b[0m                                 Traceback (most recent call last)",
      "Cell \u001b[1;32mIn[114], line 1\u001b[0m\n\u001b[1;32m----> 1\u001b[0m Employee \u001b[38;5;241m=\u001b[39m Employee (\u001b[38;5;124m\"\u001b[39m\u001b[38;5;124mAli\u001b[39m\u001b[38;5;124m\"\u001b[39m,\u001b[38;5;124m'\u001b[39m\u001b[38;5;124mInstructor\u001b[39m\u001b[38;5;124m'\u001b[39m)\n",
      "\u001b[1;31mTypeError\u001b[0m: Employee.__init__() missing 1 required positional argument: 'salary'"
     ]
    }
   ],
   "source": [
    "Employee = Employee (\"Ali\",'Instructor')"
   ]
  },
  {
   "cell_type": "markdown",
   "id": "f32f2cbb",
   "metadata": {},
   "source": [
    "### c. Make an object of the class Employee = Employee (\"Ali\",\"Instructor\",4000)"
   ]
  },
  {
   "cell_type": "code",
   "execution_count": 115,
   "id": "ffadf0d5",
   "metadata": {},
   "outputs": [],
   "source": [
    "Employee1 = Employee (\"Ali\",\"Instructor\",4000)"
   ]
  },
  {
   "cell_type": "markdown",
   "id": "d8df4a59",
   "metadata": {},
   "source": [
    "### d. Print the details using the function printdetails. "
   ]
  },
  {
   "cell_type": "code",
   "execution_count": 116,
   "id": "39eeb2f7",
   "metadata": {},
   "outputs": [
    {
     "name": "stdout",
     "output_type": "stream",
     "text": [
      "Employee name: Ali , Employee role is :Instructor ,  Employee salary is 4000 \n"
     ]
    }
   ],
   "source": [
    "Employee1.printdetails()"
   ]
  },
  {
   "cell_type": "markdown",
   "id": "95d4713b",
   "metadata": {},
   "source": [
    "### 8. Understand the following code. The complete code is given just run and play with the code."
   ]
  },
  {
   "cell_type": "code",
   "execution_count": 129,
   "id": "6e07fce6",
   "metadata": {},
   "outputs": [],
   "source": [
    "class Circle:\n",
    "     def __init__(self,radius):\n",
    "        self.radius=radius"
   ]
  },
  {
   "cell_type": "markdown",
   "id": "6c36bdef",
   "metadata": {},
   "source": [
    "### Now make some object."
   ]
  },
  {
   "cell_type": "code",
   "execution_count": 130,
   "id": "0b6ec4b6",
   "metadata": {},
   "outputs": [],
   "source": [
    "circle1=Circle(4)\n",
    "circle2=Circle(8)\n",
    "circle3=Circle(6)"
   ]
  },
  {
   "cell_type": "markdown",
   "id": "d422ae27",
   "metadata": {},
   "source": [
    "### a. Print radius using dot operator."
   ]
  },
  {
   "cell_type": "code",
   "execution_count": 131,
   "id": "dcdb094f",
   "metadata": {},
   "outputs": [
    {
     "name": "stdout",
     "output_type": "stream",
     "text": [
      "Circle1 radius is  4\n",
      "Circle 2 radius is 8\n",
      "Circle3 radius is  6\n"
     ]
    }
   ],
   "source": [
    "print(\"Circle1 radius is \",circle1.radius)\n",
    "print(\"Circle 2 radius is\",circle2.radius)\n",
    "print(\"Circle3 radius is \",circle3.radius)"
   ]
  },
  {
   "cell_type": "markdown",
   "id": "929b1f74",
   "metadata": {},
   "source": [
    "### b. Print the object directly like print(Circle1)."
   ]
  },
  {
   "cell_type": "code",
   "execution_count": 132,
   "id": "67738abc",
   "metadata": {},
   "outputs": [
    {
     "name": "stdout",
     "output_type": "stream",
     "text": [
      "<__main__.Circle object at 0x000001E063E8C850>\n"
     ]
    }
   ],
   "source": [
    "print(circle1)"
   ]
  },
  {
   "cell_type": "markdown",
   "id": "a6df9485",
   "metadata": {},
   "source": [
    "### c. Define a method that can print radius by directly calling by the circle object. "
   ]
  },
  {
   "cell_type": "code",
   "execution_count": 134,
   "id": "d071b076",
   "metadata": {},
   "outputs": [
    {
     "name": "stdout",
     "output_type": "stream",
     "text": [
      "Circle radius is 4\n"
     ]
    }
   ],
   "source": [
    "def print_radius(self):\n",
    "        print(f\"Circle radius is {self.radius}\")   \n",
    "print_radius(circle1)"
   ]
  },
  {
   "cell_type": "markdown",
   "id": "95492906",
   "metadata": {},
   "source": [
    "### 9. Consider the following class definition."
   ]
  },
  {
   "cell_type": "code",
   "execution_count": 135,
   "id": "efa2810e",
   "metadata": {},
   "outputs": [],
   "source": [
    "class Point:\n",
    "    pass"
   ]
  },
  {
   "cell_type": "markdown",
   "id": "d495f4bf",
   "metadata": {},
   "source": [
    "### a. Make two instances named p1 and p2."
   ]
  },
  {
   "cell_type": "code",
   "execution_count": 136,
   "id": "4b234b11",
   "metadata": {},
   "outputs": [],
   "source": [
    "p1 = Point()\n",
    "p2 = Point()"
   ]
  },
  {
   "cell_type": "markdown",
   "id": "5faa8124",
   "metadata": {},
   "source": [
    "#### b. Now, we have a basic class, but it's fairly useless. It doesn't contain any data, and it doesn't do anything. What do we have to do to assign an attribute to a given object?It turns out that we don't have to do anything special in the class definition. We can set arbitrary attributes on an instantiated object using the dot notation:"
   ]
  },
  {
   "cell_type": "code",
   "execution_count": 137,
   "id": "819af597",
   "metadata": {},
   "outputs": [],
   "source": [
    "p1 = Point()\n",
    "p2 = Point()\n",
    "p1.x = 5\n",
    "p1.y = 4\n",
    "p2.x = 3\n",
    "p2.y = 6"
   ]
  },
  {
   "cell_type": "markdown",
   "id": "15d7cbdf",
   "metadata": {},
   "source": [
    "### 10. The Python initialization method is the same as any other method, except it has a special name, __init__.Consider the point class below."
   ]
  },
  {
   "cell_type": "code",
   "execution_count": null,
   "id": "7557f529",
   "metadata": {},
   "outputs": [],
   "source": [
    "class Point:\n",
    "    def move(self, x, y):\n",
    "        self.x = x\n",
    "        self.y = y\n",
    "    def reset(self):\n",
    "        self.move(0, 0)  "
   ]
  },
  {
   "cell_type": "markdown",
   "id": "1fbdd1bc",
   "metadata": {},
   "source": [
    "### Modify the above class by adding __init__ method. "
   ]
  },
  {
   "cell_type": "code",
   "execution_count": 140,
   "id": "3fbeee33",
   "metadata": {},
   "outputs": [],
   "source": [
    "class Point:\n",
    "    def __init__(self, x, y):\n",
    "        self.move(x, y)\n",
    "    def move(self, x, y):\n",
    "        self.x = x\n",
    "        self.y = y\n",
    "    def reset(self):\n",
    "        self.move(0, 0)"
   ]
  },
  {
   "cell_type": "markdown",
   "id": "1a545c0d",
   "metadata": {},
   "source": [
    "### a. Constructing an instance/ object using point = Point(3, 5)"
   ]
  },
  {
   "cell_type": "code",
   "execution_count": 141,
   "id": "a2fd74d5",
   "metadata": {},
   "outputs": [],
   "source": [
    "point = Point(3, 5)"
   ]
  },
  {
   "cell_type": "markdown",
   "id": "2ad8b40a",
   "metadata": {},
   "source": [
    "### b. Print the attributes."
   ]
  },
  {
   "cell_type": "code",
   "execution_count": 143,
   "id": "bca9e2ed",
   "metadata": {},
   "outputs": [
    {
     "name": "stdout",
     "output_type": "stream",
     "text": [
      "3 , 5\n"
     ]
    }
   ],
   "source": [
    "print(point.x,',' ,point.y)"
   ]
  },
  {
   "cell_type": "markdown",
   "id": "75c3bebd",
   "metadata": {},
   "source": [
    "### 11. Consider "
   ]
  },
  {
   "cell_type": "code",
   "execution_count": 146,
   "id": "549d39c6",
   "metadata": {},
   "outputs": [],
   "source": [
    "class Point:\n",
    "    def __init__(self, x, y):\n",
    "        print(\"Initialize the new instance of Point.\")\n",
    "        self.x = x\n",
    "        self.y = y\n",
    "    def print(self):\n",
    "        return f\"{type(self).__name__}(x={self.x}, y={self.y})\""
   ]
  },
  {
   "cell_type": "markdown",
   "id": "a16447fd",
   "metadata": {},
   "source": [
    "### a. Run the following code: \n",
    "### point = Point(21, 42)\n",
    "### print(point)"
   ]
  },
  {
   "cell_type": "code",
   "execution_count": 147,
   "id": "0215df87",
   "metadata": {},
   "outputs": [
    {
     "name": "stdout",
     "output_type": "stream",
     "text": [
      "Initialize the new instance of Point.\n",
      "<__main__.Point object at 0x000001E063F90210>\n"
     ]
    }
   ],
   "source": [
    "point = Point(21, 42)\n",
    "print(point)"
   ]
  },
  {
   "cell_type": "markdown",
   "id": "ab426e5f",
   "metadata": {},
   "source": [
    "### b. The __init__ can be called by the instance and pass value directly. Run the following code."
   ]
  },
  {
   "cell_type": "code",
   "execution_count": 148,
   "id": "76f11618",
   "metadata": {},
   "outputs": [
    {
     "name": "stdout",
     "output_type": "stream",
     "text": [
      "Initialize the new instance of Point.\n",
      "<__main__.Point object at 0x000001E063F90210>\n"
     ]
    }
   ],
   "source": [
    "point.__init__(34, 45)\n",
    "point.x\n",
    "point.y\n",
    "print(point)"
   ]
  },
  {
   "cell_type": "markdown",
   "id": "0168312c",
   "metadata": {},
   "source": [
    "### 12. Rectangle class"
   ]
  },
  {
   "cell_type": "code",
   "execution_count": 149,
   "id": "e3a2a385",
   "metadata": {},
   "outputs": [],
   "source": [
    "class Rectangle:\n",
    "     def __init__(self, width, height):\n",
    "        self.width = width\n",
    "        self.height = height"
   ]
  },
  {
   "cell_type": "markdown",
   "id": "b5d09cfd",
   "metadata": {},
   "source": [
    "### a. Define an object by passing the parameters and the print them. For printing use the instance variable and dot operator."
   ]
  },
  {
   "cell_type": "code",
   "execution_count": 151,
   "id": "5a113d14",
   "metadata": {},
   "outputs": [
    {
     "name": "stdout",
     "output_type": "stream",
     "text": [
      "34 , 56\n"
     ]
    }
   ],
   "source": [
    "s=Rectangle(34,56)\n",
    "print(s.width,',' ,s.height)"
   ]
  },
  {
   "cell_type": "markdown",
   "id": "2dce2650",
   "metadata": {},
   "source": [
    "### b. Returning some thing from the __init__ method. Run the following code and observe the result. "
   ]
  },
  {
   "cell_type": "code",
   "execution_count": 1,
   "id": "c15fe87f",
   "metadata": {},
   "outputs": [
    {
     "ename": "TypeError",
     "evalue": "__init__() should return None, not 'int'",
     "output_type": "error",
     "traceback": [
      "\u001b[1;31m---------------------------------------------------------------------------\u001b[0m",
      "\u001b[1;31mTypeError\u001b[0m                                 Traceback (most recent call last)",
      "Cell \u001b[1;32mIn[1], line 6\u001b[0m\n\u001b[0;32m      4\u001b[0m         \u001b[38;5;28mself\u001b[39m\u001b[38;5;241m.\u001b[39mheight \u001b[38;5;241m=\u001b[39m height\n\u001b[0;32m      5\u001b[0m         \u001b[38;5;28;01mreturn\u001b[39;00m \u001b[38;5;241m42\u001b[39m\n\u001b[1;32m----> 6\u001b[0m rectangle \u001b[38;5;241m=\u001b[39m Rectangle(\u001b[38;5;241m21\u001b[39m, \u001b[38;5;241m42\u001b[39m)\n",
      "\u001b[1;31mTypeError\u001b[0m: __init__() should return None, not 'int'"
     ]
    }
   ],
   "source": [
    "class Rectangle:\n",
    "    def __init__(self, width, height):\n",
    "        self.width = width\n",
    "        self.height = height\n",
    "        return 42\n",
    "rectangle = Rectangle(21, 42)"
   ]
  },
  {
   "cell_type": "code",
   "execution_count": null,
   "id": "1e1c6010",
   "metadata": {},
   "outputs": [],
   "source": []
  },
  {
   "cell_type": "markdown",
   "id": "72e8c2d2",
   "metadata": {},
   "source": [
    "### c. Now run the following code and observe the result. "
   ]
  },
  {
   "cell_type": "code",
   "execution_count": 2,
   "id": "e1383e3f",
   "metadata": {},
   "outputs": [],
   "source": [
    "class Rectangle:\n",
    "    def __init__(self, width, height):\n",
    "        self.width = width\n",
    "        self.height = height\n",
    "        return None\n",
    "    \n",
    "rectangle = Rectangle(21, 42)"
   ]
  },
  {
   "cell_type": "markdown",
   "id": "57f639da",
   "metadata": {},
   "source": [
    "### d. Run the following code and observe the result while supplying different combinations of input. Furthermore, to enhance the exception further is highly recommended."
   ]
  },
  {
   "cell_type": "code",
   "execution_count": 3,
   "id": "b13f62a9",
   "metadata": {},
   "outputs": [
    {
     "ename": "ValueError",
     "evalue": "positive width expected, got -21",
     "output_type": "error",
     "traceback": [
      "\u001b[1;31m---------------------------------------------------------------------------\u001b[0m",
      "\u001b[1;31mValueError\u001b[0m                                Traceback (most recent call last)",
      "Cell \u001b[1;32mIn[3], line 9\u001b[0m\n\u001b[0;32m      7\u001b[0m             \u001b[38;5;28;01mraise\u001b[39;00m \u001b[38;5;167;01mValueError\u001b[39;00m(\u001b[38;5;124mf\u001b[39m\u001b[38;5;124m\"\u001b[39m\u001b[38;5;124mpositive height expected, got \u001b[39m\u001b[38;5;132;01m{\u001b[39;00mheight\u001b[38;5;132;01m}\u001b[39;00m\u001b[38;5;124m\"\u001b[39m)\n\u001b[0;32m      8\u001b[0m         \u001b[38;5;28mself\u001b[39m\u001b[38;5;241m.\u001b[39mheight \u001b[38;5;241m=\u001b[39m height\n\u001b[1;32m----> 9\u001b[0m rectangle \u001b[38;5;241m=\u001b[39m Rectangle(\u001b[38;5;241m-\u001b[39m\u001b[38;5;241m21\u001b[39m, \u001b[38;5;241m42\u001b[39m)\n",
      "Cell \u001b[1;32mIn[3], line 4\u001b[0m, in \u001b[0;36mRectangle.__init__\u001b[1;34m(self, width, height)\u001b[0m\n\u001b[0;32m      2\u001b[0m \u001b[38;5;28;01mdef\u001b[39;00m \u001b[38;5;21m__init__\u001b[39m(\u001b[38;5;28mself\u001b[39m, width, height):\n\u001b[0;32m      3\u001b[0m     \u001b[38;5;28;01mif\u001b[39;00m \u001b[38;5;129;01mnot\u001b[39;00m (\u001b[38;5;28misinstance\u001b[39m(width, (\u001b[38;5;28mint\u001b[39m, \u001b[38;5;28mfloat\u001b[39m)) \u001b[38;5;129;01mand\u001b[39;00m width \u001b[38;5;241m>\u001b[39m \u001b[38;5;241m0\u001b[39m):\n\u001b[1;32m----> 4\u001b[0m         \u001b[38;5;28;01mraise\u001b[39;00m \u001b[38;5;167;01mValueError\u001b[39;00m(\u001b[38;5;124mf\u001b[39m\u001b[38;5;124m\"\u001b[39m\u001b[38;5;124mpositive width expected, got \u001b[39m\u001b[38;5;132;01m{\u001b[39;00mwidth\u001b[38;5;132;01m}\u001b[39;00m\u001b[38;5;124m\"\u001b[39m)\n\u001b[0;32m      5\u001b[0m     \u001b[38;5;28mself\u001b[39m\u001b[38;5;241m.\u001b[39mwidth \u001b[38;5;241m=\u001b[39m width\n\u001b[0;32m      6\u001b[0m     \u001b[38;5;28;01mif\u001b[39;00m \u001b[38;5;129;01mnot\u001b[39;00m (\u001b[38;5;28misinstance\u001b[39m(height, (\u001b[38;5;28mint\u001b[39m, \u001b[38;5;28mfloat\u001b[39m)) \u001b[38;5;129;01mand\u001b[39;00m height \u001b[38;5;241m>\u001b[39m \u001b[38;5;241m0\u001b[39m):\n",
      "\u001b[1;31mValueError\u001b[0m: positive width expected, got -21"
     ]
    }
   ],
   "source": [
    "class Rectangle:\n",
    "    def __init__(self, width, height):\n",
    "        if not (isinstance(width, (int, float)) and width > 0):\n",
    "            raise ValueError(f\"positive width expected, got {width}\")\n",
    "        self.width = width\n",
    "        if not (isinstance(height, (int, float)) and height > 0):\n",
    "            raise ValueError(f\"positive height expected, got {height}\")\n",
    "        self.height = height\n",
    "rectangle = Rectangle(-21, 42)"
   ]
  },
  {
   "cell_type": "markdown",
   "id": "10997c18",
   "metadata": {},
   "source": [
    "### 13. Consider the following code."
   ]
  },
  {
   "cell_type": "code",
   "execution_count": 7,
   "id": "437962cd",
   "metadata": {},
   "outputs": [],
   "source": [
    "class Greeter:\n",
    "    def  init (self, name, formal=False):\n",
    "        self.name = name\n",
    "        self.formal = formal\n",
    "    def greet (self):\n",
    "        if self.formal:\n",
    "            print(f\"Good morning, {self.name}!\")\n",
    "        else:\n",
    "            print(f\"Hello, {self.name}!\")"
   ]
  },
  {
   "cell_type": "markdown",
   "id": "9d36aecf",
   "metadata": {},
   "source": [
    "### a. In the following example, you create an informal_greeter object by passing a value to the name argument and relying on the default value of formal. You get an informal greeting on your screen when you call .greet() on the informal_greeter object."
   ]
  },
  {
   "cell_type": "code",
   "execution_count": 8,
   "id": "d0fb989a",
   "metadata": {},
   "outputs": [
    {
     "ename": "TypeError",
     "evalue": "Greeter() takes no arguments",
     "output_type": "error",
     "traceback": [
      "\u001b[1;31m---------------------------------------------------------------------------\u001b[0m",
      "\u001b[1;31mTypeError\u001b[0m                                 Traceback (most recent call last)",
      "Cell \u001b[1;32mIn[8], line 1\u001b[0m\n\u001b[1;32m----> 1\u001b[0m informal_greeter \u001b[38;5;241m=\u001b[39m Greeter(\u001b[38;5;124m\"\u001b[39m\u001b[38;5;124mPythonista\u001b[39m\u001b[38;5;124m\"\u001b[39m)\n\u001b[0;32m      2\u001b[0m informal_greeter\u001b[38;5;241m.\u001b[39mgreet()\n",
      "\u001b[1;31mTypeError\u001b[0m: Greeter() takes no arguments"
     ]
    }
   ],
   "source": [
    "informal_greeter = Greeter(\"Pythonista\")\n",
    "informal_greeter.greet()"
   ]
  },
  {
   "cell_type": "markdown",
   "id": "1616ce94",
   "metadata": {},
   "source": [
    "### b. Similarly, in the following example, you use a name and a formal argument to instantiate Greeter. Because formal is True, the result of calling .greet() is a formal greeting."
   ]
  },
  {
   "cell_type": "code",
   "execution_count": 9,
   "id": "bc93d151",
   "metadata": {},
   "outputs": [
    {
     "ename": "TypeError",
     "evalue": "Greeter() takes no arguments",
     "output_type": "error",
     "traceback": [
      "\u001b[1;31m---------------------------------------------------------------------------\u001b[0m",
      "\u001b[1;31mTypeError\u001b[0m                                 Traceback (most recent call last)",
      "Cell \u001b[1;32mIn[9], line 1\u001b[0m\n\u001b[1;32m----> 1\u001b[0m formal_greeter \u001b[38;5;241m=\u001b[39m Greeter(\u001b[38;5;124m\"\u001b[39m\u001b[38;5;124mPythonista\u001b[39m\u001b[38;5;124m\"\u001b[39m, formal\u001b[38;5;241m=\u001b[39m\u001b[38;5;28;01mTrue\u001b[39;00m)\n\u001b[0;32m      2\u001b[0m formal_greeter\u001b[38;5;241m.\u001b[39mgreet()\n",
      "\u001b[1;31mTypeError\u001b[0m: Greeter() takes no arguments"
     ]
    }
   ],
   "source": [
    "formal_greeter = Greeter(\"Pythonista\", formal=True)\n",
    "formal_greeter.greet()"
   ]
  },
  {
   "cell_type": "markdown",
   "id": "4c60ee2f",
   "metadata": {},
   "source": [
    "## 14. Default arguments\n",
    "### i. Consider the point class below."
   ]
  },
  {
   "cell_type": "code",
   "execution_count": 10,
   "id": "e5bc690a",
   "metadata": {},
   "outputs": [],
   "source": [
    "class Point:\n",
    "    def __init__(self, x, y):\n",
    "        self.move(x, y)\n",
    "    def move(self, x, y):\n",
    "        self.x = x\n",
    "        self.y = y\n",
    "    def reset(self):\n",
    "        self.move(0, 0)\n",
    "        "
   ]
  },
  {
   "cell_type": "markdown",
   "id": "9e29c191",
   "metadata": {},
   "source": [
    "### Modify the above class by modifying the argument list of __init__ using default arguments. "
   ]
  },
  {
   "cell_type": "code",
   "execution_count": 11,
   "id": "34554fba",
   "metadata": {},
   "outputs": [],
   "source": [
    "class Point:\n",
    "    def __init__(self, x=0, y=0):\n",
    "        self.move(x, y)\n",
    "    def move(self, x, y):\n",
    "        self.x = x\n",
    "        self.y = y\n",
    "    def reset(self):\n",
    "        self.move(0, 0)\n",
    "        "
   ]
  },
  {
   "cell_type": "markdown",
   "id": "f12f6b24",
   "metadata": {},
   "source": [
    "### a. Make an instance of the class point, point = Point(3, 5). Print the point."
   ]
  },
  {
   "cell_type": "code",
   "execution_count": 19,
   "id": "eda947bd",
   "metadata": {},
   "outputs": [
    {
     "name": "stdout",
     "output_type": "stream",
     "text": [
      "(3, 5)\n"
     ]
    }
   ],
   "source": [
    "point = Point(3, 5)\n",
    "print((point.x,point.y))"
   ]
  }
 ],
 "metadata": {
  "kernelspec": {
   "display_name": "Python 3 (ipykernel)",
   "language": "python",
   "name": "python3"
  },
  "language_info": {
   "codemirror_mode": {
    "name": "ipython",
    "version": 3
   },
   "file_extension": ".py",
   "mimetype": "text/x-python",
   "name": "python",
   "nbconvert_exporter": "python",
   "pygments_lexer": "ipython3",
   "version": "3.11.5"
  }
 },
 "nbformat": 4,
 "nbformat_minor": 5
}
