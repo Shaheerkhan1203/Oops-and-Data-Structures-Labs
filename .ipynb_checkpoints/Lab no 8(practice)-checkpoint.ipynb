{
 "cells": [
  {
   "cell_type": "markdown",
   "id": "0f47175b",
   "metadata": {},
   "source": [
    "### 1. Consider the following classes."
   ]
  },
  {
   "cell_type": "code",
   "execution_count": 1,
   "id": "b8cec9ec",
   "metadata": {},
   "outputs": [],
   "source": [
    "class Manager:\n",
    "    def final_review(self):\n",
    "        print(\"Final Review\")\n",
    "class Reviewer(Manager):\n",
    "    def review(self):\n",
    "        print(\"Reviewing...\")\n",
    "class Writer(Reviewer):\n",
    "    def writes(self):\n",
    "        print(\"Writes the code\")"
   ]
  },
  {
   "cell_type": "markdown",
   "id": "8e391b15",
   "metadata": {},
   "source": [
    "### a. Run the following code and observe. \n",
    "### o = Writer()\n",
    "### o.final_review()\n",
    "### o.review()\n",
    "### o.writes()"
   ]
  },
  {
   "cell_type": "code",
   "execution_count": 4,
   "id": "e90ef12d",
   "metadata": {},
   "outputs": [
    {
     "name": "stdout",
     "output_type": "stream",
     "text": [
      "Final Review\n",
      "Reviewing...\n",
      "Writes the code\n"
     ]
    }
   ],
   "source": [
    "o = Writer()\n",
    "o.final_review()\n",
    "o.review()\n",
    "o.writes()"
   ]
  },
  {
   "cell_type": "markdown",
   "id": "d4c56da1",
   "metadata": {},
   "source": [
    "### b. Run the following code and observe. \n",
    "### or1 = Reviewer()\n",
    "### or1.review()\n"
   ]
  },
  {
   "cell_type": "code",
   "execution_count": 5,
   "id": "6d937520",
   "metadata": {},
   "outputs": [
    {
     "name": "stdout",
     "output_type": "stream",
     "text": [
      "Reviewing...\n"
     ]
    }
   ],
   "source": [
    "or1 = Reviewer()\n",
    "or1.review()\n"
   ]
  },
  {
   "cell_type": "markdown",
   "id": "493e100f",
   "metadata": {},
   "source": [
    "### c. Run the following code and observe. \n",
    "### or1.final_review()\n"
   ]
  },
  {
   "cell_type": "code",
   "execution_count": 6,
   "id": "254b2d04",
   "metadata": {},
   "outputs": [
    {
     "name": "stdout",
     "output_type": "stream",
     "text": [
      "Final Review\n"
     ]
    }
   ],
   "source": [
    "or1.final_review()"
   ]
  },
  {
   "cell_type": "markdown",
   "id": "966a2721",
   "metadata": {},
   "source": [
    "### d. Run the following code and observe. \n",
    "### or1.writes()"
   ]
  },
  {
   "cell_type": "code",
   "execution_count": 11,
   "id": "c58c5daf",
   "metadata": {},
   "outputs": [
    {
     "ename": "AttributeError",
     "evalue": "'Reviewer' object has no attribute 'writes'",
     "output_type": "error",
     "traceback": [
      "\u001b[1;31m---------------------------------------------------------------------------\u001b[0m",
      "\u001b[1;31mAttributeError\u001b[0m                            Traceback (most recent call last)",
      "Cell \u001b[1;32mIn[11], line 1\u001b[0m\n\u001b[1;32m----> 1\u001b[0m or1\u001b[38;5;241m.\u001b[39mwrites()\n",
      "\u001b[1;31mAttributeError\u001b[0m: 'Reviewer' object has no attribute 'writes'"
     ]
    }
   ],
   "source": [
    "or1.writes()"
   ]
  },
  {
   "cell_type": "markdown",
   "id": "2afb57d8",
   "metadata": {},
   "source": [
    "### 1. Multiple Inheritance in Python"
   ]
  },
  {
   "cell_type": "code",
   "execution_count": 2,
   "id": "9f0ef536",
   "metadata": {},
   "outputs": [],
   "source": [
    "class Rectangle:\n",
    "    def __init__(self, length, width, **kwargs):\n",
    "        self.length = length\n",
    "        self.width = width\n",
    "        super().__init__(**kwargs)\n",
    "    def area(self):\n",
    "        return self.length * self.width\n",
    "    def perimeter(self):\n",
    "        return 2 * self.length + 2 * self.width\n",
    "class Square(Rectangle):\n",
    "    def __init__(self, length, **kwargs):\n",
    "        super().__init__(length=length, width=length, **kwargs)\n",
    "class Triangle:\n",
    "    def __init__(self, base, height, **kwargs):\n",
    "        self.base = base\n",
    "        self.height = height\n",
    "        super().__init__(**kwargs)\n",
    "    def tri_area(self):\n",
    "        return 0.5 * self.base * self.height\n",
    "class RightPyramid(Square, Triangle):\n",
    "    def __init__(self, base, slant_height, **kwargs):\n",
    "        self.base = base\n",
    "        self.slant_height = slant_height\n",
    "        kwargs[\"height\"] = slant_height\n",
    "        kwargs[\"length\"] = base\n",
    "        super().__init__(base=base, **kwargs)\n",
    "    def area(self):\n",
    "        base_area = super().area()\n",
    "        perimeter = super().perimeter()\n",
    "        return 0.5 * perimeter * self.slant_height + base_area\n",
    "    def area_2(self):\n",
    "        base_area = super().area()\n",
    "        triangle_area = super().tri_area()\n",
    "        return triangle_area * 4 + base_area\n",
    "class SurfaceAreaMixin:\n",
    "    def surface_area(self):\n",
    "        surface_area = 0\n",
    "        for surface in self.surfaces:\n",
    "            surface_area += surface.area(self)\n",
    "        return surface_area\n",
    "class Cube(Square, SurfaceAreaMixin):\n",
    "    def __init__(self, length):\n",
    "        super().__init__(length)\n",
    "        self.surfaces = [Square, Square, Square, Square, Square, Square]\n",
    "class RightPyramid(Square, Triangle, SurfaceAreaMixin):\n",
    "    def __init__(self, base, slant_height):\n",
    "        self.base = base\n",
    "        self.slant_height = slant_height\n",
    "        self.height = slant_height\n",
    "        self.length = base\n",
    "        self.width = base\n",
    "        self.surfaces = [Square, Triangle, Triangle, Triangle, Triangle]\n"
   ]
  },
  {
   "cell_type": "markdown",
   "id": "90d65051",
   "metadata": {},
   "source": [
    "### a. Run the following code and track the code flow. \n",
    "### cube = Cube(3)\n",
    "### cube.surface_area()"
   ]
  },
  {
   "cell_type": "code",
   "execution_count": 3,
   "id": "65410b7a",
   "metadata": {},
   "outputs": [
    {
     "data": {
      "text/plain": [
       "54"
      ]
     },
     "execution_count": 3,
     "metadata": {},
     "output_type": "execute_result"
    }
   ],
   "source": [
    "cube = Cube(3)\n",
    "cube.surface_area()"
   ]
  },
  {
   "cell_type": "code",
   "execution_count": null,
   "id": "64b41c68",
   "metadata": {},
   "outputs": [],
   "source": []
  }
 ],
 "metadata": {
  "kernelspec": {
   "display_name": "Python 3 (ipykernel)",
   "language": "python",
   "name": "python3"
  },
  "language_info": {
   "codemirror_mode": {
    "name": "ipython",
    "version": 3
   },
   "file_extension": ".py",
   "mimetype": "text/x-python",
   "name": "python",
   "nbconvert_exporter": "python",
   "pygments_lexer": "ipython3",
   "version": "3.11.5"
  }
 },
 "nbformat": 4,
 "nbformat_minor": 5
}
