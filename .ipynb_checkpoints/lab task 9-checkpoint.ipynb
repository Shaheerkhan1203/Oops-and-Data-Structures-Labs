{
 "cells": [
  {
   "cell_type": "code",
   "execution_count": 1,
   "id": "a814c1bd",
   "metadata": {},
   "outputs": [],
   "source": [
    "class WordCountString(str):\n",
    "    def words(self, separator=None):\n",
    "        return len(self.split(separator))\n",
    "sample_text = WordCountString(\n",
    "\"\"\"Knowledge of Python can be an added advantage in \n",
    "terms of skills, as it enables \n",
    "electrical engineers to leverage its versatility \n",
    "for a wide range of tasks the \n",
    "scope of specialized software.\"\"\")"
   ]
  },
  {
   "cell_type": "code",
   "execution_count": 2,
   "id": "33bc592d",
   "metadata": {},
   "outputs": [
    {
     "data": {
      "text/plain": [
       "32"
      ]
     },
     "execution_count": 2,
     "metadata": {},
     "output_type": "execute_result"
    }
   ],
   "source": [
    "sample_text.words()"
   ]
  },
  {
   "cell_type": "code",
   "execution_count": 3,
   "id": "b905e594",
   "metadata": {},
   "outputs": [],
   "source": [
    "def __repr__(self):\n",
    "    return f\"({self.words})\""
   ]
  },
  {
   "cell_type": "code",
   "execution_count": 4,
   "id": "ccf018ac",
   "metadata": {},
   "outputs": [
    {
     "data": {
      "text/plain": [
       "'Knowledge of Python can be an added advantage in \\nterms of skills, as it enables \\nelectrical engineers to leverage its versatility \\nfor a wide range of tasks the \\nscope of specialized software.'"
      ]
     },
     "execution_count": 4,
     "metadata": {},
     "output_type": "execute_result"
    }
   ],
   "source": [
    "sample_text"
   ]
  },
  {
   "cell_type": "code",
   "execution_count": 5,
   "id": "e25886ca",
   "metadata": {},
   "outputs": [
    {
     "name": "stdout",
     "output_type": "stream",
     "text": [
      "Knowledge Of Python Can Be An Added Advantage In Terms Of Skills, As It Enables Electrical Engineers To Leverage Its Versatility For A Wide Range Of Tasks The Scope Of Specialized Software.\n"
     ]
    }
   ],
   "source": [
    "capitalized = ' '.join(word.capitalize() for word in sample_text.split())\n",
    "print(capitalized)"
   ]
  },
  {
   "cell_type": "code",
   "execution_count": 6,
   "id": "6e6a8fc3",
   "metadata": {},
   "outputs": [
    {
     "name": "stdout",
     "output_type": "stream",
     "text": [
      "193\n"
     ]
    }
   ],
   "source": [
    "def find_length(input_string):\n",
    "    return len(input_string)\n",
    "\n",
    "length_of_string = find_length(sample_text)\n",
    "print(length_of_string)"
   ]
  },
  {
   "cell_type": "code",
   "execution_count": 7,
   "id": "c5250914",
   "metadata": {},
   "outputs": [
    {
     "name": "stdout",
     "output_type": "stream",
     "text": [
      "Hello, Pythonista!\n"
     ]
    },
    {
     "data": {
      "text/plain": [
       "'Hello, Pythonista!'"
      ]
     },
     "execution_count": 7,
     "metadata": {},
     "output_type": "execute_result"
    }
   ],
   "source": [
    "class UpperPrintString(str):\n",
    "     def str (self):\n",
    "        return self.upper()\n",
    "sample_string = UpperPrintString(\"Hello, Pythonista!\")\n",
    "print(sample_string)\n",
    "sample_string"
   ]
  },
  {
   "cell_type": "code",
   "execution_count": 8,
   "id": "b34b8fdf",
   "metadata": {},
   "outputs": [],
   "source": [
    "def __repr__(self):\n",
    "    return self.upper()"
   ]
  },
  {
   "cell_type": "code",
   "execution_count": 9,
   "id": "fc98bd76",
   "metadata": {},
   "outputs": [
    {
     "name": "stdout",
     "output_type": "stream",
     "text": [
      "Knowledge of Python can be an added advantage in \n",
      "terms of skills, as it enables \n",
      "electrical engineers to leverage its versatility \n",
      "for a wide range of tasks the \n",
      "scope of specialized software.\n"
     ]
    }
   ],
   "source": [
    "print(sample_text)"
   ]
  },
  {
   "cell_type": "code",
   "execution_count": null,
   "id": "62a96814",
   "metadata": {},
   "outputs": [],
   "source": []
  }
 ],
 "metadata": {
  "kernelspec": {
   "display_name": "Python 3 (ipykernel)",
   "language": "python",
   "name": "python3"
  },
  "language_info": {
   "codemirror_mode": {
    "name": "ipython",
    "version": 3
   },
   "file_extension": ".py",
   "mimetype": "text/x-python",
   "name": "python",
   "nbconvert_exporter": "python",
   "pygments_lexer": "ipython3",
   "version": "3.11.5"
  }
 },
 "nbformat": 4,
 "nbformat_minor": 5
}
