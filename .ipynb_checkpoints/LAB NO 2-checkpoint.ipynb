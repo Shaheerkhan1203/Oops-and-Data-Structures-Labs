{
 "cells": [
  {
   "cell_type": "markdown",
   "id": "818539d6",
   "metadata": {},
   "source": [
    "# Lab Report Work"
   ]
  },
  {
   "cell_type": "markdown",
   "id": "0f6e9c81",
   "metadata": {},
   "source": [
    "### 1. Make a list that contains the student name, the last three digits of the registration number as an integer, the  CGPA as a float, and a list that contains GPA of all semesters."
   ]
  },
  {
   "cell_type": "code",
   "execution_count": 1,
   "id": "2f27a5e6",
   "metadata": {},
   "outputs": [
    {
     "name": "stdout",
     "output_type": "stream",
     "text": [
      "['Shaheer khan', 457, 3.54, [3.92, 3.19]]\n"
     ]
    }
   ],
   "source": [
    "S = [\"Shaheer khan\" , 457 ,3.54 , [3.92,3.19]]\n",
    "print(S)"
   ]
  },
  {
   "cell_type": "markdown",
   "id": "3b51fdc3",
   "metadata": {},
   "source": [
    "### 2.  Make a dictionary and print it ."
   ]
  },
  {
   "cell_type": "code",
   "execution_count": 5,
   "id": "46648f7c",
   "metadata": {},
   "outputs": [
    {
     "name": "stdout",
     "output_type": "stream",
     "text": [
      "{'one': 'aik', 'three': 'teen', 'ten': 'das', 'fifteen': 'pandra'}\n"
     ]
    }
   ],
   "source": [
    "Fd = {'one': 'aik', 'three' : 'teen', 'ten' :'das','fifteen' :'pandra' }\n",
    "print (Fd)"
   ]
  },
  {
   "cell_type": "markdown",
   "id": "d311c8d1",
   "metadata": {},
   "source": [
    "###  Using key() function  print the list of keys "
   ]
  },
  {
   "cell_type": "code",
   "execution_count": 2,
   "id": "21b4228a",
   "metadata": {},
   "outputs": [
    {
     "name": "stdout",
     "output_type": "stream",
     "text": [
      "['one', 'three', 'ten', 'fifteen']\n"
     ]
    }
   ],
   "source": [
    "keys = list(Fd.keys())\n",
    "print(keys)"
   ]
  },
  {
   "cell_type": "code",
   "execution_count": null,
   "id": "f9c59edf",
   "metadata": {},
   "outputs": [],
   "source": []
  }
 ],
 "metadata": {
  "kernelspec": {
   "display_name": "Python 3 (ipykernel)",
   "language": "python",
   "name": "python3"
  },
  "language_info": {
   "codemirror_mode": {
    "name": "ipython",
    "version": 3
   },
   "file_extension": ".py",
   "mimetype": "text/x-python",
   "name": "python",
   "nbconvert_exporter": "python",
   "pygments_lexer": "ipython3",
   "version": "3.11.5"
  }
 },
 "nbformat": 4,
 "nbformat_minor": 5
}
