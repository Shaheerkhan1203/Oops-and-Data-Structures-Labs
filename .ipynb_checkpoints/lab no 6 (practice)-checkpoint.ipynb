{
 "cells": [
  {
   "cell_type": "markdown",
   "id": "9d9f303b",
   "metadata": {},
   "source": [
    "### 2. Consider the following class definition from the last class. "
   ]
  },
  {
   "cell_type": "code",
   "execution_count": 10,
   "id": "eb4d553e",
   "metadata": {},
   "outputs": [],
   "source": [
    "class Dog:\n",
    "    species = \"Canis familiaris\"\n",
    "    def __init__(self, name, age):\n",
    "        self.name = name\n",
    "        self.age = age\n",
    "# Instance method\n",
    "    def description(self):\n",
    "        return f\"{self.name} is {self.age} years old\"\n",
    "# Another instance method\n",
    "    def speak(self, sound):\n",
    "        return f\"{self.name} says {sound}\""
   ]
  },
  {
   "cell_type": "markdown",
   "id": "11507cba",
   "metadata": {},
   "source": [
    "### a. Run the code: miles.description()"
   ]
  },
  {
   "cell_type": "code",
   "execution_count": 11,
   "id": "7e8ef609",
   "metadata": {},
   "outputs": [
    {
     "data": {
      "text/plain": [
       "'Miles is 4 years old'"
      ]
     },
     "execution_count": 11,
     "metadata": {},
     "output_type": "execute_result"
    }
   ],
   "source": [
    "miles=Dog(\"Miles\",4)\n",
    "miles.description()"
   ]
  },
  {
   "cell_type": "markdown",
   "id": "cef4a9db",
   "metadata": {},
   "source": [
    "### b. Run the code: print(miles)"
   ]
  },
  {
   "cell_type": "code",
   "execution_count": 12,
   "id": "9b6e57cc",
   "metadata": {},
   "outputs": [
    {
     "name": "stdout",
     "output_type": "stream",
     "text": [
      "<__main__.Dog object at 0x00000252C8B17750>\n"
     ]
    }
   ],
   "source": [
    "print(miles)"
   ]
  },
  {
   "cell_type": "code",
   "execution_count": 19,
   "id": "3b3b1625",
   "metadata": {},
   "outputs": [
    {
     "data": {
      "text/plain": [
       "<__main__.Dog at 0x21d1452fe50>"
      ]
     },
     "execution_count": 19,
     "metadata": {},
     "output_type": "execute_result"
    }
   ],
   "source": [
    "miles"
   ]
  },
  {
   "cell_type": "markdown",
   "id": "412b7626",
   "metadata": {},
   "source": [
    "### c. Copy this list to the code editor, names = [\"Fletcher\", \"David\", \"Dan\"]. Now run print(names). Note: What is the difference between the two prints, the first one prints a memory address while the second one prints the list. The second one is good and attractive. "
   ]
  },
  {
   "cell_type": "code",
   "execution_count": 17,
   "id": "fd094a36",
   "metadata": {},
   "outputs": [
    {
     "name": "stdout",
     "output_type": "stream",
     "text": [
      "['Fletcher', 'David', 'Dan']\n"
     ]
    }
   ],
   "source": [
    "names = [\"Fletcher\", \"David\", \"Dan\"]\n",
    "print(names)"
   ]
  },
  {
   "cell_type": "markdown",
   "id": "d06a2c1b",
   "metadata": {},
   "source": [
    "### d. Now modify the dog class as follows:"
   ]
  },
  {
   "cell_type": "code",
   "execution_count": 24,
   "id": "bcf077c2",
   "metadata": {},
   "outputs": [],
   "source": [
    "class Dog:\n",
    "    species = \"Canis familiaris\"\n",
    "    def __init__(self, name, age):\n",
    "        self.name = name\n",
    "        self.age = age\n",
    "# Instance method\n",
    "    def __str__(self):\n",
    "        return f\"{self.name} is {self.age} years old\"\n",
    "# Another instance method\n",
    "    def speak(self, sound):\n",
    "        return f\"{self.name} says {sound}\""
   ]
  },
  {
   "cell_type": "markdown",
   "id": "28bacd10",
   "metadata": {},
   "source": [
    "### In the above code, only the description function is replaced with a new name __str__. Now make an object/instance of the Dog class and then run the code print ()"
   ]
  },
  {
   "cell_type": "code",
   "execution_count": 25,
   "id": "451b3bc2",
   "metadata": {},
   "outputs": [
    {
     "name": "stdout",
     "output_type": "stream",
     "text": [
      "Miles is 4 years old\n"
     ]
    }
   ],
   "source": [
    "miles=Dog(\"Miles\",4)\n",
    "print(miles)"
   ]
  },
  {
   "cell_type": "markdown",
   "id": "29a86e95",
   "metadata": {},
   "source": [
    "### 3. Consider the car class."
   ]
  },
  {
   "cell_type": "code",
   "execution_count": 26,
   "id": "eda27a5a",
   "metadata": {},
   "outputs": [],
   "source": [
    "class Car:\n",
    "    def __init__(self, color, mileage): \n",
    "        self.color = color \n",
    "        self.mileage = mileage"
   ]
  },
  {
   "cell_type": "markdown",
   "id": "38c4e92c",
   "metadata": {},
   "source": [
    "### a. Define an object:\n"
   ]
  },
  {
   "cell_type": "code",
   "execution_count": 27,
   "id": "fb0e7123",
   "metadata": {},
   "outputs": [],
   "source": [
    "my_car = Car('red', 37281)"
   ]
  },
  {
   "cell_type": "markdown",
   "id": "a98be753",
   "metadata": {},
   "source": [
    "### b. Run: print(my_car)"
   ]
  },
  {
   "cell_type": "code",
   "execution_count": 28,
   "id": "7ca9981b",
   "metadata": {},
   "outputs": [
    {
     "name": "stdout",
     "output_type": "stream",
     "text": [
      "<__main__.Car object at 0x0000021D1459F850>\n"
     ]
    }
   ],
   "source": [
    "print(my_car)"
   ]
  },
  {
   "cell_type": "markdown",
   "id": "023fcbac",
   "metadata": {},
   "source": [
    "### c. Run: my_car"
   ]
  },
  {
   "cell_type": "code",
   "execution_count": 29,
   "id": "e07b5eb6",
   "metadata": {},
   "outputs": [
    {
     "data": {
      "text/plain": [
       "<__main__.Car at 0x21d1459f850>"
      ]
     },
     "execution_count": 29,
     "metadata": {},
     "output_type": "execute_result"
    }
   ],
   "source": [
    "my_car"
   ]
  },
  {
   "cell_type": "markdown",
   "id": "1f11d51b",
   "metadata": {},
   "source": [
    "### 4. Modify the car class by introducing an __str__ method."
   ]
  },
  {
   "cell_type": "code",
   "execution_count": 57,
   "id": "93f5f790",
   "metadata": {},
   "outputs": [],
   "source": [
    "class Car:\n",
    "    def __init__(self, color, mileage):\n",
    "        self.color = color\n",
    "        self.mileage = mileage\n",
    "    def __str__(self):\n",
    "         return f\"The {self.color} car has {self.mileage:,} miles\""
   ]
  },
  {
   "cell_type": "markdown",
   "id": "06ed37dc",
   "metadata": {},
   "source": [
    "### a. Define an object: my_car = Car('red', 37281)"
   ]
  },
  {
   "cell_type": "code",
   "execution_count": 31,
   "id": "8fae9365",
   "metadata": {},
   "outputs": [],
   "source": [
    "my_car = Car('red', 37281)"
   ]
  },
  {
   "cell_type": "markdown",
   "id": "035f6b4c",
   "metadata": {},
   "source": [
    "### b. Run: print(my_car.color, my_car.mileage)"
   ]
  },
  {
   "cell_type": "code",
   "execution_count": 32,
   "id": "9fb2552a",
   "metadata": {},
   "outputs": [
    {
     "name": "stdout",
     "output_type": "stream",
     "text": [
      "red 37281\n"
     ]
    }
   ],
   "source": [
    "print(my_car.color, my_car.mileage)"
   ]
  },
  {
   "cell_type": "markdown",
   "id": "db6691a5",
   "metadata": {},
   "source": [
    "### c. Run: print(my_car)"
   ]
  },
  {
   "cell_type": "code",
   "execution_count": 33,
   "id": "e38e6260",
   "metadata": {},
   "outputs": [
    {
     "name": "stdout",
     "output_type": "stream",
     "text": [
      "The red car has 37,281 miles\n"
     ]
    }
   ],
   "source": [
    "print(my_car)"
   ]
  },
  {
   "cell_type": "markdown",
   "id": "84819e2f",
   "metadata": {},
   "source": [
    "### d. Run: my_car"
   ]
  },
  {
   "cell_type": "code",
   "execution_count": 34,
   "id": "3bbf36fa",
   "metadata": {},
   "outputs": [
    {
     "data": {
      "text/plain": [
       "<__main__.Car at 0x21d145b71d0>"
      ]
     },
     "execution_count": 34,
     "metadata": {},
     "output_type": "execute_result"
    }
   ],
   "source": [
    "my_car"
   ]
  },
  {
   "cell_type": "markdown",
   "id": "cfebe294",
   "metadata": {},
   "source": [
    "### e. Add docstrings for the class and functions."
   ]
  },
  {
   "cell_type": "code",
   "execution_count": 2,
   "id": "5eb511d2",
   "metadata": {},
   "outputs": [],
   "source": [
    "class Car:\n",
    "    \"\"\"A class representing a car with color and mileage.\"\"\"\n",
    "\n",
    "    def __init__(self, color, mileage):\n",
    "        \"\"\"Initialize the car with a given color and mileage.Parameters:- color (str): The color of the car.- mileage (int): The mileage of the car.\"\"\"\n",
    "        self.color = color\n",
    "        self.mileage = mileage\n",
    "\n",
    "    def __str__(self):\n",
    "        \"\"\" Return a string representation of the car.Returns:  str: A formatted string describing the car's color and mileage  \"\"\"\n",
    "        return f\"The {self.color} car has {self.mileage:,} miles\""
   ]
  },
  {
   "cell_type": "markdown",
   "id": "467fb275",
   "metadata": {},
   "source": [
    "### f. Print the docstring using __doc__. "
   ]
  },
  {
   "cell_type": "code",
   "execution_count": 4,
   "id": "77c80926",
   "metadata": {},
   "outputs": [
    {
     "name": "stdout",
     "output_type": "stream",
     "text": [
      "A class representing a car with color and mileage.\n"
     ]
    }
   ],
   "source": [
    "print(Car.__doc__)"
   ]
  },
  {
   "cell_type": "code",
   "execution_count": 5,
   "id": "1becc425",
   "metadata": {},
   "outputs": [
    {
     "name": "stdout",
     "output_type": "stream",
     "text": [
      "Initialize the car with a given color and mileage.Parameters:- color (str): The color of the car.- mileage (int): The mileage of the car.\n"
     ]
    }
   ],
   "source": [
    "print(Car.__init__.__doc__)"
   ]
  },
  {
   "cell_type": "code",
   "execution_count": 6,
   "id": "8beb2b06",
   "metadata": {},
   "outputs": [
    {
     "name": "stdout",
     "output_type": "stream",
     "text": [
      " Return a string representation of the car.Returns:  str: A formatted string describing the car's color and mileage  \n"
     ]
    }
   ],
   "source": [
    "print(Car.__str__.__doc__)"
   ]
  },
  {
   "cell_type": "markdown",
   "id": "f3f243ed",
   "metadata": {},
   "source": [
    "### g. Use the help function to print the class details. "
   ]
  },
  {
   "cell_type": "code",
   "execution_count": 7,
   "id": "b03bf3e4",
   "metadata": {},
   "outputs": [
    {
     "name": "stdout",
     "output_type": "stream",
     "text": [
      "Help on class Car in module __main__:\n",
      "\n",
      "class Car(builtins.object)\n",
      " |  Car(color, mileage)\n",
      " |  \n",
      " |  A class representing a car with color and mileage.\n",
      " |  \n",
      " |  Methods defined here:\n",
      " |  \n",
      " |  __init__(self, color, mileage)\n",
      " |      Initialize the car with a given color and mileage.Parameters:- color (str): The color of the car.- mileage (int): The mileage of the car.\n",
      " |  \n",
      " |  __str__(self)\n",
      " |      Return a string representation of the car.Returns:  str: A formatted string describing the car's color and mileage\n",
      " |  \n",
      " |  ----------------------------------------------------------------------\n",
      " |  Data descriptors defined here:\n",
      " |  \n",
      " |  __dict__\n",
      " |      dictionary for instance variables (if defined)\n",
      " |  \n",
      " |  __weakref__\n",
      " |      list of weak references to the object (if defined)\n",
      "\n"
     ]
    }
   ],
   "source": [
    "help(Car)"
   ]
  },
  {
   "cell_type": "markdown",
   "id": "99bb0d56",
   "metadata": {},
   "source": [
    "### 5. Complete car class "
   ]
  },
  {
   "cell_type": "code",
   "execution_count": 8,
   "id": "ae3e0cbd",
   "metadata": {},
   "outputs": [],
   "source": [
    "class Car:\n",
    "    def __init__(self, color, mileage):\n",
    "        self.color = color\n",
    "        self.mileage = mileage\n",
    "    def __repr__(self):\n",
    "        return (f'{self.__class__.__name__}('f'{self.color!r}, {self.mileage!r})')\n",
    "    def __str__(self):\n",
    "        return f'a {self.color} car'"
   ]
  },
  {
   "cell_type": "markdown",
   "id": "28089dac",
   "metadata": {},
   "source": [
    "### a. Define an object: my_car = Car('red', 37281)"
   ]
  },
  {
   "cell_type": "code",
   "execution_count": 9,
   "id": "d7b746db",
   "metadata": {},
   "outputs": [],
   "source": [
    "my_car = Car('red', 37281)"
   ]
  },
  {
   "cell_type": "markdown",
   "id": "c800ecc5",
   "metadata": {},
   "source": [
    "### b. Run: print(my_car.color, my_car.mileage)"
   ]
  },
  {
   "cell_type": "code",
   "execution_count": 10,
   "id": "7820c4d2",
   "metadata": {},
   "outputs": [
    {
     "name": "stdout",
     "output_type": "stream",
     "text": [
      "red 37281\n"
     ]
    }
   ],
   "source": [
    "print(my_car.color, my_car.mileage)"
   ]
  },
  {
   "cell_type": "markdown",
   "id": "e18948a3",
   "metadata": {},
   "source": [
    "### c. Run: print(my_car)"
   ]
  },
  {
   "cell_type": "code",
   "execution_count": 11,
   "id": "4de637b8",
   "metadata": {},
   "outputs": [
    {
     "name": "stdout",
     "output_type": "stream",
     "text": [
      "a red car\n"
     ]
    }
   ],
   "source": [
    "print(my_car)"
   ]
  },
  {
   "cell_type": "markdown",
   "id": "a1ab4869",
   "metadata": {},
   "source": [
    "### d. Run: my_car"
   ]
  },
  {
   "cell_type": "code",
   "execution_count": 12,
   "id": "97c13236",
   "metadata": {},
   "outputs": [
    {
     "data": {
      "text/plain": [
       "Car('red', 37281)"
      ]
     },
     "execution_count": 12,
     "metadata": {},
     "output_type": "execute_result"
    }
   ],
   "source": [
    "my_car"
   ]
  },
  {
   "cell_type": "markdown",
   "id": "042e73a9",
   "metadata": {},
   "source": [
    "### 6. Consider the car class again. Add a new dunder method __repr__. "
   ]
  },
  {
   "cell_type": "code",
   "execution_count": 13,
   "id": "e4883daf",
   "metadata": {},
   "outputs": [],
   "source": [
    "class Car:\n",
    "    def __init__(self, color, mileage): \n",
    "        self.color = color \n",
    "        self.mileage = mileage\n",
    "    def __repr__(self):\n",
    "        return '__repr__ for Car'\n",
    "    def __str__(self):\n",
    "        return '__str__ for Car'"
   ]
  },
  {
   "cell_type": "markdown",
   "id": "b832e4eb",
   "metadata": {},
   "source": [
    "### a. Define an object: my_car = Car('red', 37281)"
   ]
  },
  {
   "cell_type": "code",
   "execution_count": 14,
   "id": "ff832948",
   "metadata": {},
   "outputs": [],
   "source": [
    "my_car = Car('red', 37281)"
   ]
  },
  {
   "cell_type": "markdown",
   "id": "f2e55aa0",
   "metadata": {},
   "source": [
    "### b. Run: print (my_car.color, my_car.mileage)"
   ]
  },
  {
   "cell_type": "code",
   "execution_count": 15,
   "id": "eb6cb3b6",
   "metadata": {},
   "outputs": [
    {
     "name": "stdout",
     "output_type": "stream",
     "text": [
      "red 37281\n"
     ]
    }
   ],
   "source": [
    "print (my_car.color, my_car.mileage)"
   ]
  },
  {
   "cell_type": "markdown",
   "id": "48ebbfa5",
   "metadata": {},
   "source": [
    "### c. Run: print(my_car)"
   ]
  },
  {
   "cell_type": "code",
   "execution_count": 16,
   "id": "0fd8c4d8",
   "metadata": {},
   "outputs": [
    {
     "name": "stdout",
     "output_type": "stream",
     "text": [
      "__str__ for Car\n"
     ]
    }
   ],
   "source": [
    "print(my_car)"
   ]
  },
  {
   "cell_type": "markdown",
   "id": "5096eea9",
   "metadata": {},
   "source": [
    "### d. Run: my_car"
   ]
  },
  {
   "cell_type": "code",
   "execution_count": 17,
   "id": "c1550c7c",
   "metadata": {},
   "outputs": [
    {
     "data": {
      "text/plain": [
       "__repr__ for Car"
      ]
     },
     "execution_count": 17,
     "metadata": {},
     "output_type": "execute_result"
    }
   ],
   "source": [
    "my_car"
   ]
  },
  {
   "cell_type": "markdown",
   "id": "4031c77c",
   "metadata": {},
   "source": [
    "### 7. Consider the following code. "
   ]
  },
  {
   "cell_type": "code",
   "execution_count": 18,
   "id": "a5a297fe",
   "metadata": {},
   "outputs": [],
   "source": [
    "import math\n",
    "class Point:\n",
    "    'Represents a point in two-dimensional geometric coordinates'\n",
    "    def __init__(self, x=0, y=0):\n",
    "        '''Initialize the position of a new point. The x and ycoordinates can be specified. If they are not, thepoint defaults to the origin.'''\n",
    "        self.move(x, y)\n",
    "    def move(self, x, y):\n",
    "        '''Move the point to a new location in 2D space.'''\n",
    "        self.x = x\n",
    "        self.y = y\n",
    "    def reset(self):\n",
    "        '''Reset the point back to the geometric origin: 0, 0'''\n",
    "        self.move(0, 0)\n",
    "    def calculate_distance(self, other_point):\n",
    "        \"\"\"Calculate the distance from this point to a second point passed as a parameter. This function uses the Pythagorean Theorem to calculate the distance between the two points. The distance is returned as a float.\"\"\"\n",
    "        return math.sqrt((self.x - other_point.x)**2 +(self.y -other_point.y)**2)"
   ]
  },
  {
   "cell_type": "markdown",
   "id": "a81407fd",
   "metadata": {},
   "source": [
    "### h. Define an object point = Point(3, 9) and print its coordinate. "
   ]
  },
  {
   "cell_type": "code",
   "execution_count": 20,
   "id": "890a86be",
   "metadata": {},
   "outputs": [
    {
     "name": "stdout",
     "output_type": "stream",
     "text": [
      "3 9\n"
     ]
    }
   ],
   "source": [
    "point = Point(3,9)\n",
    "print(point.x,point.y)"
   ]
  },
  {
   "cell_type": "markdown",
   "id": "05eb3884",
   "metadata": {},
   "source": [
    "### i. Print the class docstring. "
   ]
  },
  {
   "cell_type": "code",
   "execution_count": 21,
   "id": "e3f442c1",
   "metadata": {},
   "outputs": [
    {
     "name": "stdout",
     "output_type": "stream",
     "text": [
      "Represents a point in two-dimensional geometric coordinates\n"
     ]
    }
   ],
   "source": [
    "print(Point.__doc__)"
   ]
  },
  {
   "cell_type": "markdown",
   "id": "47a9aed3",
   "metadata": {},
   "source": [
    "### j. Print different method docstring using object.method. __doc__"
   ]
  },
  {
   "cell_type": "code",
   "execution_count": 22,
   "id": "d70344dc",
   "metadata": {},
   "outputs": [
    {
     "name": "stdout",
     "output_type": "stream",
     "text": [
      "Reset the point back to the geometric origin: 0, 0\n"
     ]
    }
   ],
   "source": [
    "print(point.reset.__doc__)"
   ]
  },
  {
   "cell_type": "markdown",
   "id": "9ab60f60",
   "metadata": {},
   "source": [
    "### 1. Point class"
   ]
  },
  {
   "cell_type": "code",
   "execution_count": 24,
   "id": "cad1e3fd",
   "metadata": {},
   "outputs": [],
   "source": [
    "# point.py\n",
    "class Point:\n",
    "    def __init__(self, x, y):\n",
    "        print(\"Initialize the new instance of Point.\")\n",
    "        self.x = x\n",
    "        self.y = y\n",
    "    def __repr__(self)-> str :\n",
    "        return f\"{type(self).__name__}(x={self.x}, y={self.y})\""
   ]
  },
  {
   "cell_type": "markdown",
   "id": "180aed5a",
   "metadata": {},
   "source": [
    "### a. Run the following code \n",
    "### point = Point(21, 42)\n",
    "### point\n"
   ]
  },
  {
   "cell_type": "code",
   "execution_count": 25,
   "id": "6cf6f571",
   "metadata": {},
   "outputs": [
    {
     "name": "stdout",
     "output_type": "stream",
     "text": [
      "Initialize the new instance of Point.\n"
     ]
    },
    {
     "data": {
      "text/plain": [
       "Point(x=21, y=42)"
      ]
     },
     "execution_count": 25,
     "metadata": {},
     "output_type": "execute_result"
    }
   ],
   "source": [
    "point = Point(21, 42)\n",
    "point"
   ]
  },
  {
   "cell_type": "markdown",
   "id": "5d11920d",
   "metadata": {},
   "source": [
    "### b. The __init__ can be called by the instance and pass value directly. Run the following code.\n",
    "### point.__init__(34, 45)\n",
    "### point.x\n",
    "### point.y\n",
    "### point"
   ]
  },
  {
   "cell_type": "code",
   "execution_count": 26,
   "id": "d21fefba",
   "metadata": {},
   "outputs": [
    {
     "name": "stdout",
     "output_type": "stream",
     "text": [
      "Initialize the new instance of Point.\n"
     ]
    },
    {
     "data": {
      "text/plain": [
       "Point(x=34, y=45)"
      ]
     },
     "execution_count": 26,
     "metadata": {},
     "output_type": "execute_result"
    }
   ],
   "source": [
    "point.__init__(34, 45)\n",
    "point.x\n",
    "point.y\n",
    "point"
   ]
  }
 ],
 "metadata": {
  "kernelspec": {
   "display_name": "Python 3 (ipykernel)",
   "language": "python",
   "name": "python3"
  },
  "language_info": {
   "codemirror_mode": {
    "name": "ipython",
    "version": 3
   },
   "file_extension": ".py",
   "mimetype": "text/x-python",
   "name": "python",
   "nbconvert_exporter": "python",
   "pygments_lexer": "ipython3",
   "version": "3.11.5"
  }
 },
 "nbformat": 4,
 "nbformat_minor": 5
}
