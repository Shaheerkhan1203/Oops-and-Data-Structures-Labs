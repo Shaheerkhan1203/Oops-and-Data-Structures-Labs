{
 "cells": [
  {
   "cell_type": "markdown",
   "id": "12fdcc5d",
   "metadata": {},
   "source": [
    "# 1. Observe the output of the following if:\n",
    "## a = 5   ,  b = 10\n",
    "## f'Five plus ten is {a + b} and not {2 * (a + b)}"
   ]
  },
  {
   "cell_type": "code",
   "execution_count": 3,
   "id": "a5602cae",
   "metadata": {},
   "outputs": [
    {
     "data": {
      "text/plain": [
       "'Five plus ten is 15 and not 30'"
      ]
     },
     "execution_count": 3,
     "metadata": {},
     "output_type": "execute_result"
    }
   ],
   "source": [
    "a = 5\n",
    "b = 10\n",
    "f'Five plus ten is {a + b} and not {2 * (a + b)}'"
   ]
  },
  {
   "cell_type": "markdown",
   "id": "076dab46",
   "metadata": {},
   "source": [
    "# 2. Make a list of odd number using list comprehension."
   ]
  },
  {
   "cell_type": "code",
   "execution_count": 4,
   "id": "a9940f3b",
   "metadata": {},
   "outputs": [
    {
     "name": "stdout",
     "output_type": "stream",
     "text": [
      "[1, 9, 25, 49, 81]\n"
     ]
    }
   ],
   "source": [
    "even_squares = [x * x for x in range(10) if x % 2 != 0]\n",
    "print(even_squares)"
   ]
  }
 ],
 "metadata": {
  "kernelspec": {
   "display_name": "Python 3 (ipykernel)",
   "language": "python",
   "name": "python3"
  },
  "language_info": {
   "codemirror_mode": {
    "name": "ipython",
    "version": 3
   },
   "file_extension": ".py",
   "mimetype": "text/x-python",
   "name": "python",
   "nbconvert_exporter": "python",
   "pygments_lexer": "ipython3",
   "version": "3.11.5"
  }
 },
 "nbformat": 4,
 "nbformat_minor": 5
}
