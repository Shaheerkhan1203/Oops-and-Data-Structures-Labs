{
 "cells": [
  {
   "cell_type": "markdown",
   "id": "4140be01",
   "metadata": {},
   "source": [
    "### 1. Consider the following code. "
   ]
  },
  {
   "cell_type": "code",
   "execution_count": 38,
   "id": "45a85eab",
   "metadata": {},
   "outputs": [],
   "source": [
    "import math\n",
    "class Point:\n",
    "    'Represents a point in two-dimensional geometric coordinates'\n",
    "    def __init__(self, x=0, y=0):\n",
    "        '''Initialize the position of a new point. The x and ycoordinates can be specified. If they are not, thepoint defaults to the origin.'''\n",
    "        self.move(x, y)\n",
    "    def move(self, x, y):\n",
    "        '''Move the point to a new location in 2D space.'''\n",
    "        self.x = x\n",
    "        self.y = y\n",
    "    def reset(self):\n",
    "        '''Reset the point back to the geometric origin: 0, 0'''\n",
    "        self.move(0, 0)\n",
    "    def __repr__(self) -> str:\n",
    "        return f\"{type(self).__name__}(x={self.x}, y={self.y})\"\n",
    "    def __str__(self) -> str:\n",
    "        return f\"{type(self).__name__}(x={self.x}, y={self.y})\"\n",
    "    def calculate_distance(self, other_point):\n",
    "        \"\"\"Calculate the distance from this point to a second point passed as a parameter. This function uses the Pythagorean Theorem to calculate the distance between the two points. The distance is returned as a float.\"\"\"\n",
    "        return math.sqrt((self.x - other_point.x)**2 +(self.y -other_point.y)**2)"
   ]
  },
  {
   "cell_type": "markdown",
   "id": "8d346ab9",
   "metadata": {},
   "source": [
    "### a. Define an object point = Point(3, 9) and print its coordinate."
   ]
  },
  {
   "cell_type": "code",
   "execution_count": 39,
   "id": "99b3bc0c",
   "metadata": {},
   "outputs": [],
   "source": [
    "point = Point(3, 9)"
   ]
  },
  {
   "cell_type": "code",
   "execution_count": 40,
   "id": "072ea329",
   "metadata": {},
   "outputs": [
    {
     "name": "stdout",
     "output_type": "stream",
     "text": [
      "3  ,  9\n"
     ]
    }
   ],
   "source": [
    "print(point.x,\" , \",point.y)"
   ]
  },
  {
   "cell_type": "markdown",
   "id": "f933874a",
   "metadata": {},
   "source": [
    "### b. Print the class docstring. "
   ]
  },
  {
   "cell_type": "code",
   "execution_count": 41,
   "id": "dbf0c9a8",
   "metadata": {},
   "outputs": [
    {
     "data": {
      "text/plain": [
       "'Represents a point in two-dimensional geometric coordinates'"
      ]
     },
     "execution_count": 41,
     "metadata": {},
     "output_type": "execute_result"
    }
   ],
   "source": [
    "Point.__doc__"
   ]
  },
  {
   "cell_type": "markdown",
   "id": "24bc7a72",
   "metadata": {},
   "source": [
    "### c. Print different method docstring using object.method. __doc__"
   ]
  },
  {
   "cell_type": "code",
   "execution_count": 42,
   "id": "4c704b22",
   "metadata": {},
   "outputs": [
    {
     "name": "stdout",
     "output_type": "stream",
     "text": [
      "Move the point to a new location in 2D space.\n"
     ]
    }
   ],
   "source": [
    "print(point.move.__doc__)"
   ]
  },
  {
   "cell_type": "code",
   "execution_count": 43,
   "id": "596a4552",
   "metadata": {},
   "outputs": [
    {
     "name": "stdout",
     "output_type": "stream",
     "text": [
      "Reset the point back to the geometric origin: 0, 0\n"
     ]
    }
   ],
   "source": [
    "print(point.reset.__doc__)"
   ]
  },
  {
   "cell_type": "code",
   "execution_count": 44,
   "id": "bad489fe",
   "metadata": {},
   "outputs": [
    {
     "name": "stdout",
     "output_type": "stream",
     "text": [
      "Calculate the distance from this point to a second point passed as a parameter. This function uses the Pythagorean Theorem to calculate the distance between the two points. The distance is returned as a float.\n"
     ]
    }
   ],
   "source": [
    "print(point.calculate_distance.__doc__)"
   ]
  },
  {
   "cell_type": "markdown",
   "id": "762f5784",
   "metadata": {},
   "source": [
    "### d. Add repr and str methods."
   ]
  },
  {
   "cell_type": "code",
   "execution_count": 45,
   "id": "82b9a6f6",
   "metadata": {},
   "outputs": [
    {
     "name": "stdout",
     "output_type": "stream",
     "text": [
      "Point(x=3, y=9)\n"
     ]
    }
   ],
   "source": [
    "print(point)"
   ]
  },
  {
   "cell_type": "code",
   "execution_count": 46,
   "id": "ada6900a",
   "metadata": {},
   "outputs": [
    {
     "data": {
      "text/plain": [
       "Point(x=3, y=9)"
      ]
     },
     "execution_count": 46,
     "metadata": {},
     "output_type": "execute_result"
    }
   ],
   "source": [
    "point"
   ]
  },
  {
   "cell_type": "markdown",
   "id": "df7bb8b1",
   "metadata": {},
   "source": [
    "### e. Define a second object and test the str and rpr methods."
   ]
  },
  {
   "cell_type": "code",
   "execution_count": 47,
   "id": "c1734b61",
   "metadata": {},
   "outputs": [],
   "source": [
    "point1 = Point(7, 5)"
   ]
  },
  {
   "cell_type": "code",
   "execution_count": 48,
   "id": "75bb940f",
   "metadata": {},
   "outputs": [
    {
     "data": {
      "text/plain": [
       "Point(x=7, y=5)"
      ]
     },
     "execution_count": 48,
     "metadata": {},
     "output_type": "execute_result"
    }
   ],
   "source": [
    "point1"
   ]
  },
  {
   "cell_type": "code",
   "execution_count": 49,
   "id": "3648f687",
   "metadata": {},
   "outputs": [
    {
     "name": "stdout",
     "output_type": "stream",
     "text": [
      "Point(x=7, y=5)\n"
     ]
    }
   ],
   "source": [
    "print(point1)"
   ]
  },
  {
   "cell_type": "markdown",
   "id": "97fe258d",
   "metadata": {},
   "source": [
    "### f. Also print the different docstrings using __doc__."
   ]
  },
  {
   "cell_type": "code",
   "execution_count": 50,
   "id": "4f4dbfb9",
   "metadata": {},
   "outputs": [
    {
     "name": "stdout",
     "output_type": "stream",
     "text": [
      "Represents a point in two-dimensional geometric coordinates\n"
     ]
    }
   ],
   "source": [
    "print(Point.__doc__)"
   ]
  },
  {
   "cell_type": "code",
   "execution_count": 51,
   "id": "3e50f63d",
   "metadata": {},
   "outputs": [
    {
     "name": "stdout",
     "output_type": "stream",
     "text": [
      "Initialize the position of a new point. The x and ycoordinates can be specified. If they are not, thepoint defaults to the origin.\n"
     ]
    }
   ],
   "source": [
    "print(point.__init__.__doc__)"
   ]
  },
  {
   "cell_type": "code",
   "execution_count": 52,
   "id": "a8af7153",
   "metadata": {},
   "outputs": [
    {
     "name": "stdout",
     "output_type": "stream",
     "text": [
      "Move the point to a new location in 2D space.\n"
     ]
    }
   ],
   "source": [
    "print(point.move.__doc__)"
   ]
  },
  {
   "cell_type": "code",
   "execution_count": 53,
   "id": "2902c5f7",
   "metadata": {},
   "outputs": [
    {
     "name": "stdout",
     "output_type": "stream",
     "text": [
      "Reset the point back to the geometric origin: 0, 0\n"
     ]
    }
   ],
   "source": [
    "print(point.reset.__doc__)"
   ]
  },
  {
   "cell_type": "code",
   "execution_count": 54,
   "id": "a77023bc",
   "metadata": {},
   "outputs": [
    {
     "name": "stdout",
     "output_type": "stream",
     "text": [
      "None\n"
     ]
    }
   ],
   "source": [
    "print(point.__str__.__doc__)"
   ]
  },
  {
   "cell_type": "code",
   "execution_count": 55,
   "id": "5f192b5d",
   "metadata": {},
   "outputs": [
    {
     "name": "stdout",
     "output_type": "stream",
     "text": [
      "None\n"
     ]
    }
   ],
   "source": [
    "print(point.__repr__.__doc__)"
   ]
  },
  {
   "cell_type": "code",
   "execution_count": 56,
   "id": "e09822f4",
   "metadata": {},
   "outputs": [
    {
     "name": "stdout",
     "output_type": "stream",
     "text": [
      "Calculate the distance from this point to a second point passed as a parameter. This function uses the Pythagorean Theorem to calculate the distance between the two points. The distance is returned as a float.\n"
     ]
    }
   ],
   "source": [
    "print(point.calculate_distance.__doc__)"
   ]
  },
  {
   "cell_type": "markdown",
   "id": "e459b5a6",
   "metadata": {},
   "source": [
    "###  g. Use the help method to print the class details. "
   ]
  },
  {
   "cell_type": "code",
   "execution_count": 9,
   "id": "2843e7bc",
   "metadata": {},
   "outputs": [
    {
     "name": "stdout",
     "output_type": "stream",
     "text": [
      "Help on class Point in module __main__:\n",
      "\n",
      "class Point(builtins.object)\n",
      " |  Point(x=0, y=0)\n",
      " |  \n",
      " |  Represents a point in two-dimensional geometric coordinates\n",
      " |  \n",
      " |  Methods defined here:\n",
      " |  \n",
      " |  __init__(self, x=0, y=0)\n",
      " |      Initialize the position of a new point. The x and ycoordinates can be specified. If they are not, thepoint defaults to the origin.\n",
      " |  \n",
      " |  __repr__(self) -> str\n",
      " |      Return repr(self).\n",
      " |  \n",
      " |  __str__(self) -> str\n",
      " |      Return str(self).\n",
      " |  \n",
      " |  calculate_distance(self, other_point)\n",
      " |      Calculate the distance from this point to a second point passed as a parameter. This function uses the Pythagorean Theorem to calculate the distance between the two points. The distance is returned as a float.\n",
      " |  \n",
      " |  move(self, x, y)\n",
      " |      Move the point to a new location in 2D space.\n",
      " |  \n",
      " |  reset(self)\n",
      " |      Reset the point back to the geometric origin: 0, 0\n",
      " |  \n",
      " |  ----------------------------------------------------------------------\n",
      " |  Data descriptors defined here:\n",
      " |  \n",
      " |  __dict__\n",
      " |      dictionary for instance variables (if defined)\n",
      " |  \n",
      " |  __weakref__\n",
      " |      list of weak references to the object (if defined)\n",
      "\n"
     ]
    }
   ],
   "source": [
    "help(Point)"
   ]
  },
  {
   "cell_type": "code",
   "execution_count": null,
   "id": "344c042f",
   "metadata": {},
   "outputs": [],
   "source": []
  }
 ],
 "metadata": {
  "kernelspec": {
   "display_name": "Python 3 (ipykernel)",
   "language": "python",
   "name": "python3"
  },
  "language_info": {
   "codemirror_mode": {
    "name": "ipython",
    "version": 3
   },
   "file_extension": ".py",
   "mimetype": "text/x-python",
   "name": "python",
   "nbconvert_exporter": "python",
   "pygments_lexer": "ipython3",
   "version": "3.11.5"
  }
 },
 "nbformat": 4,
 "nbformat_minor": 5
}
