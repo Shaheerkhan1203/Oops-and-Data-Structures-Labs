{
 "cells": [
  {
   "cell_type": "markdown",
   "id": "bfbaa2fb",
   "metadata": {},
   "source": [
    "### 1. Motivation\n",
    "### Interest is to make a list that can store employee data. [name, age, position, the year they started working]For example"
   ]
  },
  {
   "cell_type": "code",
   "execution_count": 27,
   "id": "80a46611",
   "metadata": {},
   "outputs": [],
   "source": [
    "kirk = [\"James Kirk\", 34, \"Captain\", 2265]\n",
    "spock = [\"Spock\", 35, \"Science Officer\", 2254]\n",
    "mccoy = [\"Leonard McCoy\", \"Chief Medical Officer\", 2266]"
   ]
  },
  {
   "cell_type": "markdown",
   "id": "c1538afe",
   "metadata": {},
   "source": [
    "### a. Print(kirk[0])"
   ]
  },
  {
   "cell_type": "code",
   "execution_count": 28,
   "id": "3671d419",
   "metadata": {},
   "outputs": [
    {
     "name": "stdout",
     "output_type": "stream",
     "text": [
      "34\n"
     ]
    }
   ],
   "source": [
    "print(kirk[1])"
   ]
  },
  {
   "cell_type": "markdown",
   "id": "7da1bf27",
   "metadata": {},
   "source": [
    "### b. Print(mccoy[1])"
   ]
  },
  {
   "cell_type": "code",
   "execution_count": 29,
   "id": "340ef941",
   "metadata": {},
   "outputs": [
    {
     "name": "stdout",
     "output_type": "stream",
     "text": [
      "Chief Medical Officer\n"
     ]
    }
   ],
   "source": [
    "print(mccoy[1])"
   ]
  },
  {
   "cell_type": "markdown",
   "id": "0040464a",
   "metadata": {},
   "source": [
    "### 2. Dog class"
   ]
  },
  {
   "cell_type": "code",
   "execution_count": 30,
   "id": "8b04c951",
   "metadata": {},
   "outputs": [],
   "source": [
    "class Dog:\n",
    "    pass"
   ]
  },
  {
   "cell_type": "markdown",
   "id": "23b4158d",
   "metadata": {},
   "source": [
    "### a. Dog()"
   ]
  },
  {
   "cell_type": "code",
   "execution_count": 31,
   "id": "73f1d336",
   "metadata": {},
   "outputs": [
    {
     "data": {
      "text/plain": [
       "<__main__.Dog at 0x15d4478b790>"
      ]
     },
     "execution_count": 31,
     "metadata": {},
     "output_type": "execute_result"
    }
   ],
   "source": [
    "Dog()"
   ]
  },
  {
   "cell_type": "markdown",
   "id": "a620d968",
   "metadata": {},
   "source": [
    "### b. Inst=Dog()"
   ]
  },
  {
   "cell_type": "code",
   "execution_count": 32,
   "id": "66cc8e73",
   "metadata": {},
   "outputs": [],
   "source": [
    "Inst=Dog()"
   ]
  },
  {
   "cell_type": "markdown",
   "id": "ae03e4f6",
   "metadata": {},
   "source": [
    "### c. Create two new Dog objects and assign them to the variables a and b."
   ]
  },
  {
   "cell_type": "code",
   "execution_count": 33,
   "id": "3f4b39cc",
   "metadata": {},
   "outputs": [],
   "source": [
    "a = Dog()\n",
    "b = Dog()"
   ]
  },
  {
   "cell_type": "markdown",
   "id": "02d05549",
   "metadata": {},
   "source": [
    "### d. When you compare a and b using the == operator, the result is False. Even though a and b are both instances of the Dog class, they represent two distinct objects in memory."
   ]
  },
  {
   "cell_type": "code",
   "execution_count": 34,
   "id": "c621c521",
   "metadata": {},
   "outputs": [
    {
     "data": {
      "text/plain": [
       "False"
      ]
     },
     "execution_count": 34,
     "metadata": {},
     "output_type": "execute_result"
    }
   ],
   "source": [
    "a == b"
   ]
  },
  {
   "cell_type": "markdown",
   "id": "83914341",
   "metadata": {},
   "source": [
    "### e. Use the print command and print both instances/ objects. "
   ]
  },
  {
   "cell_type": "code",
   "execution_count": 39,
   "id": "f5505c01",
   "metadata": {},
   "outputs": [
    {
     "name": "stdout",
     "output_type": "stream",
     "text": [
      "<__main__.Dog object at 0x0000015D45790E50>\n"
     ]
    }
   ],
   "source": [
    "print(a)"
   ]
  },
  {
   "cell_type": "markdown",
   "id": "1d9cdd42",
   "metadata": {},
   "source": [
    "### 3. Following is a class named MyFirstClass. "
   ]
  },
  {
   "cell_type": "code",
   "execution_count": 40,
   "id": "db8397be",
   "metadata": {},
   "outputs": [
    {
     "name": "stdout",
     "output_type": "stream",
     "text": [
      "<__main__.Dog object at 0x0000015D45875B10>\n"
     ]
    }
   ],
   "source": [
    "print(b)"
   ]
  },
  {
   "cell_type": "code",
   "execution_count": 41,
   "id": "1e072855",
   "metadata": {},
   "outputs": [],
   "source": [
    "class MyFirstClass:\n",
    "    pass"
   ]
  },
  {
   "cell_type": "markdown",
   "id": "03a3a8f3",
   "metadata": {},
   "source": [
    "### a. Make two instances named FC1 and FC2."
   ]
  },
  {
   "cell_type": "code",
   "execution_count": 42,
   "id": "1eeec32b",
   "metadata": {},
   "outputs": [],
   "source": [
    "FC1=MyFirstClass()\n",
    "FC2=MyFirstClass()"
   ]
  },
  {
   "cell_type": "markdown",
   "id": "b2e40c55",
   "metadata": {},
   "source": [
    "### b. Check whether FC1 and FC2 represent the same object or not. "
   ]
  },
  {
   "cell_type": "code",
   "execution_count": 43,
   "id": "de095aca",
   "metadata": {},
   "outputs": [
    {
     "data": {
      "text/plain": [
       "False"
      ]
     },
     "execution_count": 43,
     "metadata": {},
     "output_type": "execute_result"
    }
   ],
   "source": [
    "FC1==FC2"
   ]
  },
  {
   "cell_type": "markdown",
   "id": "ddf4656b",
   "metadata": {},
   "source": [
    "### c. Use the print command and print both instances."
   ]
  },
  {
   "cell_type": "code",
   "execution_count": 44,
   "id": "6a03ee7a",
   "metadata": {},
   "outputs": [
    {
     "name": "stdout",
     "output_type": "stream",
     "text": [
      "<__main__.MyFirstClass object at 0x0000015D45843150>\n"
     ]
    }
   ],
   "source": [
    "print(FC1)"
   ]
  },
  {
   "cell_type": "code",
   "execution_count": 45,
   "id": "10f5aab2",
   "metadata": {},
   "outputs": [
    {
     "name": "stdout",
     "output_type": "stream",
     "text": [
      "<__main__.MyFirstClass object at 0x0000015D4585E990>\n"
     ]
    }
   ],
   "source": [
    "print(FC2)"
   ]
  },
  {
   "cell_type": "markdown",
   "id": "72236ee9",
   "metadata": {},
   "source": [
    "### 4. Consider the following class definition. "
   ]
  },
  {
   "cell_type": "code",
   "execution_count": 47,
   "id": "0b673a77",
   "metadata": {},
   "outputs": [],
   "source": [
    "class Point:\n",
    "    pass"
   ]
  },
  {
   "cell_type": "markdown",
   "id": "2cfb028e",
   "metadata": {},
   "source": [
    "### a. Make two instances named p1 and p2."
   ]
  },
  {
   "cell_type": "code",
   "execution_count": 48,
   "id": "5a70825e",
   "metadata": {},
   "outputs": [],
   "source": [
    "p1=Point()"
   ]
  },
  {
   "cell_type": "markdown",
   "id": "3900d36d",
   "metadata": {},
   "source": [
    "### b. Print both objects p1 and p2. "
   ]
  },
  {
   "cell_type": "code",
   "execution_count": 49,
   "id": "f60c2a19",
   "metadata": {},
   "outputs": [],
   "source": [
    "p2=Point()"
   ]
  },
  {
   "cell_type": "code",
   "execution_count": 50,
   "id": "ee9bef52",
   "metadata": {},
   "outputs": [
    {
     "name": "stdout",
     "output_type": "stream",
     "text": [
      "<__main__.Point object at 0x0000015D4501BC90>\n"
     ]
    }
   ],
   "source": [
    "print(p1)"
   ]
  },
  {
   "cell_type": "code",
   "execution_count": 51,
   "id": "d5824d98",
   "metadata": {},
   "outputs": [
    {
     "name": "stdout",
     "output_type": "stream",
     "text": [
      "<__main__.Point object at 0x0000015D458760D0>\n"
     ]
    }
   ],
   "source": [
    "print(p2)"
   ]
  },
  {
   "cell_type": "markdown",
   "id": "0bd73c9c",
   "metadata": {},
   "source": [
    "### c. Try different names for objects, instead of p1 and p2. Also, use different attribute names. "
   ]
  },
  {
   "cell_type": "code",
   "execution_count": 56,
   "id": "04a3d36e",
   "metadata": {},
   "outputs": [],
   "source": [
    "class Point:\n",
    "    def __init__(self,a,b):\n",
    "        self.a=a\n",
    "        self.b=b\n",
    "   \n",
    "s1=Point('Shaheer',457)"
   ]
  },
  {
   "cell_type": "code",
   "execution_count": 58,
   "id": "c8711961",
   "metadata": {},
   "outputs": [
    {
     "name": "stdout",
     "output_type": "stream",
     "text": [
      "Shaheer  ,  457\n"
     ]
    }
   ],
   "source": [
    "print(s1.a,\" , \" ,s1.b)"
   ]
  },
  {
   "cell_type": "markdown",
   "id": "f9859c29",
   "metadata": {},
   "source": [
    "### 5. Consider the following class."
   ]
  },
  {
   "cell_type": "code",
   "execution_count": 1,
   "id": "8b546849",
   "metadata": {},
   "outputs": [],
   "source": [
    "class MyClass:\n",
    "    \"\"\"A simple example class\"\"\"\n",
    "    i = 12345\n",
    "    def f(self):\n",
    "        return 'hello world'"
   ]
  },
  {
   "cell_type": "markdown",
   "id": "faa14135",
   "metadata": {},
   "source": [
    "### a. Print: MyClass.i"
   ]
  },
  {
   "cell_type": "code",
   "execution_count": 2,
   "id": "c0e89ba7",
   "metadata": {},
   "outputs": [
    {
     "name": "stdout",
     "output_type": "stream",
     "text": [
      "12345\n"
     ]
    }
   ],
   "source": [
    "print(MyClass.i)"
   ]
  },
  {
   "cell_type": "markdown",
   "id": "a16e033c",
   "metadata": {},
   "source": [
    "### b. Print: MyClass.f"
   ]
  },
  {
   "cell_type": "code",
   "execution_count": 3,
   "id": "92bae7bc",
   "metadata": {},
   "outputs": [
    {
     "name": "stdout",
     "output_type": "stream",
     "text": [
      "<function MyClass.f at 0x000001D47046F740>\n"
     ]
    }
   ],
   "source": [
    "print(MyClass.f)"
   ]
  },
  {
   "cell_type": "markdown",
   "id": "653b8d54",
   "metadata": {},
   "source": [
    "### c. Run: x = MyClass()"
   ]
  },
  {
   "cell_type": "code",
   "execution_count": 4,
   "id": "760642d0",
   "metadata": {},
   "outputs": [],
   "source": [
    "x=MyClass()"
   ]
  },
  {
   "cell_type": "markdown",
   "id": "88926dad",
   "metadata": {},
   "source": [
    "### 6. Update the Dog class with an __init__() method that creates .name and .age attributes:"
   ]
  },
  {
   "cell_type": "code",
   "execution_count": 5,
   "id": "642e5650",
   "metadata": {},
   "outputs": [],
   "source": [
    "class Dog:\n",
    "    def __init__(self, name, age):\n",
    "        self.name = name\n",
    "        self.age = age"
   ]
  },
  {
   "cell_type": "markdown",
   "id": "2f0d1559",
   "metadata": {},
   "source": [
    "### a. Run: miles = Dog(\"Miles\", 4)"
   ]
  },
  {
   "cell_type": "code",
   "execution_count": 6,
   "id": "365c7cb4",
   "metadata": {},
   "outputs": [],
   "source": [
    "miles = Dog(\"Miles\", 4)"
   ]
  },
  {
   "cell_type": "markdown",
   "id": "8ac8f9a0",
   "metadata": {},
   "source": [
    "### b. Print miles"
   ]
  },
  {
   "cell_type": "code",
   "execution_count": 8,
   "id": "5c9b1864",
   "metadata": {},
   "outputs": [
    {
     "name": "stdout",
     "output_type": "stream",
     "text": [
      "<__main__.Dog object at 0x000001D4704997D0>\n"
     ]
    }
   ],
   "source": [
    "print (miles)"
   ]
  },
  {
   "cell_type": "markdown",
   "id": "a155fa81",
   "metadata": {},
   "source": [
    "### 7. Create a new Dog class with a class attribute called. species and two instance attributes called .name and .age:"
   ]
  },
  {
   "cell_type": "code",
   "execution_count": 9,
   "id": "ac087622",
   "metadata": {},
   "outputs": [],
   "source": [
    "class Dog:\n",
    "    species = \"Canis familiaris\"\n",
    "    def __init__(self, name, age):\n",
    "        self.name = name\n",
    "        self.age = age"
   ]
  },
  {
   "cell_type": "markdown",
   "id": "ea9db2e8",
   "metadata": {},
   "source": [
    "### a. To instantiate this Dog class, you need to provide values for name and age. If you don’t, then Python raises a TypeError: Run: Dog()"
   ]
  },
  {
   "cell_type": "code",
   "execution_count": 10,
   "id": "84690845",
   "metadata": {},
   "outputs": [
    {
     "ename": "TypeError",
     "evalue": "Dog.__init__() missing 2 required positional arguments: 'name' and 'age'",
     "output_type": "error",
     "traceback": [
      "\u001b[1;31m---------------------------------------------------------------------------\u001b[0m",
      "\u001b[1;31mTypeError\u001b[0m                                 Traceback (most recent call last)",
      "Cell \u001b[1;32mIn[10], line 1\u001b[0m\n\u001b[1;32m----> 1\u001b[0m Dog()\n",
      "\u001b[1;31mTypeError\u001b[0m: Dog.__init__() missing 2 required positional arguments: 'name' and 'age'"
     ]
    }
   ],
   "source": [
    "Dog()"
   ]
  },
  {
   "cell_type": "markdown",
   "id": "7dbe6520",
   "metadata": {},
   "source": [
    "### b. To pass arguments to the name and age parameters, put values into the parentheses after the class name:"
   ]
  },
  {
   "cell_type": "code",
   "execution_count": 11,
   "id": "ca071ad2",
   "metadata": {},
   "outputs": [],
   "source": [
    "miles = Dog(\"Miles\", 4)\n",
    "buddy = Dog(\"Buddy\", 9)"
   ]
  },
  {
   "cell_type": "markdown",
   "id": "3fee6b62",
   "metadata": {},
   "source": [
    "### c. After you create the Dog instances, you can access their instance attributes using dot notation:"
   ]
  },
  {
   "cell_type": "code",
   "execution_count": 19,
   "id": "e2e8fcc1",
   "metadata": {},
   "outputs": [
    {
     "name": "stdout",
     "output_type": "stream",
     "text": [
      "Miles\n",
      "4\n"
     ]
    }
   ],
   "source": [
    "print(miles.name)\n",
    "print(miles.age)"
   ]
  },
  {
   "cell_type": "code",
   "execution_count": 20,
   "id": "09f4ff94",
   "metadata": {},
   "outputs": [
    {
     "name": "stdout",
     "output_type": "stream",
     "text": [
      "Buddy\n",
      "9\n"
     ]
    }
   ],
   "source": [
    "print(buddy.name)\n",
    "print(buddy.age)"
   ]
  },
  {
   "cell_type": "markdown",
   "id": "cbd2e3cd",
   "metadata": {},
   "source": [
    "### d. Although the attributes are guaranteed to exist, their values can change dynamically:"
   ]
  },
  {
   "cell_type": "code",
   "execution_count": 21,
   "id": "d1df8c42",
   "metadata": {},
   "outputs": [
    {
     "data": {
      "text/plain": [
       "10"
      ]
     },
     "execution_count": 21,
     "metadata": {},
     "output_type": "execute_result"
    }
   ],
   "source": [
    "buddy.age = 10\n",
    "buddy.age"
   ]
  },
  {
   "cell_type": "code",
   "execution_count": 22,
   "id": "bede5061",
   "metadata": {},
   "outputs": [
    {
     "data": {
      "text/plain": [
       "'Felis silvestris'"
      ]
     },
     "execution_count": 22,
     "metadata": {},
     "output_type": "execute_result"
    }
   ],
   "source": [
    "miles.species = \"Felis silvestris\"\n",
    "miles.species"
   ]
  },
  {
   "cell_type": "markdown",
   "id": "acfbcdb5",
   "metadata": {},
   "source": [
    "### 8. Create a Car class with two instance attributes:\n",
    "### • .color, which stores the name of the car’s color as a string\n",
    "### • .mileage, which stores the number of miles on the car as an integer\n",
    "### Then create two Car objects—a blue car with twenty thousand miles and a red car with thirty thousand miles—and print out their colors and mileage. Your output should look like this:\n",
    "### The blue car has 20,000 miles\n",
    "### The red car has 30,000 miles"
   ]
  },
  {
   "cell_type": "code",
   "execution_count": 23,
   "id": "305e2f0b",
   "metadata": {},
   "outputs": [
    {
     "name": "stdout",
     "output_type": "stream",
     "text": [
      "The blue car has 20,000 miles\n",
      "The red car has 30,000 miles\n"
     ]
    }
   ],
   "source": [
    "class Car:\n",
    "    def __init__(self, color, mileage):\n",
    "        self.color = color\n",
    "        self.mileage = mileage\n",
    "    def __str__(self):\n",
    "        return f\"The {self.color} car has {self.mileage:,} miles\"\n",
    "        \n",
    "blue_car = Car(color=\"blue\", mileage=20000)\n",
    "red_car = Car(color=\"red\", mileage=30000)\n",
    "for car in (blue_car, red_car):\n",
    "    print(car)"
   ]
  },
  {
   "cell_type": "markdown",
   "id": "aaeafeba",
   "metadata": {},
   "source": [
    "### a. Modify the Car class with an instance method called .drive() that takes a number as an argument and adds that number to the .mileage attribute. Test that your solution works by instantiating a car with 0 miles, then call .drive(100) and print the .mileage attribute to check that it is set to 100."
   ]
  },
  {
   "cell_type": "code",
   "execution_count": 26,
   "id": "5816cc5e",
   "metadata": {},
   "outputs": [],
   "source": [
    "class Car:\n",
    "    def __init__(self, color, mileage):\n",
    "        self.color = color\n",
    "        self.mileage = mileage\n",
    "    def __str__(self):\n",
    "        return f\"The {self.color} car has {self.mileage:,} miles\"\n",
    "    def drive(self,num):\n",
    "         return num + self.mileage    "
   ]
  },
  {
   "cell_type": "code",
   "execution_count": 27,
   "id": "7e5c67d0",
   "metadata": {},
   "outputs": [],
   "source": [
    "blue_car = Car(color=\"blue\", mileage=20000)\n",
    "red_car = Car(color=\"red\", mileage=30000)"
   ]
  },
  {
   "cell_type": "code",
   "execution_count": 28,
   "id": "60264061",
   "metadata": {},
   "outputs": [
    {
     "data": {
      "text/plain": [
       "20000"
      ]
     },
     "execution_count": 28,
     "metadata": {},
     "output_type": "execute_result"
    }
   ],
   "source": [
    "blue_car.mileage"
   ]
  },
  {
   "cell_type": "code",
   "execution_count": 29,
   "id": "1c108f50",
   "metadata": {},
   "outputs": [
    {
     "data": {
      "text/plain": [
       "20100"
      ]
     },
     "execution_count": 29,
     "metadata": {},
     "output_type": "execute_result"
    }
   ],
   "source": [
    "blue_car.drive(100)"
   ]
  },
  {
   "cell_type": "code",
   "execution_count": 30,
   "id": "8318aa41",
   "metadata": {},
   "outputs": [
    {
     "data": {
      "text/plain": [
       "30200"
      ]
     },
     "execution_count": 30,
     "metadata": {},
     "output_type": "execute_result"
    }
   ],
   "source": [
    "red_car.drive(200)"
   ]
  },
  {
   "cell_type": "markdown",
   "id": "5a82730e",
   "metadata": {},
   "source": [
    "### 9. Consider the point class below."
   ]
  },
  {
   "cell_type": "code",
   "execution_count": 43,
   "id": "ae6f59a1",
   "metadata": {},
   "outputs": [],
   "source": [
    "import math\n",
    "class Point:\n",
    "        def __init__(self, x, y):\n",
    "            self.x = x\n",
    "            self.y = y\n",
    "        def distance(self, p2):\n",
    "             return math.sqrt((self.x-p2.x)**2 + (self.y-p2.y)**2)"
   ]
  },
  {
   "cell_type": "markdown",
   "id": "56e018d5",
   "metadata": {},
   "source": [
    "### g. Define point1 and pass two number. "
   ]
  },
  {
   "cell_type": "code",
   "execution_count": 44,
   "id": "d9ccf084",
   "metadata": {},
   "outputs": [],
   "source": [
    "point1=Point(2,8)"
   ]
  },
  {
   "cell_type": "markdown",
   "id": "2cf629d2",
   "metadata": {},
   "source": [
    "### h. Make another instance of the point class, say its name is p2. "
   ]
  },
  {
   "cell_type": "code",
   "execution_count": 45,
   "id": "fe912103",
   "metadata": {},
   "outputs": [],
   "source": [
    "p2=Point(6,3)"
   ]
  },
  {
   "cell_type": "markdown",
   "id": "c3cb7125",
   "metadata": {},
   "source": [
    "### i. Print p1 and p2, for this use print command and pass the point as input. "
   ]
  },
  {
   "cell_type": "code",
   "execution_count": 46,
   "id": "45fd3ec3",
   "metadata": {},
   "outputs": [
    {
     "name": "stdout",
     "output_type": "stream",
     "text": [
      "<__main__.Point object at 0x000001D4711B3F50>\n"
     ]
    }
   ],
   "source": [
    "print(point1)"
   ]
  },
  {
   "cell_type": "code",
   "execution_count": 47,
   "id": "5c980722",
   "metadata": {},
   "outputs": [
    {
     "name": "stdout",
     "output_type": "stream",
     "text": [
      "<__main__.Point object at 0x000001D4711B9110>\n"
     ]
    }
   ],
   "source": [
    "print(p2)"
   ]
  },
  {
   "cell_type": "markdown",
   "id": "1e7f534b",
   "metadata": {},
   "source": [
    "### j. Print the coordinate by using object and dot operator."
   ]
  },
  {
   "cell_type": "markdown",
   "id": "28552b21",
   "metadata": {},
   "source": [
    "### Coordinates of point1"
   ]
  },
  {
   "cell_type": "code",
   "execution_count": 48,
   "id": "8bb744f9",
   "metadata": {},
   "outputs": [
    {
     "name": "stdout",
     "output_type": "stream",
     "text": [
      "(2, 8)\n"
     ]
    }
   ],
   "source": [
    "print((point1.x,point1.y))"
   ]
  },
  {
   "cell_type": "markdown",
   "id": "ade50a08",
   "metadata": {},
   "source": [
    "###  Coordinates of p2"
   ]
  },
  {
   "cell_type": "code",
   "execution_count": 49,
   "id": "f4555fd9",
   "metadata": {},
   "outputs": [
    {
     "name": "stdout",
     "output_type": "stream",
     "text": [
      "(6, 3)\n"
     ]
    }
   ],
   "source": [
    "print((p2.x,p2.y))"
   ]
  },
  {
   "cell_type": "markdown",
   "id": "319c0fa1",
   "metadata": {},
   "source": [
    "### k. Add a new method to the point class that can print the points in effective way. Print both the point using that function. "
   ]
  },
  {
   "cell_type": "code",
   "execution_count": 52,
   "id": "41c938a8",
   "metadata": {},
   "outputs": [],
   "source": [
    "def print_effective(self):\n",
    "    print(f\" Coordinates are {self.x} and  {self.y}\")"
   ]
  },
  {
   "cell_type": "code",
   "execution_count": 53,
   "id": "ea1592ec",
   "metadata": {},
   "outputs": [
    {
     "name": "stdout",
     "output_type": "stream",
     "text": [
      " Coordinates are 2 and  8\n"
     ]
    }
   ],
   "source": [
    "print_effective(point1)"
   ]
  },
  {
   "cell_type": "code",
   "execution_count": 54,
   "id": "96915644",
   "metadata": {},
   "outputs": [
    {
     "name": "stdout",
     "output_type": "stream",
     "text": [
      " Coordinates are 6 and  3\n"
     ]
    }
   ],
   "source": [
    "print_effective(p2)"
   ]
  },
  {
   "cell_type": "markdown",
   "id": "75b78883",
   "metadata": {},
   "source": [
    "### l. Calculate the distance between these two points. "
   ]
  },
  {
   "cell_type": "code",
   "execution_count": 55,
   "id": "fb9b3688",
   "metadata": {},
   "outputs": [
    {
     "name": "stdout",
     "output_type": "stream",
     "text": [
      "Distance between point1 and p2 are  6.4031242374328485\n"
     ]
    }
   ],
   "source": [
    "distance = point1.distance(p2)\n",
    "print(f\"Distance between point1 and p2 are  {distance}\")"
   ]
  },
  {
   "cell_type": "markdown",
   "id": "059c9a82",
   "metadata": {},
   "source": [
    "### 10. Consider the following class definition. "
   ]
  },
  {
   "cell_type": "code",
   "execution_count": 63,
   "id": "92aa7a8c",
   "metadata": {},
   "outputs": [],
   "source": [
    "class Point:\n",
    "    def __init__(self,x,y):\n",
    "        self.x=x\n",
    "        self.y=y"
   ]
  },
  {
   "cell_type": "markdown",
   "id": "dd7fa8ed",
   "metadata": {},
   "source": [
    "###  a. Create two objects and print them."
   ]
  },
  {
   "cell_type": "code",
   "execution_count": 65,
   "id": "7c7c07b6",
   "metadata": {},
   "outputs": [],
   "source": [
    "Obj1 = Point(4,7)\n",
    "Obj2 = Point(3,9)"
   ]
  },
  {
   "cell_type": "code",
   "execution_count": 68,
   "id": "21ba7e59",
   "metadata": {},
   "outputs": [
    {
     "name": "stdout",
     "output_type": "stream",
     "text": [
      "4   3\n"
     ]
    }
   ],
   "source": [
    "print(Obj1.x,\" \",Obj1.y )"
   ]
  },
  {
   "cell_type": "code",
   "execution_count": 69,
   "id": "138476a2",
   "metadata": {},
   "outputs": [
    {
     "name": "stdout",
     "output_type": "stream",
     "text": [
      "3   9\n"
     ]
    }
   ],
   "source": [
    "print(Obj2.x,\" \",Obj2.y )"
   ]
  },
  {
   "cell_type": "markdown",
   "id": "24acc331",
   "metadata": {},
   "source": [
    "### b. Modify the x and y coordinate using the syntax like:\n",
    "### Obj1.x= 2\n",
    "### Obj1.y =5\n"
   ]
  },
  {
   "cell_type": "code",
   "execution_count": 70,
   "id": "8748162e",
   "metadata": {},
   "outputs": [],
   "source": [
    "Obj1.x= 2\n",
    "Obj1.y =5"
   ]
  },
  {
   "cell_type": "markdown",
   "id": "5094966d",
   "metadata": {},
   "source": [
    "### c. Add the x and y coordinate objects as the addition of components is needed for vector addition."
   ]
  },
  {
   "cell_type": "code",
   "execution_count": 71,
   "id": "31e35b5c",
   "metadata": {},
   "outputs": [
    {
     "name": "stdout",
     "output_type": "stream",
     "text": [
      "the sum of the cordinates are(5 , 14)\n"
     ]
    }
   ],
   "source": [
    "x_sum = Obj1.x +Obj2.x\n",
    "y_sum = Obj1.y +Obj2.y\n",
    "print(f\"the sum of the cordinates are({x_sum} , {y_sum})\")"
   ]
  }
 ],
 "metadata": {
  "kernelspec": {
   "display_name": "Python 3 (ipykernel)",
   "language": "python",
   "name": "python3"
  },
  "language_info": {
   "codemirror_mode": {
    "name": "ipython",
    "version": 3
   },
   "file_extension": ".py",
   "mimetype": "text/x-python",
   "name": "python",
   "nbconvert_exporter": "python",
   "pygments_lexer": "ipython3",
   "version": "3.11.5"
  }
 },
 "nbformat": 4,
 "nbformat_minor": 5
}
