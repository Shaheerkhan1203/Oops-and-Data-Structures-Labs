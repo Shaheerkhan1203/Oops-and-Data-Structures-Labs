{
 "cells": [
  {
   "cell_type": "markdown",
   "id": "450069df",
   "metadata": {},
   "source": [
    "### 1. The built-in str class allows you to create strings in Python. Strings are sequences of characters that you’ll use in many situations, especially when working with textual data. From time to time, the standard functionalities of Python’s str may be insufficient to fulfill your needs. So, you may want to create custom string-like classes that solve your specific problem.You’ll typically find at least two reasons for creating custom string-like classes:\n",
    "### a) Extending the regular string by adding new functionality b)  Modifying the standard string’s functionality c) You need a string-like class that implements a new method to count the number of words in the underlying string. d) In this example, your custom string will use the whitespace character as its default word separator. However, it should also allow you to provide a specific separator character. To code a class that fulfills these needs, you can do something like this:\n"
   ]
  },
  {
   "cell_type": "code",
   "execution_count": 7,
   "id": "a3216105",
   "metadata": {},
   "outputs": [],
   "source": [
    "class WordCountString(str):\n",
    "    def words(self, separator=None):\n",
    "        return len(self.split(separator))"
   ]
  },
  {
   "cell_type": "markdown",
   "id": "fdb0caee",
   "metadata": {},
   "source": [
    "### a. Run the following code. "
   ]
  },
  {
   "cell_type": "code",
   "execution_count": 8,
   "id": "9fb309cc",
   "metadata": {},
   "outputs": [],
   "source": [
    "sample_text = WordCountString(\n",
    "\"\"\"Knowledge of Python can be an added advantage in \n",
    "terms of skills, as it enables \n",
    "electrical engineers to leverage its versatility \n",
    "for a wide range of tasks the \n",
    "scope of specialized software.\"\"\")"
   ]
  },
  {
   "cell_type": "code",
   "execution_count": 9,
   "id": "f2fe9e5b",
   "metadata": {},
   "outputs": [
    {
     "data": {
      "text/plain": [
       "32"
      ]
     },
     "execution_count": 9,
     "metadata": {},
     "output_type": "execute_result"
    }
   ],
   "source": [
    "sample_text.words()"
   ]
  },
  {
   "cell_type": "markdown",
   "id": "9d00433b",
   "metadata": {},
   "source": [
    "### 2. To learn how to modify the standard behavior of str in a custom string\u0002like class, say that you need a string class that always prints its letters in uppercase. You can do this by overriding the .__str__() special method, which takes care of how string objects are printed. Here’s an UpperPrintString class that behaves as you need:\n"
   ]
  },
  {
   "cell_type": "code",
   "execution_count": 10,
   "id": "78a60a69",
   "metadata": {},
   "outputs": [],
   "source": [
    "class UpperPrintString(str):\n",
    "    def __str__(self):\n",
    "        return self.upper()"
   ]
  },
  {
   "cell_type": "markdown",
   "id": "667bad19",
   "metadata": {},
   "source": [
    "### a. Run the following code."
   ]
  },
  {
   "cell_type": "code",
   "execution_count": 11,
   "id": "20950cee",
   "metadata": {},
   "outputs": [
    {
     "name": "stdout",
     "output_type": "stream",
     "text": [
      "HELLO, PYTHONISTA!\n"
     ]
    },
    {
     "data": {
      "text/plain": [
       "'Hello, Pythonista!'"
      ]
     },
     "execution_count": 11,
     "metadata": {},
     "output_type": "execute_result"
    }
   ],
   "source": [
    "sample_string = UpperPrintString(\"Hello, Pythonista!\")\n",
    "print(sample_string)\n",
    "sample_string"
   ]
  },
  {
   "cell_type": "markdown",
   "id": "b887a77d",
   "metadata": {},
   "source": [
    "### Find the length"
   ]
  },
  {
   "cell_type": "code",
   "execution_count": 12,
   "id": "7451e124",
   "metadata": {},
   "outputs": [],
   "source": [
    "d='aa ss'"
   ]
  },
  {
   "cell_type": "code",
   "execution_count": 13,
   "id": "680efa4e",
   "metadata": {},
   "outputs": [
    {
     "data": {
      "text/plain": [
       "5"
      ]
     },
     "execution_count": 13,
     "metadata": {},
     "output_type": "execute_result"
    }
   ],
   "source": [
    "len(d)"
   ]
  },
  {
   "cell_type": "markdown",
   "id": "ca851417",
   "metadata": {},
   "source": [
    "### Count the words"
   ]
  },
  {
   "cell_type": "code",
   "execution_count": 18,
   "id": "cc06a624",
   "metadata": {},
   "outputs": [],
   "source": [
    "class count(str):\n",
    "    def letter(self,S):\n",
    "        c=0\n",
    "        for i in S:\n",
    "            if 'a' <= i <='z' or 'A'<= i <='Z':\n",
    "                c +=1\n",
    "        return c   "
   ]
  },
  {
   "cell_type": "code",
   "execution_count": 19,
   "id": "aa0cdb09",
   "metadata": {},
   "outputs": [
    {
     "data": {
      "text/plain": [
       "4"
      ]
     },
     "execution_count": 19,
     "metadata": {},
     "output_type": "execute_result"
    }
   ],
   "source": [
    "word=count()\n",
    "word.letter('aa SS')"
   ]
  },
  {
   "cell_type": "code",
   "execution_count": 20,
   "id": "6acf7bd9",
   "metadata": {},
   "outputs": [],
   "source": [
    "class count(str):\n",
    "    def letter(self,S):\n",
    "        c=0\n",
    "        for i in S:\n",
    "            if 'a' <= i <='z':\n",
    "                c +=1\n",
    "            elif  'A'<= i <='Z':\n",
    "                 c +=1\n",
    "            elif '1' <= i <='9':\n",
    "                c +=1\n",
    "        return c   "
   ]
  },
  {
   "cell_type": "code",
   "execution_count": 21,
   "id": "5664f775",
   "metadata": {},
   "outputs": [
    {
     "data": {
      "text/plain": [
       "11"
      ]
     },
     "execution_count": 21,
     "metadata": {},
     "output_type": "execute_result"
    }
   ],
   "source": [
    "word=count()\n",
    "word.letter('aa S56Shhhh2')"
   ]
  }
 ],
 "metadata": {
  "kernelspec": {
   "display_name": "Python 3 (ipykernel)",
   "language": "python",
   "name": "python3"
  },
  "language_info": {
   "codemirror_mode": {
    "name": "ipython",
    "version": 3
   },
   "file_extension": ".py",
   "mimetype": "text/x-python",
   "name": "python",
   "nbconvert_exporter": "python",
   "pygments_lexer": "ipython3",
   "version": "3.11.5"
  }
 },
 "nbformat": 4,
 "nbformat_minor": 5
}
