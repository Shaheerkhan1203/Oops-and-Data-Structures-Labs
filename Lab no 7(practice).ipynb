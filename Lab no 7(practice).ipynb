{
 "cells": [
  {
   "cell_type": "markdown",
   "id": "db2afa3e",
   "metadata": {},
   "source": [
    "### 1. Inheritance is the process by which one class takes on the attributes and methods of another. Newly formed classes are called child classes, and the classes that you derive child classes from are called parent classes.\n",
    "### • You inherit from a parent class by including the name of the parent class inside parentheses after the class name but before the colon terminating the class definition.\n"
   ]
  },
  {
   "cell_type": "code",
   "execution_count": 15,
   "id": "e6e15f62",
   "metadata": {},
   "outputs": [],
   "source": [
    "class Parent:\n",
    "    hair_color = \"brown\"\n",
    "class Child(Parent):\n",
    "    pass"
   ]
  },
  {
   "cell_type": "markdown",
   "id": "79f874e3",
   "metadata": {},
   "source": [
    "### a. Run the code. \n",
    "### az = Parent()\n",
    "### az.hair_color"
   ]
  },
  {
   "cell_type": "code",
   "execution_count": 16,
   "id": "1036d553",
   "metadata": {},
   "outputs": [
    {
     "data": {
      "text/plain": [
       "'brown'"
      ]
     },
     "execution_count": 16,
     "metadata": {},
     "output_type": "execute_result"
    }
   ],
   "source": [
    "az = Parent()\n",
    "az.hair_color"
   ]
  },
  {
   "cell_type": "markdown",
   "id": "1ffda5af",
   "metadata": {},
   "source": [
    "### b. Run the code and comment on what you observed. \n",
    "### az = Child()\n",
    "### az.hair_color"
   ]
  },
  {
   "cell_type": "code",
   "execution_count": 17,
   "id": "eec581e2",
   "metadata": {},
   "outputs": [
    {
     "data": {
      "text/plain": [
       "'brown'"
      ]
     },
     "execution_count": 17,
     "metadata": {},
     "output_type": "execute_result"
    }
   ],
   "source": [
    "az = Child()\n",
    "az.hair_color"
   ]
  },
  {
   "cell_type": "markdown",
   "id": "75961db6",
   "metadata": {},
   "source": [
    "### 2. Overridden the hair color attribute that you inherited from your parents:"
   ]
  },
  {
   "cell_type": "code",
   "execution_count": 18,
   "id": "34039495",
   "metadata": {},
   "outputs": [],
   "source": [
    "class Parent:\n",
    "     hair_color = \"brown\"\n",
    "class Child(Parent):\n",
    "     hair_color = \"purple\""
   ]
  },
  {
   "cell_type": "markdown",
   "id": "4d500743",
   "metadata": {},
   "source": [
    "### a. Run the code. \n",
    "### az = Parent()\n",
    "### az.hair_color"
   ]
  },
  {
   "cell_type": "code",
   "execution_count": 19,
   "id": "255200e2",
   "metadata": {},
   "outputs": [
    {
     "data": {
      "text/plain": [
       "'brown'"
      ]
     },
     "execution_count": 19,
     "metadata": {},
     "output_type": "execute_result"
    }
   ],
   "source": [
    "az = Parent()\n",
    "az.hair_color"
   ]
  },
  {
   "cell_type": "markdown",
   "id": "53adf78f",
   "metadata": {},
   "source": [
    "### b. Run the code and comment on what you observed. How this result is different from the task number 1 and why?\n",
    "### az = Child()\n",
    "### az.hair_color"
   ]
  },
  {
   "cell_type": "code",
   "execution_count": 20,
   "id": "3cd7b964",
   "metadata": {},
   "outputs": [
    {
     "data": {
      "text/plain": [
       "'purple'"
      ]
     },
     "execution_count": 20,
     "metadata": {},
     "output_type": "execute_result"
    }
   ],
   "source": [
    "az = Child()\n",
    "az.hair_color"
   ]
  },
  {
   "cell_type": "markdown",
   "id": "90759bbb",
   "metadata": {},
   "source": [
    "### 3. Extended your attributes because you’ve added an attribute that your parents don’t have:"
   ]
  },
  {
   "cell_type": "code",
   "execution_count": 77,
   "id": "9a050ce9",
   "metadata": {},
   "outputs": [],
   "source": [
    "class Parent:\n",
    "    speaks = [\"English\"]\n",
    "class Child(Parent):\n",
    "    def __init__(self):\n",
    "        super().__init__()\n",
    "        self.speaks.append(\"German\")"
   ]
  },
  {
   "cell_type": "markdown",
   "id": "1d67e943",
   "metadata": {},
   "source": [
    "### a. Run the code. \n",
    "### az = Child()\n",
    "### az.speaks"
   ]
  },
  {
   "cell_type": "code",
   "execution_count": 78,
   "id": "84c9c2a3",
   "metadata": {},
   "outputs": [
    {
     "data": {
      "text/plain": [
       "['English', 'German']"
      ]
     },
     "execution_count": 78,
     "metadata": {},
     "output_type": "execute_result"
    }
   ],
   "source": [
    "az = Child()\n",
    "az.speaks"
   ]
  },
  {
   "cell_type": "markdown",
   "id": "9f1cf034",
   "metadata": {},
   "source": [
    "### 4. The dog class is given below. \n",
    "### i. A simple dog class is given below. "
   ]
  },
  {
   "cell_type": "code",
   "execution_count": 79,
   "id": "8f7be220",
   "metadata": {},
   "outputs": [],
   "source": [
    "class Dog:\n",
    "    species = \"Canis familiaris\"\n",
    "    def __init__(self, name, age):\n",
    "        self.name = name\n",
    "        self.age = age\n",
    "    def __str__(self):\n",
    "        return f\"{self.name} is {self.age} years old\"\n",
    "    def speak(self, sound):\n",
    "        return f\"The parrent class method call..... {self.name} says {sound}\""
   ]
  },
  {
   "cell_type": "markdown",
   "id": "8e036e5c",
   "metadata": {},
   "source": [
    "### a. Make the following object of the dog class.\n",
    "### miles = Dog(\"Miles\", 4)\n",
    "### buddy = Dog(\"Buddy\", 9)\n",
    "### jack = Dog(\"Jack\", 3)\n",
    "### jim = Dog(\"Jim\", 5)"
   ]
  },
  {
   "cell_type": "code",
   "execution_count": 80,
   "id": "aa57c3e6",
   "metadata": {},
   "outputs": [],
   "source": [
    "miles = Dog(\"Miles\", 4)\n",
    "buddy = Dog(\"Buddy\", 9)\n",
    "jack = Dog(\"Jack\", 3)\n",
    "jim = Dog(\"Jim\", 5)"
   ]
  },
  {
   "cell_type": "markdown",
   "id": "f2acee46",
   "metadata": {},
   "source": [
    "### b. Run the following code. \n",
    "### print(miles)\n",
    "### jack.speak()\n",
    "### jim.speak('yap yap')"
   ]
  },
  {
   "cell_type": "code",
   "execution_count": 81,
   "id": "c2f041bd",
   "metadata": {},
   "outputs": [
    {
     "name": "stdout",
     "output_type": "stream",
     "text": [
      "Miles is 4 years old\n"
     ]
    },
    {
     "ename": "TypeError",
     "evalue": "Dog.speak() missing 1 required positional argument: 'sound'",
     "output_type": "error",
     "traceback": [
      "\u001b[1;31m---------------------------------------------------------------------------\u001b[0m",
      "\u001b[1;31mTypeError\u001b[0m                                 Traceback (most recent call last)",
      "Cell \u001b[1;32mIn[81], line 2\u001b[0m\n\u001b[0;32m      1\u001b[0m \u001b[38;5;28mprint\u001b[39m(miles)\n\u001b[1;32m----> 2\u001b[0m jack\u001b[38;5;241m.\u001b[39mspeak()\n\u001b[0;32m      3\u001b[0m jim\u001b[38;5;241m.\u001b[39mspeak(\u001b[38;5;124m'\u001b[39m\u001b[38;5;124myap yap\u001b[39m\u001b[38;5;124m'\u001b[39m)\n",
      "\u001b[1;31mTypeError\u001b[0m: Dog.speak() missing 1 required positional argument: 'sound'"
     ]
    }
   ],
   "source": [
    "print(miles)\n",
    "jack.speak()\n",
    "jim.speak('yap yap')"
   ]
  },
  {
   "cell_type": "markdown",
   "id": "e50334cd",
   "metadata": {},
   "source": [
    "### ii. Modify the Dog class in the editor by adding a .breed attribute."
   ]
  },
  {
   "cell_type": "code",
   "execution_count": 82,
   "id": "0fc6953d",
   "metadata": {},
   "outputs": [],
   "source": [
    "class Dog:\n",
    "    species = \"Canis familiaris\"\n",
    "    def __init__(self, name, age, breed):\n",
    "        self.name = name\n",
    "        self.age = age\n",
    "        self.breed = breed\n",
    "    def __str__(self):\n",
    "        return f\"{self.name} is {self.age} years old\"\n",
    "    def speak(self, sound):\n",
    "        return f\"{self.name} says {sound}\""
   ]
  },
  {
   "cell_type": "markdown",
   "id": "4d693e75",
   "metadata": {},
   "source": [
    "### a. Make the following dog instances. \n",
    "### miles = Dog(\"Miles\", 4, \"Jack Russell Terrier\")\n",
    "### buddy = Dog(\"Buddy\", 9, \"Dachshund\")\n",
    "### jack = Dog(\"Jack\", 3, \"Bulldog\")\n",
    "### jim = Dog(\"Jim\", 5, \"Bulldog\")\n"
   ]
  },
  {
   "cell_type": "code",
   "execution_count": 83,
   "id": "275ade9f",
   "metadata": {},
   "outputs": [],
   "source": [
    "miles = Dog(\"Miles\", 4, \"Jack Russell Terrier\")\n",
    "buddy = Dog(\"Buddy\", 9, \"Dachshund\")\n",
    "jack = Dog(\"Jack\", 3, \"Bulldog\")\n",
    "jim = Dog(\"Jim\", 5, \"Bulldog\")\n"
   ]
  },
  {
   "cell_type": "markdown",
   "id": "6a1eaae6",
   "metadata": {},
   "source": [
    "### b. Using just the Dog class, you must supply a string for the sound argument of .speak() every time you call it on a Dog instance: \n",
    "### buddy.speak(\"Yap\")\n",
    "### jim.speak(\"Woof\")\n",
    "### jack.speak(\"Woof\")\n"
   ]
  },
  {
   "cell_type": "code",
   "execution_count": 84,
   "id": "3af4b927",
   "metadata": {},
   "outputs": [
    {
     "data": {
      "text/plain": [
       "'Jack says Woof'"
      ]
     },
     "execution_count": 84,
     "metadata": {},
     "output_type": "execute_result"
    }
   ],
   "source": [
    "buddy.speak(\"Yap\")\n",
    "jim.speak(\"Woof\")\n",
    "jack.speak(\"Woof\")"
   ]
  },
  {
   "cell_type": "markdown",
   "id": "968038e2",
   "metadata": {},
   "source": [
    "### iii. Some Derived classes from the Dog class are given below in i."
   ]
  },
  {
   "cell_type": "code",
   "execution_count": 85,
   "id": "b711484a",
   "metadata": {},
   "outputs": [],
   "source": [
    "class JackRussellTerrier(Dog):\n",
    "    pass\n",
    "class Dachshund(Dog):\n",
    "    pass\n",
    "class Bulldog(Dog):\n",
    "    pass"
   ]
  },
  {
   "cell_type": "markdown",
   "id": "07b3e495",
   "metadata": {},
   "source": [
    "### a. The following is the object instantiation from the child class. "
   ]
  },
  {
   "cell_type": "code",
   "execution_count": 86,
   "id": "54718e34",
   "metadata": {},
   "outputs": [
    {
     "ename": "TypeError",
     "evalue": "Dog.__init__() missing 1 required positional argument: 'breed'",
     "output_type": "error",
     "traceback": [
      "\u001b[1;31m---------------------------------------------------------------------------\u001b[0m",
      "\u001b[1;31mTypeError\u001b[0m                                 Traceback (most recent call last)",
      "Cell \u001b[1;32mIn[86], line 1\u001b[0m\n\u001b[1;32m----> 1\u001b[0m miles \u001b[38;5;241m=\u001b[39m JackRussellTerrier(\u001b[38;5;124m\"\u001b[39m\u001b[38;5;124mMiles\u001b[39m\u001b[38;5;124m\"\u001b[39m, \u001b[38;5;241m4\u001b[39m)\n\u001b[0;32m      2\u001b[0m buddy \u001b[38;5;241m=\u001b[39m Dachshund(\u001b[38;5;124m\"\u001b[39m\u001b[38;5;124mBuddy\u001b[39m\u001b[38;5;124m\"\u001b[39m, \u001b[38;5;241m9\u001b[39m)\n\u001b[0;32m      3\u001b[0m jack \u001b[38;5;241m=\u001b[39m Bulldog(\u001b[38;5;124m\"\u001b[39m\u001b[38;5;124mJack\u001b[39m\u001b[38;5;124m\"\u001b[39m, \u001b[38;5;241m3\u001b[39m)\n",
      "\u001b[1;31mTypeError\u001b[0m: Dog.__init__() missing 1 required positional argument: 'breed'"
     ]
    }
   ],
   "source": [
    "miles = JackRussellTerrier(\"Miles\", 4)\n",
    "buddy = Dachshund(\"Buddy\", 9)\n",
    "jack = Bulldog(\"Jack\", 3)\n",
    "jim = Bulldog(\"Jim\", 5)"
   ]
  },
  {
   "cell_type": "markdown",
   "id": "e46c371f",
   "metadata": {},
   "source": [
    "### b. Run the following code and observe.\n",
    "### miles.species\n",
    "### buddy.name\n",
    "### print(jack)\n",
    "### jim.speak(\"Woof\")"
   ]
  },
  {
   "cell_type": "code",
   "execution_count": 87,
   "id": "75a59f36",
   "metadata": {},
   "outputs": [
    {
     "name": "stdout",
     "output_type": "stream",
     "text": [
      "Jack is 3 years old\n"
     ]
    },
    {
     "data": {
      "text/plain": [
       "'Jim says Woof'"
      ]
     },
     "execution_count": 87,
     "metadata": {},
     "output_type": "execute_result"
    }
   ],
   "source": [
    "miles.species \n",
    "buddy.name   \n",
    "print(jack)\n",
    "jim.speak(\"Woof\") "
   ]
  },
  {
   "cell_type": "markdown",
   "id": "e5944ec2",
   "metadata": {},
   "source": [
    "### iv. One thing to keep in mind about class inheritance is that changes to the parent class automatically propagate to child classes. This occurs as long as the attribute or method being changed isn’t overridden in the child class.Following is the class derived from the base class Dog. The default parameter, change says to bark in the speak."
   ]
  },
  {
   "cell_type": "code",
   "execution_count": 88,
   "id": "a8bcfcaa",
   "metadata": {},
   "outputs": [],
   "source": [
    "class JackRussellTerrier(Dog):\n",
    "    def speak(self, sound=\"Arf\"):\n",
    "        return f\"Chiled class call ….{self.name} says {sound}\""
   ]
  },
  {
   "cell_type": "markdown",
   "id": "677ffce3",
   "metadata": {},
   "source": [
    "### a. Run the following code and observe. \n",
    "### miles = JackRussellTerrier(\"Miles\", 4)\n",
    "### miles.speak()"
   ]
  },
  {
   "cell_type": "code",
   "execution_count": 89,
   "id": "6b185507",
   "metadata": {},
   "outputs": [
    {
     "ename": "TypeError",
     "evalue": "Dog.__init__() missing 1 required positional argument: 'breed'",
     "output_type": "error",
     "traceback": [
      "\u001b[1;31m---------------------------------------------------------------------------\u001b[0m",
      "\u001b[1;31mTypeError\u001b[0m                                 Traceback (most recent call last)",
      "Cell \u001b[1;32mIn[89], line 1\u001b[0m\n\u001b[1;32m----> 1\u001b[0m miles \u001b[38;5;241m=\u001b[39m JackRussellTerrier(\u001b[38;5;124m\"\u001b[39m\u001b[38;5;124mMiles\u001b[39m\u001b[38;5;124m\"\u001b[39m, \u001b[38;5;241m4\u001b[39m)\n\u001b[0;32m      2\u001b[0m miles\u001b[38;5;241m.\u001b[39mspeak()\n",
      "\u001b[1;31mTypeError\u001b[0m: Dog.__init__() missing 1 required positional argument: 'breed'"
     ]
    }
   ],
   "source": [
    "miles = JackRussellTerrier(\"Miles\", 4)\n",
    "miles.speak()"
   ]
  },
  {
   "cell_type": "markdown",
   "id": "a953f768",
   "metadata": {},
   "source": [
    "### b. Run the following. \n",
    "### miles = Dachshund(\"Miles\", 4)\n",
    "### miles.speak('aaaaaaaaa')\n"
   ]
  },
  {
   "cell_type": "code",
   "execution_count": 90,
   "id": "7905b24d",
   "metadata": {},
   "outputs": [
    {
     "ename": "TypeError",
     "evalue": "Dog.__init__() missing 1 required positional argument: 'breed'",
     "output_type": "error",
     "traceback": [
      "\u001b[1;31m---------------------------------------------------------------------------\u001b[0m",
      "\u001b[1;31mTypeError\u001b[0m                                 Traceback (most recent call last)",
      "Cell \u001b[1;32mIn[90], line 1\u001b[0m\n\u001b[1;32m----> 1\u001b[0m miles \u001b[38;5;241m=\u001b[39m Dachshund(\u001b[38;5;124m\"\u001b[39m\u001b[38;5;124mMiles\u001b[39m\u001b[38;5;124m\"\u001b[39m, \u001b[38;5;241m4\u001b[39m)\n\u001b[0;32m      2\u001b[0m miles\u001b[38;5;241m.\u001b[39mspeak(\u001b[38;5;124m'\u001b[39m\u001b[38;5;124maaaaaaaaa\u001b[39m\u001b[38;5;124m'\u001b[39m)\n",
      "\u001b[1;31mTypeError\u001b[0m: Dog.__init__() missing 1 required positional argument: 'breed'"
     ]
    }
   ],
   "source": [
    "miles = Dachshund(\"Miles\", 4)\n",
    "miles.speak('aaaaaaaaa')"
   ]
  },
  {
   "cell_type": "markdown",
   "id": "6a039e3a",
   "metadata": {},
   "source": [
    "### c. Run the following. \n",
    "### miles = Bulldog(\"Miles\", 4)\n",
    "### miles.speak('bbbbbbbbbbbbb')\n"
   ]
  },
  {
   "cell_type": "code",
   "execution_count": 91,
   "id": "a943415c",
   "metadata": {},
   "outputs": [
    {
     "ename": "TypeError",
     "evalue": "Dog.__init__() missing 1 required positional argument: 'breed'",
     "output_type": "error",
     "traceback": [
      "\u001b[1;31m---------------------------------------------------------------------------\u001b[0m",
      "\u001b[1;31mTypeError\u001b[0m                                 Traceback (most recent call last)",
      "Cell \u001b[1;32mIn[91], line 1\u001b[0m\n\u001b[1;32m----> 1\u001b[0m miles \u001b[38;5;241m=\u001b[39m Bulldog(\u001b[38;5;124m\"\u001b[39m\u001b[38;5;124mMiles\u001b[39m\u001b[38;5;124m\"\u001b[39m, \u001b[38;5;241m4\u001b[39m)\n\u001b[0;32m      2\u001b[0m miles\u001b[38;5;241m.\u001b[39mspeak(\u001b[38;5;124m'\u001b[39m\u001b[38;5;124mbbbbbbbbbbbbb\u001b[39m\u001b[38;5;124m'\u001b[39m)\n",
      "\u001b[1;31mTypeError\u001b[0m: Dog.__init__() missing 1 required positional argument: 'breed'"
     ]
    }
   ],
   "source": [
    "miles = Bulldog(\"Miles\", 4)\n",
    "miles.speak('bbbbbbbbbbbbb')"
   ]
  },
  {
   "cell_type": "markdown",
   "id": "26bab24c",
   "metadata": {},
   "source": [
    "### d. Modify the other two child classes in part iii i.e. Dachshund and Bulldog. Update like in part I the JackRussellTerrier is modified."
   ]
  },
  {
   "cell_type": "code",
   "execution_count": 96,
   "id": "5a061b0d",
   "metadata": {},
   "outputs": [],
   "source": [
    "class Dachshund(Dog):\n",
    "    def speak(self, sound=\"Arf\"):\n",
    "        return f\"Chiled class call ….{self.name} says {sound}\"\n",
    "class Bulldog(Dog):\n",
    "    def speak(self, sound=\"Arf\"):\n",
    "        return f\"Chiled class call ….{self.name} says {sound}\""
   ]
  },
  {
   "cell_type": "markdown",
   "id": "e396fd66",
   "metadata": {},
   "source": [
    "### e. You can access the parent class from inside a method of a child class by using super():"
   ]
  },
  {
   "cell_type": "code",
   "execution_count": 99,
   "id": "c5b8c7f2",
   "metadata": {},
   "outputs": [],
   "source": [
    "class JackRussellTerrier(Dog):\n",
    "    def speak(self, sound=\"Arf\"):\n",
    "        return super().speak(sound)"
   ]
  },
  {
   "cell_type": "markdown",
   "id": "fd377862",
   "metadata": {},
   "source": [
    "### • Run the following. \n",
    "### miles = JackRussellTerrier(\"Miles\", 4)\n",
    "### miles.speak()"
   ]
  },
  {
   "cell_type": "code",
   "execution_count": 100,
   "id": "a0694735",
   "metadata": {},
   "outputs": [
    {
     "ename": "TypeError",
     "evalue": "Dog.__init__() missing 1 required positional argument: 'breed'",
     "output_type": "error",
     "traceback": [
      "\u001b[1;31m---------------------------------------------------------------------------\u001b[0m",
      "\u001b[1;31mTypeError\u001b[0m                                 Traceback (most recent call last)",
      "Cell \u001b[1;32mIn[100], line 1\u001b[0m\n\u001b[1;32m----> 1\u001b[0m miles \u001b[38;5;241m=\u001b[39m JackRussellTerrier(\u001b[38;5;124m\"\u001b[39m\u001b[38;5;124mMiles\u001b[39m\u001b[38;5;124m\"\u001b[39m, \u001b[38;5;241m4\u001b[39m)\n\u001b[0;32m      2\u001b[0m miles\u001b[38;5;241m.\u001b[39mspeak()\n",
      "\u001b[1;31mTypeError\u001b[0m: Dog.__init__() missing 1 required positional argument: 'breed'"
     ]
    }
   ],
   "source": [
    "miles = JackRussellTerrier(\"Miles\", 4)\n",
    "miles.speak()"
   ]
  },
  {
   "cell_type": "markdown",
   "id": "5c57f6dd",
   "metadata": {},
   "source": []
  },
  {
   "cell_type": "code",
   "execution_count": null,
   "id": "f8c94023",
   "metadata": {},
   "outputs": [],
   "source": []
  }
 ],
 "metadata": {
  "kernelspec": {
   "display_name": "Python 3 (ipykernel)",
   "language": "python",
   "name": "python3"
  },
  "language_info": {
   "codemirror_mode": {
    "name": "ipython",
    "version": 3
   },
   "file_extension": ".py",
   "mimetype": "text/x-python",
   "name": "python",
   "nbconvert_exporter": "python",
   "pygments_lexer": "ipython3",
   "version": "3.11.5"
  }
 },
 "nbformat": 4,
 "nbformat_minor": 5
}
