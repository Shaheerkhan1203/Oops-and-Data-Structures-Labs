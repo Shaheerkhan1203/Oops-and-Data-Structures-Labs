{
 "cells": [
  {
   "cell_type": "markdown",
   "id": "bbccfc6c",
   "metadata": {},
   "source": [
    "#  String formatting"
   ]
  },
  {
   "cell_type": "markdown",
   "id": "7ecb5835",
   "metadata": {},
   "source": [
    "## Observe the output of the following if:\n",
    "## a = oop class \n",
    "## name = 'Shaheer khan'"
   ]
  },
  {
   "cell_type": "code",
   "execution_count": 50,
   "id": "4a766b12",
   "metadata": {},
   "outputs": [],
   "source": [
    "a= 50159747054 \n",
    "name='Shaheer Khan'"
   ]
  },
  {
   "cell_type": "markdown",
   "id": "f5167f90",
   "metadata": {},
   "source": [
    "### 1. 'Hello, %s' % name"
   ]
  },
  {
   "cell_type": "code",
   "execution_count": 51,
   "id": "58ad8c47",
   "metadata": {},
   "outputs": [
    {
     "data": {
      "text/plain": [
       "'Hello, Shaheer Khan'"
      ]
     },
     "execution_count": 51,
     "metadata": {},
     "output_type": "execute_result"
    }
   ],
   "source": [
    "'Hello, %s' % name"
   ]
  },
  {
   "cell_type": "markdown",
   "id": "35167998",
   "metadata": {},
   "source": [
    "### 2. 'Hey %s, there is a 0x%x error!' % (name, a)"
   ]
  },
  {
   "cell_type": "code",
   "execution_count": 52,
   "id": "bac26f4e",
   "metadata": {},
   "outputs": [
    {
     "data": {
      "text/plain": [
       "'Hey Shaheer Khan, there is a 0x badc0ffee error!'"
      ]
     },
     "execution_count": 52,
     "metadata": {},
     "output_type": "execute_result"
    }
   ],
   "source": [
    "'Hey %s, there is a 0x %x error!' % (name, a)"
   ]
  },
  {
   "cell_type": "markdown",
   "id": "5c2cb55d",
   "metadata": {},
   "source": [
    "### 3. 'Hey %(name)s, there is a 0x%(a)x error!' % { \"name\": name, \"a\": a }"
   ]
  },
  {
   "cell_type": "code",
   "execution_count": 53,
   "id": "38cdad19",
   "metadata": {},
   "outputs": [
    {
     "data": {
      "text/plain": [
       "'Hey Shaheer Khan, there is a 0xbadc0ffee error!'"
      ]
     },
     "execution_count": 53,
     "metadata": {},
     "output_type": "execute_result"
    }
   ],
   "source": [
    "'Hey %(name)s, there is a 0x%(a)x error!' % { \"name\": name, \"a\": a }"
   ]
  },
  {
   "cell_type": "markdown",
   "id": "b15147f8",
   "metadata": {},
   "source": [
    "### 4. Observe the output of:\n",
    "### 'Hello, {}'.format(name)"
   ]
  },
  {
   "cell_type": "code",
   "execution_count": 54,
   "id": "9aa80112",
   "metadata": {},
   "outputs": [
    {
     "data": {
      "text/plain": [
       "'Hello, Shaheer Khan'"
      ]
     },
     "execution_count": 54,
     "metadata": {},
     "output_type": "execute_result"
    }
   ],
   "source": [
    "'Hello, {}'.format(name)"
   ]
  },
  {
   "cell_type": "markdown",
   "id": "78ad9d37",
   "metadata": {},
   "source": [
    "### 5.Observe the output of:\n",
    "### f'Hello, {name}!'"
   ]
  },
  {
   "cell_type": "code",
   "execution_count": 55,
   "id": "659e8afb",
   "metadata": {},
   "outputs": [
    {
     "data": {
      "text/plain": [
       "'Hello, Shaheer Khan!'"
      ]
     },
     "execution_count": 55,
     "metadata": {},
     "output_type": "execute_result"
    }
   ],
   "source": [
    "f'Hello, {name}!'"
   ]
  },
  {
   "cell_type": "markdown",
   "id": "f8000ab1",
   "metadata": {},
   "source": [
    "### 6. Observe the output of:\n",
    "###  a.  from string import Template \n",
    "### t = Template('Hey, $name!')\n",
    "### st.substitute(name=name)\n"
   ]
  },
  {
   "cell_type": "code",
   "execution_count": 56,
   "id": "040f507b",
   "metadata": {},
   "outputs": [
    {
     "data": {
      "text/plain": [
       "'Hey, Shaheer Khan!'"
      ]
     },
     "execution_count": 56,
     "metadata": {},
     "output_type": "execute_result"
    }
   ],
   "source": [
    "from string import Template\n",
    "t = Template('Hey, $name!')\n",
    "t.substitute(name=name)"
   ]
  },
  {
   "cell_type": "markdown",
   "id": "fddebe32",
   "metadata": {},
   "source": [
    "### b. templ_string = 'Hey $name, there is a $error error!'\n",
    "### Template(templ_string).substitute(name=name, error=hex(errno))\n"
   ]
  },
  {
   "cell_type": "code",
   "execution_count": 57,
   "id": "58f4d94e",
   "metadata": {},
   "outputs": [
    {
     "data": {
      "text/plain": [
       "'Hey Shaheer Khan, there is a 0xbadc0ffee error!'"
      ]
     },
     "execution_count": 57,
     "metadata": {},
     "output_type": "execute_result"
    }
   ],
   "source": [
    "templ_string = 'Hey $name, there is a $a error!'\n",
    "Template(templ_string).substitute(name=name, a=hex(a))"
   ]
  },
  {
   "cell_type": "markdown",
   "id": "5f30cb4e",
   "metadata": {},
   "source": [
    "## For loop"
   ]
  },
  {
   "cell_type": "markdown",
   "id": "936ce066",
   "metadata": {},
   "source": [
    "### 1. Consider the following code.\n",
    "### my_items = ['a', 'b', 'c']\n",
    "### for i in range(len(my_items)):\n",
    "### print(my_items[i])\n",
    "\n",
    "### a. What will be the output?\n"
   ]
  },
  {
   "cell_type": "code",
   "execution_count": 58,
   "id": "25f3b0b6",
   "metadata": {},
   "outputs": [
    {
     "name": "stdout",
     "output_type": "stream",
     "text": [
      "a\n",
      "b\n",
      "c\n"
     ]
    }
   ],
   "source": [
    "my_items = ['a', 'b', 'c']\n",
    "for i in range(len(my_items)):\n",
    "    print(my_items[i])"
   ]
  },
  {
   "cell_type": "markdown",
   "id": "650c0a1e",
   "metadata": {},
   "source": [
    "### 2. Consider the following pythonic style for loop. in Python, for-loops are really “for\u0002each” loops that can iterate directly over items from a container or sequence, without having to look them up by index.\n",
    "### for item in my_items:\n",
    "### print(item)"
   ]
  },
  {
   "cell_type": "code",
   "execution_count": 59,
   "id": "1aafe247",
   "metadata": {},
   "outputs": [
    {
     "name": "stdout",
     "output_type": "stream",
     "text": [
      "a\n",
      "b\n",
      "c\n"
     ]
    }
   ],
   "source": [
    "for item in my_items:\n",
    "    print(item)"
   ]
  },
  {
   "cell_type": "markdown",
   "id": "8f07b900",
   "metadata": {},
   "source": [
    "### 3.. What if you need the item index and item, for example? The enumerate() built-in helps you make those kinds of loops nice and Pythonic. Note that the item is printeddirectly without using the index. \n",
    "### for i, item in enumerate(my_items):\n",
    "###  print(f'{i}: {item}')"
   ]
  },
  {
   "cell_type": "code",
   "execution_count": 60,
   "id": "585ad33c",
   "metadata": {},
   "outputs": [
    {
     "name": "stdout",
     "output_type": "stream",
     "text": [
      "0:a\n",
      "1:b\n",
      "2:c\n"
     ]
    }
   ],
   "source": [
    "for i, item in enumerate(my_items):\n",
    "     print(f'{i}:{item}')"
   ]
  },
  {
   "cell_type": "markdown",
   "id": "e15d99cd",
   "metadata": {},
   "source": [
    "### 4. Iterate over the keys and values of a dictionary at the same time. Consider the following code \n",
    "### emails = {'Bob': 'bob@example.com','Alice': 'alice@example.com',}\n",
    "### for name, email in emails.items():\n",
    " ### print(f'{name} -> {email}')"
   ]
  },
  {
   "cell_type": "code",
   "execution_count": 61,
   "id": "af6df54a",
   "metadata": {},
   "outputs": [
    {
     "name": "stdout",
     "output_type": "stream",
     "text": [
      "bob -> bob@example.com\n",
      "Alice -> alice@example.com\n"
     ]
    }
   ],
   "source": [
    "emails={'bob': 'bob@example.com','Alice':'alice@example.com',}\n",
    "for name , email in emails.items():\n",
    "    print(f'{name} -> {email}')"
   ]
  },
  {
   "cell_type": "markdown",
   "id": "d98eae56",
   "metadata": {},
   "source": [
    "### 5. What if you must control the step size for the index? The range() function comes to our rescue again—it accepts optional parameters to control the start value for the loop (a), the stop value (n), and the step size (s).\n",
    "### for i in range(1, 15, 2):\n",
    "### print(i)"
   ]
  },
  {
   "cell_type": "code",
   "execution_count": 62,
   "id": "4f220127",
   "metadata": {},
   "outputs": [
    {
     "name": "stdout",
     "output_type": "stream",
     "text": [
      "1\n",
      "3\n",
      "5\n",
      "7\n",
      "9\n",
      "11\n",
      "13\n"
     ]
    }
   ],
   "source": [
    "for i in range(1, 15, 2):\n",
    "     print(i)"
   ]
  },
  {
   "cell_type": "markdown",
   "id": "668f7faf",
   "metadata": {},
   "source": [
    "## List comprehensions"
   ]
  },
  {
   "cell_type": "markdown",
   "id": "ecaa8978",
   "metadata": {},
   "source": [
    "### a. Consider the following code and print the square. \n",
    "### squares = []\n",
    "### for x in range(10):\n",
    "### squares.append(x * x)"
   ]
  },
  {
   "cell_type": "code",
   "execution_count": 63,
   "id": "dcf1823a",
   "metadata": {},
   "outputs": [
    {
     "name": "stdout",
     "output_type": "stream",
     "text": [
      "[0, 1, 4, 9, 16, 25, 36, 49, 64, 81]\n"
     ]
    }
   ],
   "source": [
    "squares = []\n",
    "for x in range(10):\n",
    "     squares.append(x * x)\n",
    "print(squares)"
   ]
  },
  {
   "cell_type": "markdown",
   "id": "8e5902f9",
   "metadata": {},
   "source": [
    "### b. Replace the above code with the following. Print the square. This sample one-line code is called list comprehension.\n",
    "### squares = [x * x for x in range(10)]\n"
   ]
  },
  {
   "cell_type": "code",
   "execution_count": 64,
   "id": "f630f3eb",
   "metadata": {},
   "outputs": [
    {
     "name": "stdout",
     "output_type": "stream",
     "text": [
      "[0, 1, 4, 9, 16, 25, 36, 49, 64, 81]\n"
     ]
    }
   ],
   "source": [
    "squares = [x * x for x in range(10)]\n",
    "print(squares)"
   ]
  },
  {
   "cell_type": "markdown",
   "id": "b9d59b1e",
   "metadata": {},
   "source": [
    "### c. Change x*x by any function of x and observe the resulting list.\n"
   ]
  },
  {
   "cell_type": "code",
   "execution_count": 65,
   "id": "60119964",
   "metadata": {},
   "outputs": [
    {
     "name": "stdout",
     "output_type": "stream",
     "text": [
      "[81, 81, 81, 81, 81, 81, 81, 81, 81, 81]\n"
     ]
    }
   ],
   "source": [
    "a= x*x\n",
    "squares = [a for x in range(10)]\n",
    "print(squares)"
   ]
  },
  {
   "cell_type": "markdown",
   "id": "8423e7b0",
   "metadata": {},
   "source": [
    "### d. List comprehensions can filter values based on some arbitrary condition that decides whether or not the resulting value becomes a part of the output list.\n",
    "### even_squares = [x * x for x in range(10) if x % 2 == 0]\n"
   ]
  },
  {
   "cell_type": "code",
   "execution_count": 66,
   "id": "cb12e62a",
   "metadata": {},
   "outputs": [
    {
     "name": "stdout",
     "output_type": "stream",
     "text": [
      "[0, 4, 16, 36, 64]\n"
     ]
    }
   ],
   "source": [
    "even_squares = [x * x for x in range(10) if x % 2 == 0]\n",
    "print(even_squares)"
   ]
  },
  {
   "cell_type": "markdown",
   "id": "8b00a100",
   "metadata": {},
   "source": [
    "### e. This new list comprehension can be transformed into an equivalent for-loop:\n",
    "### even_squares = []\n",
    "### for x in range(10):\n",
    "###  if x % 2 == 0:\n",
    "###  even_squares.append(x * x)"
   ]
  },
  {
   "cell_type": "code",
   "execution_count": 67,
   "id": "ca444bbe",
   "metadata": {},
   "outputs": [
    {
     "name": "stdout",
     "output_type": "stream",
     "text": [
      "[0, 4, 16, 36, 64]\n"
     ]
    }
   ],
   "source": [
    "even_squares = []\n",
    "for x in range(10):\n",
    "    if x % 2 == 0:\n",
    "        even_squares.append(x * x)\n",
    "print(even_squares)"
   ]
  },
  {
   "cell_type": "markdown",
   "id": "61c77964",
   "metadata": {},
   "source": [
    "## Dictionary comprehension:"
   ]
  },
  {
   "cell_type": "markdown",
   "id": "e5146515",
   "metadata": {},
   "source": [
    "### a. { x: x * x for x in range(5) }"
   ]
  },
  {
   "cell_type": "code",
   "execution_count": 68,
   "id": "472a731b",
   "metadata": {},
   "outputs": [
    {
     "data": {
      "text/plain": [
       "{0: 0, 1: 1, 2: 4, 3: 9, 4: 16}"
      ]
     },
     "execution_count": 68,
     "metadata": {},
     "output_type": "execute_result"
    }
   ],
   "source": [
    "{ x: x * x for x in range(5) }"
   ]
  },
  {
   "cell_type": "markdown",
   "id": "6f4e7b85",
   "metadata": {},
   "source": [
    "## List Slicing Tricks"
   ]
  },
  {
   "cell_type": "markdown",
   "id": "1a1b6f7f",
   "metadata": {},
   "source": [
    "### a. Consider the following list. \n",
    "### lst = [1, 2, 3, 4, 5]\n",
    "### What will be the output of lst[1:3:1]."
   ]
  },
  {
   "cell_type": "code",
   "execution_count": 69,
   "id": "3d57fa5e",
   "metadata": {},
   "outputs": [
    {
     "name": "stdout",
     "output_type": "stream",
     "text": [
      "[2, 3]\n"
     ]
    }
   ],
   "source": [
    "lst = [1, 2, 3, 4, 5]\n",
    "print(lst[1:3:1])"
   ]
  },
  {
   "cell_type": "markdown",
   "id": "26bbd408",
   "metadata": {},
   "source": [
    "### b. Observe the output of the following.\n",
    "### lst[::2]"
   ]
  },
  {
   "cell_type": "code",
   "execution_count": 70,
   "id": "4b046511",
   "metadata": {},
   "outputs": [
    {
     "data": {
      "text/plain": [
       "[1, 3, 5]"
      ]
     },
     "execution_count": 70,
     "metadata": {},
     "output_type": "execute_result"
    }
   ],
   "source": [
    "lst[::2]"
   ]
  },
  {
   "cell_type": "markdown",
   "id": "a278fc4e",
   "metadata": {},
   "source": [
    "### c. Observe the output of the following.\n",
    "### lst[::-1]"
   ]
  },
  {
   "cell_type": "code",
   "execution_count": 71,
   "id": "b4021ec4",
   "metadata": {},
   "outputs": [
    {
     "data": {
      "text/plain": [
       "[5, 4, 3, 2, 1]"
      ]
     },
     "execution_count": 71,
     "metadata": {},
     "output_type": "execute_result"
    }
   ],
   "source": [
    "lst[::-1]"
   ]
  }
 ],
 "metadata": {
  "kernelspec": {
   "display_name": "Python 3 (ipykernel)",
   "language": "python",
   "name": "python3"
  },
  "language_info": {
   "codemirror_mode": {
    "name": "ipython",
    "version": 3
   },
   "file_extension": ".py",
   "mimetype": "text/x-python",
   "name": "python",
   "nbconvert_exporter": "python",
   "pygments_lexer": "ipython3",
   "version": "3.11.5"
  }
 },
 "nbformat": 4,
 "nbformat_minor": 5
}
