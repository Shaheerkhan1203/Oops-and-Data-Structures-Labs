{
 "cells": [
  {
   "cell_type": "markdown",
   "id": "8280bfb7",
   "metadata": {},
   "source": [
    "## Consider the complex number class. \n"
   ]
  },
  {
   "cell_type": "code",
   "execution_count": 6,
   "id": "878f3220",
   "metadata": {},
   "outputs": [],
   "source": [
    "class Complex:\n",
    "    def __init__(self, realpart, imagpart):\n",
    "        self.r = realpart\n",
    "        self.i = imagpart"
   ]
  },
  {
   "cell_type": "markdown",
   "id": "2d9de8da",
   "metadata": {},
   "source": [
    "### a. Define an object x = Complex"
   ]
  },
  {
   "cell_type": "code",
   "execution_count": 7,
   "id": "3c51b0d9",
   "metadata": {},
   "outputs": [],
   "source": [
    "x=Complex"
   ]
  },
  {
   "cell_type": "markdown",
   "id": "67206443",
   "metadata": {},
   "source": [
    "### b. Define an object x = Complex(3.0)"
   ]
  },
  {
   "cell_type": "code",
   "execution_count": 8,
   "id": "da0e80fe",
   "metadata": {},
   "outputs": [
    {
     "ename": "TypeError",
     "evalue": "Complex.__init__() missing 1 required positional argument: 'imagpart'",
     "output_type": "error",
     "traceback": [
      "\u001b[1;31m---------------------------------------------------------------------------\u001b[0m",
      "\u001b[1;31mTypeError\u001b[0m                                 Traceback (most recent call last)",
      "Cell \u001b[1;32mIn[8], line 1\u001b[0m\n\u001b[1;32m----> 1\u001b[0m x \u001b[38;5;241m=\u001b[39m Complex(\u001b[38;5;241m3.0\u001b[39m)\n",
      "\u001b[1;31mTypeError\u001b[0m: Complex.__init__() missing 1 required positional argument: 'imagpart'"
     ]
    }
   ],
   "source": [
    "x = Complex(3.0)"
   ]
  },
  {
   "cell_type": "markdown",
   "id": "0b69255a",
   "metadata": {},
   "source": [
    "### c. Define an object x = Complex(3.0, -4.5)"
   ]
  },
  {
   "cell_type": "code",
   "execution_count": 9,
   "id": "c69b6f4d",
   "metadata": {},
   "outputs": [],
   "source": [
    "x = Complex(3.0, -4.5)"
   ]
  },
  {
   "cell_type": "markdown",
   "id": "f8ab9618",
   "metadata": {},
   "source": [
    "### d. Print (x.r, x.i)"
   ]
  },
  {
   "cell_type": "code",
   "execution_count": 10,
   "id": "b81a18b2",
   "metadata": {},
   "outputs": [
    {
     "name": "stdout",
     "output_type": "stream",
     "text": [
      "3.0  ,  -4.5\n"
     ]
    }
   ],
   "source": [
    "print(x.r,' , ', x.i)"
   ]
  },
  {
   "cell_type": "markdown",
   "id": "49d53348",
   "metadata": {},
   "source": [
    "### e. Define an appropriate print method that can effectively print the complex number. Use it to print x."
   ]
  },
  {
   "cell_type": "code",
   "execution_count": 11,
   "id": "81246df7",
   "metadata": {},
   "outputs": [
    {
     "name": "stdout",
     "output_type": "stream",
     "text": [
      "real part: 3.0 , imagnary part :-4.5 \n"
     ]
    }
   ],
   "source": [
    "def printdetails(self):\n",
    "    print(f\"real part: {self.r} , imagnary part :{self.i} \")\n",
    "printdetails(x)"
   ]
  },
  {
   "cell_type": "code",
   "execution_count": null,
   "id": "fd5f69e3",
   "metadata": {},
   "outputs": [],
   "source": []
  }
 ],
 "metadata": {
  "kernelspec": {
   "display_name": "Python 3 (ipykernel)",
   "language": "python",
   "name": "python3"
  },
  "language_info": {
   "codemirror_mode": {
    "name": "ipython",
    "version": 3
   },
   "file_extension": ".py",
   "mimetype": "text/x-python",
   "name": "python",
   "nbconvert_exporter": "python",
   "pygments_lexer": "ipython3",
   "version": "3.11.5"
  }
 },
 "nbformat": 4,
 "nbformat_minor": 5
}
