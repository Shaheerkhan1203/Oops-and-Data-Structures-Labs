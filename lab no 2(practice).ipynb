{
 "cells": [
  {
   "cell_type": "markdown",
   "id": "178db37e",
   "metadata": {},
   "source": [
    "# Lab practice    "
   ]
  },
  {
   "cell_type": "markdown",
   "id": "b72381f3",
   "metadata": {},
   "source": [
    "##  a. list"
   ]
  },
  {
   "cell_type": "markdown",
   "id": "0f6b1b1c",
   "metadata": {},
   "source": [
    "### 1. Make a list of 5 any integers. "
   ]
  },
  {
   "cell_type": "code",
   "execution_count": 15,
   "id": "409edce0",
   "metadata": {
    "scrolled": true
   },
   "outputs": [
    {
     "name": "stdout",
     "output_type": "stream",
     "text": [
      "[1, 5, 9, 7, 5, 8]\n"
     ]
    }
   ],
   "source": [
    "a = [1,5,9,7,5,8]\n",
    "print(a)"
   ]
  },
  {
   "cell_type": "markdown",
   "id": "1fdc47f7",
   "metadata": {},
   "source": [
    "### 2.  Make a list that contains the student's name, the last three digits of the registration number as an integer, CGPA as a float, and a list that contains the GPA of all semesters."
   ]
  },
  {
   "cell_type": "code",
   "execution_count": 139,
   "id": "fc4c4398",
   "metadata": {},
   "outputs": [
    {
     "name": "stdout",
     "output_type": "stream",
     "text": [
      "['Shaheer Khan', 457, 3.54, [3.92, 3.19]]\n"
     ]
    }
   ],
   "source": [
    "A = ['Shaheer Khan', 457 ,3.54,[3.92,3.19]]\n",
    "print(A)"
   ]
  },
  {
   "cell_type": "markdown",
   "id": "15cbea68",
   "metadata": {},
   "source": [
    "### 3.  In the above list print the student's CGPA"
   ]
  },
  {
   "cell_type": "code",
   "execution_count": 18,
   "id": "403bb92a",
   "metadata": {},
   "outputs": [
    {
     "name": "stdout",
     "output_type": "stream",
     "text": [
      "3.54\n"
     ]
    }
   ],
   "source": [
    "A = ['Shaheer Khan', 457 ,3.54,[3.92,3.19]]\n",
    "print(A[2])"
   ]
  },
  {
   "cell_type": "markdown",
   "id": "ce6645c2",
   "metadata": {},
   "source": [
    "### 4.  Print the list elements using the while loop and use the length function"
   ]
  },
  {
   "cell_type": "code",
   "execution_count": 22,
   "id": "a73cd23c",
   "metadata": {},
   "outputs": [
    {
     "name": "stdout",
     "output_type": "stream",
     "text": [
      "Shaheer Khan\n",
      "457\n",
      "3.54\n",
      "[3.92, 3.19]\n"
     ]
    }
   ],
   "source": [
    "a = ['Shaheer Khan', 457 ,3.54,[3.92,3.19]]\n",
    "i = 0\n",
    "a_length = len(a)\n",
    "\n",
    "while i < a_length:\n",
    "    print(a[i])\n",
    "    i=i+1"
   ]
  },
  {
   "cell_type": "markdown",
   "id": "ee45d329",
   "metadata": {},
   "source": [
    "### 5.  Access the list of all semester GPAs using negative indexing. "
   ]
  },
  {
   "cell_type": "code",
   "execution_count": 29,
   "id": "019d08cf",
   "metadata": {},
   "outputs": [
    {
     "name": "stdout",
     "output_type": "stream",
     "text": [
      "Last Semester GPA: 3.19\n",
      "Second Last Semester GPA: 3.92\n"
     ]
    }
   ],
   "source": [
    "gpa_list = [3.92, 3.19]\n",
    "\n",
    "# Accessing all semester GPAs using negative indexing\n",
    "last_semester_gpa = gpa_list[-1]\n",
    "second_last_semester_gpa = gpa_list[-2]\n",
    "\n",
    "# You can print these values\n",
    "print(\"Last Semester GPA:\", last_semester_gpa)\n",
    "print(\"Second Last Semester GPA:\", second_last_semester_gpa)"
   ]
  },
  {
   "cell_type": "markdown",
   "id": "8e4c8b21",
   "metadata": {},
   "source": [
    "### 6.  Make a list of the first 20 integers using the range function.  "
   ]
  },
  {
   "cell_type": "code",
   "execution_count": 24,
   "id": "3d7c56f4",
   "metadata": {},
   "outputs": [
    {
     "name": "stdout",
     "output_type": "stream",
     "text": [
      "[1, 2, 3, 4, 5, 6, 7, 8, 9, 10, 11, 12, 13, 14, 15, 16, 17, 18, 19, 20]\n"
     ]
    }
   ],
   "source": [
    "first_20_integers = list(range(1, 21))\n",
    "print(first_20_integers)"
   ]
  },
  {
   "cell_type": "markdown",
   "id": "38d0ab4d",
   "metadata": {},
   "source": [
    "### 7. Make a list of odd integers from 20 to 40 using the range function. "
   ]
  },
  {
   "cell_type": "code",
   "execution_count": 22,
   "id": "633aa647",
   "metadata": {},
   "outputs": [
    {
     "name": "stdout",
     "output_type": "stream",
     "text": [
      "[21, 23, 25, 27, 29, 31, 33, 35, 37, 39]\n"
     ]
    }
   ],
   "source": [
    "odd_integer = list(range(21,41,2))\n",
    "print(odd_integer)"
   ]
  },
  {
   "cell_type": "markdown",
   "id": "faf33b6d",
   "metadata": {},
   "source": [
    "### 8. Make a student list and Use in and not in operators to ensure that the student is in the list or not. "
   ]
  },
  {
   "cell_type": "code",
   "execution_count": 70,
   "id": "6f89329b",
   "metadata": {},
   "outputs": [
    {
     "name": "stdout",
     "output_type": "stream",
     "text": [
      "Irfan is in the list.\n",
      "Daniyal is not in the list.\n"
     ]
    }
   ],
   "source": [
    "students_list = [\"Ibrahim\", \"Hussain\", \"Irfan\", \"Ayub\", \"Usman\"]\n",
    "\n",
    "# Check if a student is in the list\n",
    "student = \"Irfan\"\n",
    "if student in students_list:\n",
    "    print(student, \"is in the list.\")\n",
    "else:\n",
    "    print(student, \"is not in the list.\")\n",
    "\n",
    "# Check if a student is not in the list\n",
    "student = \"Daniyal\"\n",
    "if student not in students_list:\n",
    "    print(student, \"is not in the list.\")\n",
    "else:\n",
    "    print(student, \"is in the list.\")"
   ]
  },
  {
   "cell_type": "markdown",
   "id": "1624a14b",
   "metadata": {},
   "source": [
    "### 9.  Print all the student lists in task 8 using the for loop. "
   ]
  },
  {
   "cell_type": "code",
   "execution_count": 86,
   "id": "1bc2b743",
   "metadata": {},
   "outputs": [
    {
     "name": "stdout",
     "output_type": "stream",
     "text": [
      "Ibrahim\n",
      "Hussain\n",
      "Irfan\n",
      "Ayub\n",
      "Usman\n"
     ]
    }
   ],
   "source": [
    "students_list = [\"Ibrahim\", \"Hussain\", \"Irfan\", \"Ayub\", \"Usman\"]\n",
    "i=0\n",
    "for i in students_list:\n",
    "    print(i)"
   ]
  },
  {
   "cell_type": "markdown",
   "id": "7a5581da",
   "metadata": {},
   "source": [
    "### 10. Observe what is print, what is the first thing print, what the last thing print.Student [1:3] and student [2:4] \n"
   ]
  },
  {
   "cell_type": "code",
   "execution_count": 1,
   "id": "32ba373d",
   "metadata": {},
   "outputs": [
    {
     "name": "stdout",
     "output_type": "stream",
     "text": [
      "['Hussain', 'Irfan'] \n",
      " ['Irfan', 'Ayub']\n"
     ]
    }
   ],
   "source": [
    "students_list = [\"Ibrahim\", \"Hussain\", \"Irfan\", \"Ayub\", \"Usman\"]\n",
    "\n",
    "print(students_list[1:3],\"\\n\", students_list[2:4])"
   ]
  },
  {
   "cell_type": "markdown",
   "id": "f375b1b9",
   "metadata": {},
   "source": [
    "## b. Tuple "
   ]
  },
  {
   "cell_type": "markdown",
   "id": "4ca0745f",
   "metadata": {},
   "source": [
    "### 1.  Make a tuple containing first five letters of English. "
   ]
  },
  {
   "cell_type": "code",
   "execution_count": 93,
   "id": "39003300",
   "metadata": {},
   "outputs": [
    {
     "name": "stdout",
     "output_type": "stream",
     "text": [
      "('A', 'B', 'C', 'D', 'E')\n"
     ]
    }
   ],
   "source": [
    "english_alphabet = ('A', 'B', 'C', 'D', 'E')\n",
    "print(english_alphabet)"
   ]
  },
  {
   "cell_type": "markdown",
   "id": "9c3633be",
   "metadata": {},
   "source": [
    "### 2.  Use the index to access the third and last element."
   ]
  },
  {
   "cell_type": "code",
   "execution_count": 100,
   "id": "fa52b24b",
   "metadata": {},
   "outputs": [
    {
     "name": "stdout",
     "output_type": "stream",
     "text": [
      "Third element is  C\n",
      "Last  element is  E\n"
     ]
    }
   ],
   "source": [
    "english_alphabet = ('A', 'B', 'C', 'D', 'E')\n",
    "print(\"Third element is \" , english_alphabet[2])\n",
    "print(\"Last  element is \" , english_alphabet[4])"
   ]
  },
  {
   "cell_type": "markdown",
   "id": "c1b833f7",
   "metadata": {},
   "source": [
    "## c. Dictionary:  "
   ]
  },
  {
   "cell_type": "markdown",
   "id": "7ba3f8ec",
   "metadata": {},
   "source": [
    "### 1. Consider the following structure and observe.  \n",
    "### Fd= { ‘one’: ‘aik’, , ‘three’: ‘teen’, ‘ten’ : ‘das’, ‘fifteen’ : ‘pandra’}"
   ]
  },
  {
   "cell_type": "markdown",
   "id": "b29fe37d",
   "metadata": {},
   "source": [
    "#### Bracket type"
   ]
  },
  {
   "cell_type": "code",
   "execution_count": 3,
   "id": "b0998221",
   "metadata": {},
   "outputs": [
    {
     "name": "stdout",
     "output_type": "stream",
     "text": [
      "<class 'dict'>\n"
     ]
    }
   ],
   "source": [
    "Fd = {'one': 'aik', 'three' : 'teen', 'ten' :'das','fifteen' :'pandra' }\n",
    "print(type(Fd))"
   ]
  },
  {
   "cell_type": "markdown",
   "id": "3e2e421e",
   "metadata": {},
   "source": [
    "#### Print Fd"
   ]
  },
  {
   "cell_type": "code",
   "execution_count": 4,
   "id": "0fc3ec4d",
   "metadata": {},
   "outputs": [
    {
     "name": "stdout",
     "output_type": "stream",
     "text": [
      "{'one': 'aik', 'three': 'teen', 'ten': 'das', 'fifteen': 'pandra'}\n"
     ]
    }
   ],
   "source": [
    "print(Fd)"
   ]
  },
  {
   "cell_type": "markdown",
   "id": "ff52114a",
   "metadata": {},
   "source": [
    "#### Fd  [‘one’]"
   ]
  },
  {
   "cell_type": "code",
   "execution_count": 5,
   "id": "37a24346",
   "metadata": {},
   "outputs": [
    {
     "name": "stdout",
     "output_type": "stream",
     "text": [
      "aik\n"
     ]
    }
   ],
   "source": [
    "print(Fd['one'])"
   ]
  },
  {
   "cell_type": "markdown",
   "id": "63b802c2",
   "metadata": {},
   "source": [
    "#### Fd  [‘ten’]"
   ]
  },
  {
   "cell_type": "code",
   "execution_count": 6,
   "id": "fecc1290",
   "metadata": {},
   "outputs": [
    {
     "name": "stdout",
     "output_type": "stream",
     "text": [
      "das\n"
     ]
    }
   ],
   "source": [
    "print(Fd['ten'])"
   ]
  },
  {
   "cell_type": "markdown",
   "id": "ca47e6cb",
   "metadata": {},
   "source": [
    "#### del Fd [‘three’] and then print Fd. "
   ]
  },
  {
   "cell_type": "code",
   "execution_count": 7,
   "id": "3c10fbcd",
   "metadata": {},
   "outputs": [
    {
     "name": "stdout",
     "output_type": "stream",
     "text": [
      "{'one': 'aik', 'ten': 'das', 'fifteen': 'pandra'}\n"
     ]
    }
   ],
   "source": [
    "del Fd['three']\n",
    "print(Fd)"
   ]
  },
  {
   "cell_type": "markdown",
   "id": "8a1d53f3",
   "metadata": {},
   "source": [
    "#### Len(Fd)"
   ]
  },
  {
   "cell_type": "code",
   "execution_count": 8,
   "id": "0372867a",
   "metadata": {},
   "outputs": [
    {
     "name": "stdout",
     "output_type": "stream",
     "text": [
      "3\n"
     ]
    }
   ],
   "source": [
    "print(len(Fd))"
   ]
  },
  {
   "cell_type": "markdown",
   "id": "39ec2462",
   "metadata": {},
   "source": [
    "#### Use the key method and print the list of keys."
   ]
  },
  {
   "cell_type": "code",
   "execution_count": 18,
   "id": "aa02c8cf",
   "metadata": {},
   "outputs": [
    {
     "name": "stdout",
     "output_type": "stream",
     "text": [
      "List of Keys: ['one', 'three', 'ten', 'fifteen']\n"
     ]
    }
   ],
   "source": [
    "Fd = {'one': 'aik', 'three' : 'teen', 'ten' :'das','fifteen' :'pandra' }\n",
    "keys = list(Fd.keys())\n",
    "print(\"List of Keys:\",keys)"
   ]
  },
  {
   "cell_type": "markdown",
   "id": "0ccdeb9c",
   "metadata": {},
   "source": [
    "#### Use the value function to print the list of values."
   ]
  },
  {
   "cell_type": "code",
   "execution_count": 19,
   "id": "69c061c7",
   "metadata": {},
   "outputs": [
    {
     "name": "stdout",
     "output_type": "stream",
     "text": [
      "List of Values: ['aik', 'teen', 'das', 'pandra']\n"
     ]
    }
   ],
   "source": [
    "values = list(Fd.values())\n",
    "print(\"List of Values:\", values)"
   ]
  },
  {
   "cell_type": "markdown",
   "id": "aa7fc5d6",
   "metadata": {},
   "source": [
    "#### Observe the output of Fd.items()."
   ]
  },
  {
   "cell_type": "code",
   "execution_count": 20,
   "id": "a8b08dcd",
   "metadata": {},
   "outputs": [
    {
     "name": "stdout",
     "output_type": "stream",
     "text": [
      "List of items:  [('one', 'aik'), ('three', 'teen'), ('ten', 'das'), ('fifteen', 'pandra')]\n"
     ]
    }
   ],
   "source": [
    "items = list(Fd.items())\n",
    "print(\"List of items: \",items)"
   ]
  },
  {
   "cell_type": "markdown",
   "id": "65196b59",
   "metadata": {},
   "source": [
    "#### Observe the output Fd.has_key(‘one) and Fd.has_key(‘two’) and think where such type of output will help and required"
   ]
  },
  {
   "cell_type": "code",
   "execution_count": 21,
   "id": "5b3c88dd",
   "metadata": {},
   "outputs": [
    {
     "ename": "AttributeError",
     "evalue": "'dict' object has no attribute 'has_keys'",
     "output_type": "error",
     "traceback": [
      "\u001b[1;31m---------------------------------------------------------------------------\u001b[0m",
      "\u001b[1;31mAttributeError\u001b[0m                            Traceback (most recent call last)",
      "Cell \u001b[1;32mIn[21], line 1\u001b[0m\n\u001b[1;32m----> 1\u001b[0m \u001b[38;5;28mprint\u001b[39m(Fd\u001b[38;5;241m.\u001b[39mhas_keys(\u001b[38;5;124m'\u001b[39m\u001b[38;5;124mone\u001b[39m\u001b[38;5;124m'\u001b[39m))\n",
      "\u001b[1;31mAttributeError\u001b[0m: 'dict' object has no attribute 'has_keys'"
     ]
    }
   ],
   "source": [
    "print(Fd.has_keys('one'))"
   ]
  },
  {
   "cell_type": "markdown",
   "id": "f2c7ca99",
   "metadata": {},
   "source": [
    "### To copy the dictionary, one may use one of the following. Verify by printing copy and alias.\n"
   ]
  },
  {
   "cell_type": "markdown",
   "id": "a5e44b5e",
   "metadata": {},
   "source": [
    "#### copy = Fd.copy()\n"
   ]
  },
  {
   "cell_type": "code",
   "execution_count": 22,
   "id": "84e93baa",
   "metadata": {},
   "outputs": [
    {
     "name": "stdout",
     "output_type": "stream",
     "text": [
      "Copy of dictionary:  {'one': 'aik', 'three': 'teen', 'ten': 'das', 'fifteen': 'pandra'}\n"
     ]
    }
   ],
   "source": [
    "copy = Fd.copy()\n",
    "print(\"Copy of dictionary: \",copy)"
   ]
  },
  {
   "cell_type": "markdown",
   "id": "5a1cf10c",
   "metadata": {},
   "source": [
    "#### alias = Fd"
   ]
  },
  {
   "cell_type": "code",
   "execution_count": 23,
   "id": "361222fd",
   "metadata": {},
   "outputs": [
    {
     "name": "stdout",
     "output_type": "stream",
     "text": [
      "Another Copy of dictionary named alias:  {'one': 'aik', 'three': 'teen', 'ten': 'das', 'fifteen': 'pandra'}\n"
     ]
    }
   ],
   "source": [
    "alias = Fd \n",
    "print(\"Another Copy of dictionary named alias: \" ,alias)"
   ]
  },
  {
   "cell_type": "markdown",
   "id": "919e9f59",
   "metadata": {},
   "source": [
    "#### Now let alias [‘three’] = ‘3’, now print alias and observe the result"
   ]
  },
  {
   "cell_type": "code",
   "execution_count": 24,
   "id": "6844b753",
   "metadata": {},
   "outputs": [
    {
     "name": "stdout",
     "output_type": "stream",
     "text": [
      "Change the key 'three' by value '3':  {'one': 'aik', 'three': '3', 'ten': 'das', 'fifteen': 'pandra'}\n"
     ]
    }
   ],
   "source": [
    "alias['three'] = '3'\n",
    "print(\"Change the key 'three' by value '3': \",alias)"
   ]
  },
  {
   "cell_type": "markdown",
   "id": "021f6fc0",
   "metadata": {},
   "source": [
    "#### Also let copy [‘three’] = ‘3’, now print copy and observe the result"
   ]
  },
  {
   "cell_type": "code",
   "execution_count": 25,
   "id": "eedf0bc4",
   "metadata": {},
   "outputs": [
    {
     "name": "stdout",
     "output_type": "stream",
     "text": [
      "Change the key 'three' by value '3':  {'one': 'aik', 'three': '3', 'ten': 'das', 'fifteen': 'pandra'}\n"
     ]
    }
   ],
   "source": [
    "copy['three'] = '3'\n",
    "print(\"Change the key 'three' by value '3': \", copy)"
   ]
  }
 ],
 "metadata": {
  "kernelspec": {
   "display_name": "Python 3 (ipykernel)",
   "language": "python",
   "name": "python3"
  },
  "language_info": {
   "codemirror_mode": {
    "name": "ipython",
    "version": 3
   },
   "file_extension": ".py",
   "mimetype": "text/x-python",
   "name": "python",
   "nbconvert_exporter": "python",
   "pygments_lexer": "ipython3",
   "version": "3.11.5"
  }
 },
 "nbformat": 4,
 "nbformat_minor": 5
}
